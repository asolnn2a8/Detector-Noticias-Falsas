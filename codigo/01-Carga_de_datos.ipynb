{
 "cells": [
  {
   "cell_type": "markdown",
   "metadata": {},
   "source": [
    "# Carga de datos"
   ]
  },
  {
   "cell_type": "markdown",
   "metadata": {
    "heading_collapsed": true
   },
   "source": [
    "## Librerias"
   ]
  },
  {
   "cell_type": "code",
   "execution_count": 1,
   "metadata": {
    "ExecuteTime": {
     "end_time": "2020-07-31T23:52:54.375391Z",
     "start_time": "2020-07-31T23:52:52.788599Z"
    },
    "hidden": true
   },
   "outputs": [],
   "source": [
    "from os import path\n",
    "import pandas as pd\n",
    "import numpy as np\n",
    "import matplotlib.pyplot as plt"
   ]
  },
  {
   "cell_type": "markdown",
   "metadata": {
    "heading_collapsed": true
   },
   "source": [
    "## Constantes"
   ]
  },
  {
   "cell_type": "code",
   "execution_count": 2,
   "metadata": {
    "ExecuteTime": {
     "end_time": "2020-07-31T23:52:54.382362Z",
     "start_time": "2020-07-31T23:52:54.377408Z"
    },
    "hidden": true
   },
   "outputs": [],
   "source": [
    "SAVE_DATAFRAME = False\n",
    "SAVE_FIG = False\n",
    "\n",
    "PATH_MAIN = path.join(\"..\")\n",
    "PATH_DATA = path.join(PATH_MAIN, \"datos\")\n",
    "\n",
    "PATH_FAKE = path.join(PATH_DATA, \"Fake.csv\")\n",
    "PATH_TRUE = path.join(PATH_DATA, \"True.csv\")"
   ]
  },
  {
   "cell_type": "markdown",
   "metadata": {
    "heading_collapsed": true
   },
   "source": [
    "## Carga del dataframe\n",
    "\n",
    "En esta sección cargamos los DataFrames y además le ponemos una etiqueta de que si es una noticia verdadera o falsa, para posteriormente unir los DataFrames."
   ]
  },
  {
   "cell_type": "markdown",
   "metadata": {
    "heading_collapsed": true,
    "hidden": true
   },
   "source": [
    "### DataFrame de True"
   ]
  },
  {
   "cell_type": "code",
   "execution_count": 3,
   "metadata": {
    "ExecuteTime": {
     "end_time": "2020-07-31T23:52:54.395328Z",
     "start_time": "2020-07-31T23:52:54.386411Z"
    },
    "hidden": true
   },
   "outputs": [],
   "source": [
    "# Nombre de la columna que almacenará la \n",
    "# información de si es una noticia verdadera o falsa\n",
    "name_col = \"true\""
   ]
  },
  {
   "cell_type": "code",
   "execution_count": 4,
   "metadata": {
    "ExecuteTime": {
     "end_time": "2020-07-31T23:52:55.422618Z",
     "start_time": "2020-07-31T23:52:54.398319Z"
    },
    "hidden": true,
    "scrolled": true
   },
   "outputs": [
    {
     "data": {
      "text/html": [
       "<div>\n",
       "<style scoped>\n",
       "    .dataframe tbody tr th:only-of-type {\n",
       "        vertical-align: middle;\n",
       "    }\n",
       "\n",
       "    .dataframe tbody tr th {\n",
       "        vertical-align: top;\n",
       "    }\n",
       "\n",
       "    .dataframe thead th {\n",
       "        text-align: right;\n",
       "    }\n",
       "</style>\n",
       "<table border=\"1\" class=\"dataframe\">\n",
       "  <thead>\n",
       "    <tr style=\"text-align: right;\">\n",
       "      <th></th>\n",
       "      <th>title</th>\n",
       "      <th>text</th>\n",
       "      <th>subject</th>\n",
       "      <th>date</th>\n",
       "      <th>true</th>\n",
       "    </tr>\n",
       "  </thead>\n",
       "  <tbody>\n",
       "    <tr>\n",
       "      <th>0</th>\n",
       "      <td>As U.S. budget fight looms, Republicans flip t...</td>\n",
       "      <td>WASHINGTON (Reuters) - The head of a conservat...</td>\n",
       "      <td>politicsNews</td>\n",
       "      <td>December 31, 2017</td>\n",
       "      <td>1</td>\n",
       "    </tr>\n",
       "    <tr>\n",
       "      <th>1</th>\n",
       "      <td>U.S. military to accept transgender recruits o...</td>\n",
       "      <td>WASHINGTON (Reuters) - Transgender people will...</td>\n",
       "      <td>politicsNews</td>\n",
       "      <td>December 29, 2017</td>\n",
       "      <td>1</td>\n",
       "    </tr>\n",
       "    <tr>\n",
       "      <th>2</th>\n",
       "      <td>Senior U.S. Republican senator: 'Let Mr. Muell...</td>\n",
       "      <td>WASHINGTON (Reuters) - The special counsel inv...</td>\n",
       "      <td>politicsNews</td>\n",
       "      <td>December 31, 2017</td>\n",
       "      <td>1</td>\n",
       "    </tr>\n",
       "    <tr>\n",
       "      <th>3</th>\n",
       "      <td>FBI Russia probe helped by Australian diplomat...</td>\n",
       "      <td>WASHINGTON (Reuters) - Trump campaign adviser ...</td>\n",
       "      <td>politicsNews</td>\n",
       "      <td>December 30, 2017</td>\n",
       "      <td>1</td>\n",
       "    </tr>\n",
       "    <tr>\n",
       "      <th>4</th>\n",
       "      <td>Trump wants Postal Service to charge 'much mor...</td>\n",
       "      <td>SEATTLE/WASHINGTON (Reuters) - President Donal...</td>\n",
       "      <td>politicsNews</td>\n",
       "      <td>December 29, 2017</td>\n",
       "      <td>1</td>\n",
       "    </tr>\n",
       "  </tbody>\n",
       "</table>\n",
       "</div>"
      ],
      "text/plain": [
       "                                               title  \\\n",
       "0  As U.S. budget fight looms, Republicans flip t...   \n",
       "1  U.S. military to accept transgender recruits o...   \n",
       "2  Senior U.S. Republican senator: 'Let Mr. Muell...   \n",
       "3  FBI Russia probe helped by Australian diplomat...   \n",
       "4  Trump wants Postal Service to charge 'much mor...   \n",
       "\n",
       "                                                text       subject  \\\n",
       "0  WASHINGTON (Reuters) - The head of a conservat...  politicsNews   \n",
       "1  WASHINGTON (Reuters) - Transgender people will...  politicsNews   \n",
       "2  WASHINGTON (Reuters) - The special counsel inv...  politicsNews   \n",
       "3  WASHINGTON (Reuters) - Trump campaign adviser ...  politicsNews   \n",
       "4  SEATTLE/WASHINGTON (Reuters) - President Donal...  politicsNews   \n",
       "\n",
       "                 date  true  \n",
       "0  December 31, 2017      1  \n",
       "1  December 29, 2017      1  \n",
       "2  December 31, 2017      1  \n",
       "3  December 30, 2017      1  \n",
       "4  December 29, 2017      1  "
      ]
     },
     "execution_count": 4,
     "metadata": {},
     "output_type": "execute_result"
    }
   ],
   "source": [
    "# Cargamos DataFrame\n",
    "df_true = pd.read_csv(PATH_TRUE)\n",
    "\n",
    "# Agregamos nueva columna\n",
    "df_true[name_col] = 1\n",
    "\n",
    "df_true.head()"
   ]
  },
  {
   "cell_type": "markdown",
   "metadata": {
    "heading_collapsed": true,
    "hidden": true
   },
   "source": [
    "### DataFrame de Fake"
   ]
  },
  {
   "cell_type": "code",
   "execution_count": 5,
   "metadata": {
    "ExecuteTime": {
     "end_time": "2020-07-31T23:52:56.830288Z",
     "start_time": "2020-07-31T23:52:55.430591Z"
    },
    "hidden": true
   },
   "outputs": [
    {
     "data": {
      "text/html": [
       "<div>\n",
       "<style scoped>\n",
       "    .dataframe tbody tr th:only-of-type {\n",
       "        vertical-align: middle;\n",
       "    }\n",
       "\n",
       "    .dataframe tbody tr th {\n",
       "        vertical-align: top;\n",
       "    }\n",
       "\n",
       "    .dataframe thead th {\n",
       "        text-align: right;\n",
       "    }\n",
       "</style>\n",
       "<table border=\"1\" class=\"dataframe\">\n",
       "  <thead>\n",
       "    <tr style=\"text-align: right;\">\n",
       "      <th></th>\n",
       "      <th>title</th>\n",
       "      <th>text</th>\n",
       "      <th>subject</th>\n",
       "      <th>date</th>\n",
       "      <th>true</th>\n",
       "    </tr>\n",
       "  </thead>\n",
       "  <tbody>\n",
       "    <tr>\n",
       "      <th>0</th>\n",
       "      <td>Donald Trump Sends Out Embarrassing New Year’...</td>\n",
       "      <td>Donald Trump just couldn t wish all Americans ...</td>\n",
       "      <td>News</td>\n",
       "      <td>December 31, 2017</td>\n",
       "      <td>0</td>\n",
       "    </tr>\n",
       "    <tr>\n",
       "      <th>1</th>\n",
       "      <td>Drunk Bragging Trump Staffer Started Russian ...</td>\n",
       "      <td>House Intelligence Committee Chairman Devin Nu...</td>\n",
       "      <td>News</td>\n",
       "      <td>December 31, 2017</td>\n",
       "      <td>0</td>\n",
       "    </tr>\n",
       "    <tr>\n",
       "      <th>2</th>\n",
       "      <td>Sheriff David Clarke Becomes An Internet Joke...</td>\n",
       "      <td>On Friday, it was revealed that former Milwauk...</td>\n",
       "      <td>News</td>\n",
       "      <td>December 30, 2017</td>\n",
       "      <td>0</td>\n",
       "    </tr>\n",
       "    <tr>\n",
       "      <th>3</th>\n",
       "      <td>Trump Is So Obsessed He Even Has Obama’s Name...</td>\n",
       "      <td>On Christmas day, Donald Trump announced that ...</td>\n",
       "      <td>News</td>\n",
       "      <td>December 29, 2017</td>\n",
       "      <td>0</td>\n",
       "    </tr>\n",
       "    <tr>\n",
       "      <th>4</th>\n",
       "      <td>Pope Francis Just Called Out Donald Trump Dur...</td>\n",
       "      <td>Pope Francis used his annual Christmas Day mes...</td>\n",
       "      <td>News</td>\n",
       "      <td>December 25, 2017</td>\n",
       "      <td>0</td>\n",
       "    </tr>\n",
       "  </tbody>\n",
       "</table>\n",
       "</div>"
      ],
      "text/plain": [
       "                                               title  \\\n",
       "0   Donald Trump Sends Out Embarrassing New Year’...   \n",
       "1   Drunk Bragging Trump Staffer Started Russian ...   \n",
       "2   Sheriff David Clarke Becomes An Internet Joke...   \n",
       "3   Trump Is So Obsessed He Even Has Obama’s Name...   \n",
       "4   Pope Francis Just Called Out Donald Trump Dur...   \n",
       "\n",
       "                                                text subject  \\\n",
       "0  Donald Trump just couldn t wish all Americans ...    News   \n",
       "1  House Intelligence Committee Chairman Devin Nu...    News   \n",
       "2  On Friday, it was revealed that former Milwauk...    News   \n",
       "3  On Christmas day, Donald Trump announced that ...    News   \n",
       "4  Pope Francis used his annual Christmas Day mes...    News   \n",
       "\n",
       "                date  true  \n",
       "0  December 31, 2017     0  \n",
       "1  December 31, 2017     0  \n",
       "2  December 30, 2017     0  \n",
       "3  December 29, 2017     0  \n",
       "4  December 25, 2017     0  "
      ]
     },
     "execution_count": 5,
     "metadata": {},
     "output_type": "execute_result"
    }
   ],
   "source": [
    "# Cargamos DataFrame\n",
    "df_fake = pd.read_csv(PATH_FAKE)\n",
    "\n",
    "# Agregamos nueva columna\n",
    "df_fake[name_col] = 0\n",
    "\n",
    "del name_col\n",
    "\n",
    "df_fake.head()"
   ]
  },
  {
   "cell_type": "markdown",
   "metadata": {
    "heading_collapsed": true,
    "hidden": true
   },
   "source": [
    "### Merge entre DataFrames\n",
    "Unimos los DataFrames, ahora que se tiene una indexización."
   ]
  },
  {
   "cell_type": "code",
   "execution_count": 6,
   "metadata": {
    "ExecuteTime": {
     "end_time": "2020-07-31T23:52:56.896468Z",
     "start_time": "2020-07-31T23:52:56.842256Z"
    },
    "hidden": true
   },
   "outputs": [
    {
     "data": {
      "text/html": [
       "<div>\n",
       "<style scoped>\n",
       "    .dataframe tbody tr th:only-of-type {\n",
       "        vertical-align: middle;\n",
       "    }\n",
       "\n",
       "    .dataframe tbody tr th {\n",
       "        vertical-align: top;\n",
       "    }\n",
       "\n",
       "    .dataframe thead th {\n",
       "        text-align: right;\n",
       "    }\n",
       "</style>\n",
       "<table border=\"1\" class=\"dataframe\">\n",
       "  <thead>\n",
       "    <tr style=\"text-align: right;\">\n",
       "      <th></th>\n",
       "      <th>title</th>\n",
       "      <th>text</th>\n",
       "      <th>subject</th>\n",
       "      <th>date</th>\n",
       "      <th>true</th>\n",
       "    </tr>\n",
       "  </thead>\n",
       "  <tbody>\n",
       "    <tr>\n",
       "      <th>0</th>\n",
       "      <td>As U.S. budget fight looms, Republicans flip t...</td>\n",
       "      <td>WASHINGTON (Reuters) - The head of a conservat...</td>\n",
       "      <td>politicsNews</td>\n",
       "      <td>December 31, 2017</td>\n",
       "      <td>1</td>\n",
       "    </tr>\n",
       "    <tr>\n",
       "      <th>1</th>\n",
       "      <td>U.S. military to accept transgender recruits o...</td>\n",
       "      <td>WASHINGTON (Reuters) - Transgender people will...</td>\n",
       "      <td>politicsNews</td>\n",
       "      <td>December 29, 2017</td>\n",
       "      <td>1</td>\n",
       "    </tr>\n",
       "    <tr>\n",
       "      <th>2</th>\n",
       "      <td>Senior U.S. Republican senator: 'Let Mr. Muell...</td>\n",
       "      <td>WASHINGTON (Reuters) - The special counsel inv...</td>\n",
       "      <td>politicsNews</td>\n",
       "      <td>December 31, 2017</td>\n",
       "      <td>1</td>\n",
       "    </tr>\n",
       "    <tr>\n",
       "      <th>3</th>\n",
       "      <td>FBI Russia probe helped by Australian diplomat...</td>\n",
       "      <td>WASHINGTON (Reuters) - Trump campaign adviser ...</td>\n",
       "      <td>politicsNews</td>\n",
       "      <td>December 30, 2017</td>\n",
       "      <td>1</td>\n",
       "    </tr>\n",
       "    <tr>\n",
       "      <th>4</th>\n",
       "      <td>Trump wants Postal Service to charge 'much mor...</td>\n",
       "      <td>SEATTLE/WASHINGTON (Reuters) - President Donal...</td>\n",
       "      <td>politicsNews</td>\n",
       "      <td>December 29, 2017</td>\n",
       "      <td>1</td>\n",
       "    </tr>\n",
       "  </tbody>\n",
       "</table>\n",
       "</div>"
      ],
      "text/plain": [
       "                                               title  \\\n",
       "0  As U.S. budget fight looms, Republicans flip t...   \n",
       "1  U.S. military to accept transgender recruits o...   \n",
       "2  Senior U.S. Republican senator: 'Let Mr. Muell...   \n",
       "3  FBI Russia probe helped by Australian diplomat...   \n",
       "4  Trump wants Postal Service to charge 'much mor...   \n",
       "\n",
       "                                                text       subject  \\\n",
       "0  WASHINGTON (Reuters) - The head of a conservat...  politicsNews   \n",
       "1  WASHINGTON (Reuters) - Transgender people will...  politicsNews   \n",
       "2  WASHINGTON (Reuters) - The special counsel inv...  politicsNews   \n",
       "3  WASHINGTON (Reuters) - Trump campaign adviser ...  politicsNews   \n",
       "4  SEATTLE/WASHINGTON (Reuters) - President Donal...  politicsNews   \n",
       "\n",
       "                 date  true  \n",
       "0  December 31, 2017      1  \n",
       "1  December 29, 2017      1  \n",
       "2  December 31, 2017      1  \n",
       "3  December 30, 2017      1  \n",
       "4  December 29, 2017      1  "
      ]
     },
     "execution_count": 6,
     "metadata": {},
     "output_type": "execute_result"
    }
   ],
   "source": [
    "df = df_true.append(df_fake, ignore_index=True)\n",
    "df.head()"
   ]
  },
  {
   "cell_type": "markdown",
   "metadata": {
    "heading_collapsed": true,
    "hidden": true
   },
   "source": [
    "### Columnas del DataFrame"
   ]
  },
  {
   "cell_type": "code",
   "execution_count": 7,
   "metadata": {
    "ExecuteTime": {
     "end_time": "2020-07-31T23:52:56.914421Z",
     "start_time": "2020-07-31T23:52:56.900458Z"
    },
    "hidden": true
   },
   "outputs": [
    {
     "data": {
      "text/plain": [
       "['title', 'text', 'subject', 'date', 'true']"
      ]
     },
     "execution_count": 7,
     "metadata": {},
     "output_type": "execute_result"
    }
   ],
   "source": [
    "# Solo basta un dataframe pues comparten el nombre de las columnas\n",
    "columnas = list(df.columns)\n",
    "columnas"
   ]
  },
  {
   "cell_type": "markdown",
   "metadata": {
    "heading_collapsed": true
   },
   "source": [
    "## Información de los datasets"
   ]
  },
  {
   "cell_type": "markdown",
   "metadata": {
    "heading_collapsed": true,
    "hidden": true
   },
   "source": [
    "### Información de los datasets"
   ]
  },
  {
   "cell_type": "markdown",
   "metadata": {
    "hidden": true
   },
   "source": [
    "Visualizamos la información de las filas de los datasets."
   ]
  },
  {
   "cell_type": "code",
   "execution_count": 8,
   "metadata": {
    "ExecuteTime": {
     "end_time": "2020-07-31T23:52:56.954773Z",
     "start_time": "2020-07-31T23:52:56.917410Z"
    },
    "hidden": true
   },
   "outputs": [
    {
     "name": "stdout",
     "output_type": "stream",
     "text": [
      "<class 'pandas.core.frame.DataFrame'>\n",
      "RangeIndex: 21417 entries, 0 to 21416\n",
      "Data columns (total 5 columns):\n",
      " #   Column   Non-Null Count  Dtype \n",
      "---  ------   --------------  ----- \n",
      " 0   title    21417 non-null  object\n",
      " 1   text     21417 non-null  object\n",
      " 2   subject  21417 non-null  object\n",
      " 3   date     21417 non-null  object\n",
      " 4   true     21417 non-null  int64 \n",
      "dtypes: int64(1), object(4)\n",
      "memory usage: 836.7+ KB\n"
     ]
    }
   ],
   "source": [
    "df_true.info(verbose=True)"
   ]
  },
  {
   "cell_type": "code",
   "execution_count": 9,
   "metadata": {
    "ExecuteTime": {
     "end_time": "2020-07-31T23:52:56.978710Z",
     "start_time": "2020-07-31T23:52:56.959759Z"
    },
    "hidden": true
   },
   "outputs": [
    {
     "name": "stdout",
     "output_type": "stream",
     "text": [
      "<class 'pandas.core.frame.DataFrame'>\n",
      "RangeIndex: 23481 entries, 0 to 23480\n",
      "Data columns (total 5 columns):\n",
      " #   Column   Non-Null Count  Dtype \n",
      "---  ------   --------------  ----- \n",
      " 0   title    23481 non-null  object\n",
      " 1   text     23481 non-null  object\n",
      " 2   subject  23481 non-null  object\n",
      " 3   date     23481 non-null  object\n",
      " 4   true     23481 non-null  int64 \n",
      "dtypes: int64(1), object(4)\n",
      "memory usage: 917.4+ KB\n"
     ]
    }
   ],
   "source": [
    "df_fake.info(verbose=True)"
   ]
  },
  {
   "cell_type": "code",
   "execution_count": 10,
   "metadata": {
    "ExecuteTime": {
     "end_time": "2020-07-31T23:52:57.022596Z",
     "start_time": "2020-07-31T23:52:56.981706Z"
    },
    "hidden": true
   },
   "outputs": [
    {
     "name": "stdout",
     "output_type": "stream",
     "text": [
      "<class 'pandas.core.frame.DataFrame'>\n",
      "RangeIndex: 44898 entries, 0 to 44897\n",
      "Data columns (total 5 columns):\n",
      " #   Column   Non-Null Count  Dtype \n",
      "---  ------   --------------  ----- \n",
      " 0   title    44898 non-null  object\n",
      " 1   text     44898 non-null  object\n",
      " 2   subject  44898 non-null  object\n",
      " 3   date     44898 non-null  object\n",
      " 4   true     44898 non-null  int64 \n",
      "dtypes: int64(1), object(4)\n",
      "memory usage: 1.7+ MB\n"
     ]
    }
   ],
   "source": [
    "df.info(verbose=True)"
   ]
  },
  {
   "cell_type": "markdown",
   "metadata": {
    "heading_collapsed": true,
    "hidden": true
   },
   "source": [
    "### Eliminar los datos que no sean fechas\n",
    "En algunas filas de los DataFrames hay información etiquetada como fecha, cuando no corresponde a una fecha. Reemplazamos estos valores por un tipo de dato NaT y los dropeamos."
   ]
  },
  {
   "cell_type": "code",
   "execution_count": 11,
   "metadata": {
    "ExecuteTime": {
     "end_time": "2020-07-31T23:52:57.036556Z",
     "start_time": "2020-07-31T23:52:57.026581Z"
    },
    "code_folding": [
     0
    ],
    "hidden": true
   },
   "outputs": [],
   "source": [
    "def is_date(string, fuzzy=False):\n",
    "    \"\"\"\n",
    "    Return whether the string can be interpreted as a date.\n",
    "\n",
    "    :Param string: str, string to check for date\n",
    "    :Param fuzzy: bool, ignore unknown tokens in string if True\n",
    "    \"\"\"\n",
    "    from dateutil.parser import parse\n",
    "    \n",
    "    try: \n",
    "        parse(string, fuzzy=fuzzy)\n",
    "        return True\n",
    "\n",
    "    except ValueError:\n",
    "        return False"
   ]
  },
  {
   "cell_type": "code",
   "execution_count": 12,
   "metadata": {
    "ExecuteTime": {
     "end_time": "2020-07-31T23:53:23.548778Z",
     "start_time": "2020-07-31T23:52:57.041541Z"
    },
    "hidden": true
   },
   "outputs": [],
   "source": [
    "nat = np.datetime64('NaT')\n",
    "\n",
    "def nat_conversor(x): return pd.Timestamp(x) if is_date(x) else nat\n",
    "\n",
    "df_fake[\"date\"] = df_fake[\"date\"].apply(nat_conversor)\n",
    "df_true[\"date\"] = df_true[\"date\"].apply(nat_conversor)\n",
    "df[\"date\"] = df[\"date\"].apply(nat_conversor)\n",
    "\n",
    "L_df = [df_fake, df_true, df]\n",
    "\n",
    "for df_ in L_df:\n",
    "    df_.dropna(inplace=True)\n",
    "\n",
    "del nat_conversor, nat"
   ]
  },
  {
   "cell_type": "markdown",
   "metadata": {
    "heading_collapsed": true,
    "hidden": true
   },
   "source": [
    "### Variables únicas"
   ]
  },
  {
   "cell_type": "markdown",
   "metadata": {
    "hidden": true
   },
   "source": [
    "En principio, la columna `'title'` y `'text'` no son ni númericas, ni categóricas. `'date'` es un tipo de variable temporal, mientras que `'subject'` es una variable categórica. \n",
    "\n",
    "Veamos cuantas variables categóricas diferentes hay para cada `DataFrame`."
   ]
  },
  {
   "cell_type": "code",
   "execution_count": 16,
   "metadata": {
    "ExecuteTime": {
     "end_time": "2020-07-31T23:53:23.648747Z",
     "start_time": "2020-07-31T23:53:23.637744Z"
    },
    "hidden": true
   },
   "outputs": [
    {
     "data": {
      "text/plain": [
       "array(['politicsNews', 'worldnews'], dtype=object)"
      ]
     },
     "execution_count": 16,
     "metadata": {},
     "output_type": "execute_result"
    }
   ],
   "source": [
    "pd.unique(df_true.subject)"
   ]
  },
  {
   "cell_type": "code",
   "execution_count": 17,
   "metadata": {
    "ExecuteTime": {
     "end_time": "2020-07-31T23:53:23.663680Z",
     "start_time": "2020-07-31T23:53:23.651707Z"
    },
    "hidden": true
   },
   "outputs": [
    {
     "data": {
      "text/plain": [
       "array(['News', 'politics', 'Government News', 'left-news', 'US_News',\n",
       "       'Middle-east'], dtype=object)"
      ]
     },
     "execution_count": 17,
     "metadata": {},
     "output_type": "execute_result"
    }
   ],
   "source": [
    "pd.unique(df_fake.subject)"
   ]
  },
  {
   "cell_type": "markdown",
   "metadata": {
    "hidden": true
   },
   "source": [
    "¿A qué se refiere `'worldnews'`? Obtengamos una noticia de esta categoría para observarlo:"
   ]
  },
  {
   "cell_type": "code",
   "execution_count": 18,
   "metadata": {
    "ExecuteTime": {
     "end_time": "2020-07-31T23:53:23.679635Z",
     "start_time": "2020-07-31T23:53:23.667665Z"
    },
    "code_folding": [
     0
    ],
    "hidden": true
   },
   "outputs": [],
   "source": [
    "def revisar_noticias(df, category, gap=5):\n",
    "    \"\"\"Entrega varias noticias de una categoría en específico.\n",
    "    'df' es el DataFrame, 'category' es la categoría que se quiere revisar\n",
    "    y 'gap' es el número de noticias que se quiere mostrar.\n",
    "    \"\"\"\n",
    "    df_ = df[df.subject == category]\n",
    "    df_.reset_index(inplace=True)\n",
    "    for i in range(gap):\n",
    "        print(\"Título:\", f'\"{df_.title[i]}\"')\n",
    "        print(\"Texto:\", f\"{df_.text[i]}\")\n",
    "        print(\"\\n\", \"-\" * 80, \"\\n\")"
   ]
  },
  {
   "cell_type": "code",
   "execution_count": 19,
   "metadata": {
    "ExecuteTime": {
     "end_time": "2020-07-31T23:53:23.716537Z",
     "start_time": "2020-07-31T23:53:23.682625Z"
    },
    "code_folding": [
     0
    ],
    "hidden": true,
    "scrolled": true
   },
   "outputs": [
    {
     "name": "stdout",
     "output_type": "stream",
     "text": [
      "Título: \"Reuters journalists in Myanmar appear in court, remanded for another 14 days\"\n",
      "Texto: YANGON (Reuters) - Two Reuters journalists who have been detained in Myanmar for the past two weeks were remanded in custody for a further two weeks on Wednesday as a probe continues into allegations they breached the nation s Official Secrets Act. Judge Ohn Myint granted the 14-day extension in the case of the journalists, Wa Lone, 31, and Kyaw Soe Oo, 27, at the request of the police, who then took them to Yangon s Insein prison. They were previously being held in a police compound. When they appeared at the Mingaladon court for the proceedings, Wa Lone and Kyaw Soe Oo were allowed to meet their families and their lawyer for the first time since their arrest. The two journalists had worked on Reuters coverage of a crisis in the western state of Rakhine, where - according to United Nations  estimates - about 655,000 Rohingya Muslims have fled from a fierce military crackdown on militants. They were detained on Dec 12 after they had been invited to meet police officials over dinner. The Ministry of Information has said they  illegally acquired information with the intention to share it with foreign media  and faced charges under the British colonial-era Official Secrets Act, which carries a maximum prison sentence of 14 years. The two journalists said they had not been mistreated in custody.    The situation is okay,  Wa Lone said after the hearing.  We will face it the best we can because we have never done anything wrong,  he said.  We have never violated the media law nor ethics. We will continue to do our best.  A Reuters spokesperson said they should be freed.  These two journalists are being held for simply doing their jobs and have done nothing wrong. It is time for Wa Lone and Kyaw Soe Oo to be released,  the spokesperson said. About 100 journalists, lawyers and farmers held a protest in the town of Pyay, 290 km (180 miles) north of Yangon, to demand the release of Wa Lone and Kyaw Soe Oo, one of the participants said. Members of the Protection Committee for Myanmar Journalists sat draped in chains in a public square in the center of the town and wrote the names of the two arrested reporters on their palms, an often used symbol in Myanmar of solidarity with those in jail.  Government officials from some of the world s major nations, including the United States, Britain and Canada, as well as top U.N. officials, have previously called for their release. Dozens of reporters and cameramen were outside the courthouse in a northern district of Yangon for the appearance of the two journalists. They were brought in a white van, rather than a police truck, dressed in casual clothes and were not handcuffed.  Their lawyer, Than Zaw Aung, who has been retained by Reuters, also said the two had only been doing their job as journalists.  They are being accused under this charge while doing their work as media,  he told reporters. Lieutenant Colonel Myint Htwe, a senior staff officer from the Yangon Police Division, said:  We took action because they committed the crime. It needs to be solved in court.  Only their lawyer and the families of the two journalists,  along with police and government lawyers, were allowed into the courtroom. The families were later allowed to travel in the van as the two journalists were taken to prison.  I believe that he didn t commit any crime,  Pan Ei Mon, Wa Lone s wife, told Reuters.  I would like to request the government to consider releasing them.  Nyo Nyo Aye, a sister of Kyaw Soe Oo, said her brother told her he had not committed any offense.  I believe that he can come home soon,  she said. \n",
      "\n",
      " -------------------------------------------------------------------------------- \n",
      "\n",
      "Título: \"Kuwait says GCC to keep operating despite Qatar crisis\"\n",
      "Texto: DUBAI (Reuters) - Kuwait s deputy foreign minister said on Wednesday that the six-nation Gulf Cooperation Council would continue to operate despite a row among three of its members and Qatar that it has unsuccessfully sought to mediate. Saudi Arabia, the United Arab Emirates and Bahrain plus non-GCC member Egypt cut off diplomatic, travel and trade ties with Qatar in June, accusing it of supporting militants and their arch-foe Iran. Doha denies the charges and says their move is aimed at curtailing its sovereignty. Western nations have called for the countries, which are all close U.S. allies, to settle their differences in talks. The heads of state from the three boycotting countries skipped a GCC summit hosted by Kuwait s ruler in December, and the UAE called for the formation of a bilateral committee with Saudi Arabia on economic, political and military issues. But Kuwait appears determined to preserve the loose union set up in 1980 as a bulwark against larger neighbors Iraq and Iran, and said its reconciliation efforts would proceed. Despite the spat which appears to have no end in sight, the GCC s work  will not be frozen or disrupted,  Khaled Jarallah was quoted by state news agency KUNA as telling reporters on the sidelines of a conference in Kuwait.  After the summit in Kuwait, we are not worried about the future of the council,  Jarallah added.   Mediation efforts have not stopped, and a breakthrough will be achieved one day.  \n",
      "\n",
      " -------------------------------------------------------------------------------- \n",
      "\n",
      "Título: \"Nigeria says U.S. agrees delayed $593 million fighter plane sale\"\n",
      "Texto: ABUJA (Reuters) - The United States has formally agreed to sell 12 Super Tucano A-29 planes and weapons to Nigeria, the West African country s air force said, confirming the resurrection of a deal frozen by the Obama administration over rights concerns. Former U.S. President Barack Obama delayed the sale in one of his last decisions in office after the Nigerian Air Force bombed a refugee camp in January. But his successor Donald Trump decided to press on with the transaction to support Nigeria s efforts to fight Boko Haram militants and to boost U.S. defense jobs, sources told Reuters in April. The U.S. ambassador to Nigeria presented letters of offer and acceptance to Nigeria s air force earlier on Wednesday, the air force said in a statement.  It said the U.S. State Department had approved the sale and final agreements would be signed and necessary payments made before Feb. 20. There was no immediate statement from the U.S. embassy or from authorities in Washington. U.S. government and Nigerian Air Force officials would meet in early January to discuss the early delivery of the aircraft once payment had been made, the Nigerian air force said. The sale of the 12 aircraft, with weapons and services, is worth $593 million, and includes thousands of bombs and rockets.  The propeller-driven plane with reconnaissance, surveillance and attack capabilities, is made by Brazil s Embraer. A second production line is in Florida, in a partnership between Embraer and privately held Sierra Nevada Corp of Sparks, Nevada. The Super Tucano costs more than $10 million each and the price can go much higher depending on the configuration. It is powered by a Pratt & Whitney Canada PT 6 engine. \n",
      "\n",
      " -------------------------------------------------------------------------------- \n",
      "\n",
      "Título: \"Syrian rebels say discussing evacuation from territory near Israel\"\n",
      "Texto: BEIRUT (Reuters) - Syrian rebels in a pocket of land near where the Syrian, Lebanese and Israeli borders meet are negotiating a deal with the government to leave for other insurgent-held areas, rebel officials there said. The Syrian army, backed by Russian air power, Shi ite militias supported by Iran and local fighters from the Druze sect have besieged the rebel enclave around Beit Jin for weeks. In recent days it captured various positions, leaving the rebels trapped inside the town itself.  There is now negotiation on the departure of fighters and those who wish to leave with them,  said Abu Kanaan, an official in a local rebel group.  The militias are trying to convince them to evacuate to Idlib... There has been no agreement reached yet,  said Ibrahim al-Jebawi, an official with a Free Syrian Army faction familiar with the situation.  Syria s army and its allies have increasingly pushed for such evacuation deals for rebel enclaves near big cities or in other strategic locations after long periods of siege and bombardment.  The area around Beit Jin is sensitive because of its location next to the Israel-controlled Golan Heights.  Israel wants to keep Lebanon s Hezbollah, the most powerful of the Iran-backed militias aiding Syrian President Bashar al-Assad against the rebel groups, far away from its border with Syria.  It has repeatedly targeted military positions in Syria near the border after stray projectiles crossed into Israeli-controlled areas, and it has struck Hezbollah convoys and weapons caches inside Syria. \n",
      "\n",
      " -------------------------------------------------------------------------------- \n",
      "\n",
      "Título: \"Trump to host Norway's Solberg on Jan. 10, White House says\"\n",
      "Texto: WASHINGTON (Reuters) - U.S. President Donald Trump will host Norway s Prime Minister Erna Solberg in Washington next month to discuss various security and economic issues, the White House said on Wednesday. The two leaders will meet on Jan. 10 at the White House to talk about a range of topics including NATO and the fight against Islamic State as well as bilateral trade and investment, the White House said in a statement. \n",
      "\n",
      " -------------------------------------------------------------------------------- \n",
      "\n"
     ]
    }
   ],
   "source": [
    "revisar_noticias(df_true, \"worldnews\")"
   ]
  },
  {
   "cell_type": "markdown",
   "metadata": {
    "hidden": true
   },
   "source": [
    "Podemos decir entonces que una noticia de `'worldnews'` es una noticia estadounidense, que se refiere c/r al resto del mundo mundo."
   ]
  },
  {
   "cell_type": "markdown",
   "metadata": {
    "hidden": true
   },
   "source": [
    "¿Existirá un equivalente en `fakenews`? Empecemos por revisar la categoría `News`."
   ]
  },
  {
   "cell_type": "code",
   "execution_count": 20,
   "metadata": {
    "ExecuteTime": {
     "end_time": "2020-07-31T23:53:23.750375Z",
     "start_time": "2020-07-31T23:53:23.718530Z"
    },
    "hidden": true,
    "scrolled": true
   },
   "outputs": [
    {
     "name": "stdout",
     "output_type": "stream",
     "text": [
      "Título: \" Donald Trump Sends Out Embarrassing New Year’s Eve Message; This is Disturbing\"\n",
      "Texto: Donald Trump just couldn t wish all Americans a Happy New Year and leave it at that. Instead, he had to give a shout out to his enemies, haters and  the very dishonest fake news media.  The former reality show star had just one job to do and he couldn t do it. As our Country rapidly grows stronger and smarter, I want to wish all of my friends, supporters, enemies, haters, and even the very dishonest Fake News Media, a Happy and Healthy New Year,  President Angry Pants tweeted.  2018 will be a great year for America! As our Country rapidly grows stronger and smarter, I want to wish all of my friends, supporters, enemies, haters, and even the very dishonest Fake News Media, a Happy and Healthy New Year. 2018 will be a great year for America!  Donald J. Trump (@realDonaldTrump) December 31, 2017Trump s tweet went down about as welll as you d expect.What kind of president sends a New Year s greeting like this despicable, petty, infantile gibberish? Only Trump! His lack of decency won t even allow him to rise above the gutter long enough to wish the American citizens a happy new year!  Bishop Talbert Swan (@TalbertSwan) December 31, 2017no one likes you  Calvin (@calvinstowell) December 31, 2017Your impeachment would make 2018 a great year for America, but I ll also accept regaining control of Congress.  Miranda Yaver (@mirandayaver) December 31, 2017Do you hear yourself talk? When you have to include that many people that hate you you have to wonder? Why do the they all hate me?  Alan Sandoval (@AlanSandoval13) December 31, 2017Who uses the word Haters in a New Years wish??  Marlene (@marlene399) December 31, 2017You can t just say happy new year?  Koren pollitt (@Korencarpenter) December 31, 2017Here s Trump s New Year s Eve tweet from 2016.Happy New Year to all, including to my many enemies and those who have fought me and lost so badly they just don t know what to do. Love!  Donald J. Trump (@realDonaldTrump) December 31, 2016This is nothing new for Trump. He s been doing this for years.Trump has directed messages to his  enemies  and  haters  for New Year s, Easter, Thanksgiving, and the anniversary of 9/11. pic.twitter.com/4FPAe2KypA  Daniel Dale (@ddale8) December 31, 2017Trump s holiday tweets are clearly not presidential.How long did he work at Hallmark before becoming President?  Steven Goodine (@SGoodine) December 31, 2017He s always been like this . . . the only difference is that in the last few years, his filter has been breaking down.  Roy Schulze (@thbthttt) December 31, 2017Who, apart from a teenager uses the term haters?  Wendy (@WendyWhistles) December 31, 2017he s a fucking 5 year old  Who Knows (@rainyday80) December 31, 2017So, to all the people who voted for this a hole thinking he would change once he got into power, you were wrong! 70-year-old men don t change and now he s a year older.Photo by Andrew Burton/Getty Images.\n",
      "\n",
      " -------------------------------------------------------------------------------- \n",
      "\n",
      "Título: \" Drunk Bragging Trump Staffer Started Russian Collusion Investigation\"\n",
      "Texto: House Intelligence Committee Chairman Devin Nunes is going to have a bad day. He s been under the assumption, like many of us, that the Christopher Steele-dossier was what prompted the Russia investigation so he s been lashing out at the Department of Justice and the FBI in order to protect Trump. As it happens, the dossier is not what started the investigation, according to documents obtained by the New York Times.Former Trump campaign adviser George Papadopoulos was drunk in a wine bar when he revealed knowledge of Russian opposition research on Hillary Clinton.On top of that, Papadopoulos wasn t just a covfefe boy for Trump, as his administration has alleged. He had a much larger role, but none so damning as being a drunken fool in a wine bar. Coffee boys  don t help to arrange a New York meeting between Trump and President Abdel Fattah el-Sisi of Egypt two months before the election. It was known before that the former aide set up meetings with world leaders for Trump, but team Trump ran with him being merely a coffee boy.In May 2016, Papadopoulos revealed to Australian diplomat Alexander Downer that Russian officials were shopping around possible dirt on then-Democratic presidential nominee Hillary Clinton. Exactly how much Mr. Papadopoulos said that night at the Kensington Wine Rooms with the Australian, Alexander Downer, is unclear,  the report states.  But two months later, when leaked Democratic emails began appearing online, Australian officials passed the information about Mr. Papadopoulos to their American counterparts, according to four current and former American and foreign officials with direct knowledge of the Australians  role. Papadopoulos pleaded guilty to lying to the F.B.I. and is now a cooperating witness with Special Counsel Robert Mueller s team.This isn t a presidency. It s a badly scripted reality TV show.Photo by Win McNamee/Getty Images.\n",
      "\n",
      " -------------------------------------------------------------------------------- \n",
      "\n",
      "Título: \" Sheriff David Clarke Becomes An Internet Joke For Threatening To Poke People ‘In The Eye’\"\n",
      "Texto: On Friday, it was revealed that former Milwaukee Sheriff David Clarke, who was being considered for Homeland Security Secretary in Donald Trump s administration, has an email scandal of his own.In January, there was a brief run-in on a plane between Clarke and fellow passenger Dan Black, who he later had detained by the police for no reason whatsoever, except that maybe his feelings were hurt. Clarke messaged the police to stop Black after he deplaned, and now, a search warrant has been executed by the FBI to see the exchanges.Clarke is calling it fake news even though copies of the search warrant are on the Internet. I am UNINTIMIDATED by lib media attempts to smear and discredit me with their FAKE NEWS reports designed to silence me,  the former sheriff tweeted.  I will continue to poke them in the eye with a sharp stick and bitch slap these scum bags til they get it. I have been attacked by better people than them #MAGA I am UNINTIMIDATED by lib media attempts to smear and discredit me with their FAKE NEWS reports designed to silence me. I will continue to poke them in the eye with a sharp stick and bitch slap these scum bags til they get it. I have been attacked by better people than them #MAGA pic.twitter.com/XtZW5PdU2b  David A. Clarke, Jr. (@SheriffClarke) December 30, 2017He didn t stop there.BREAKING NEWS! When LYING LIB MEDIA makes up FAKE NEWS to smear me, the ANTIDOTE is go right at them. Punch them in the nose & MAKE THEM TASTE THEIR OWN BLOOD. Nothing gets a bully like LYING LIB MEDIA S attention better than to give them a taste of their own blood #neverbackdown pic.twitter.com/T2NY2psHCR  David A. Clarke, Jr. (@SheriffClarke) December 30, 2017The internet called him out.This is your local newspaper and that search warrant isn t fake, and just because the chose not to file charges at the time doesn t mean they won t! Especially if you continue to lie. Months after decision not to charge Clarke, email search warrant filed https://t.co/zcbyc4Wp5b  KeithLeBlanc (@KeithLeBlanc63) December 30, 2017I just hope the rest of the Village People aren t implicated.  Kirk Ketchum (@kirkketchum) December 30, 2017Slaw, baked potatoes, or French fries? pic.twitter.com/fWfXsZupxy  ALT- Immigration   (@ALT_uscis) December 30, 2017pic.twitter.com/ymsOBLjfxU  Pendulum Swinger (@PendulumSwngr) December 30, 2017you called your police friends to stand up for you when someone made fun of your hat  Chris Jackson (@ChrisCJackson) December 30, 2017Is it me, with this masterful pshop of your hat, which I seem to never tire of. I think it s the steely resolve in your one visible eye pic.twitter.com/dWr5k8ZEZV  Chris Mohney (@chrismohney) December 30, 2017Are you indicating with your fingers how many people died in your jail? I think you re a few fingers short, dipshit  Ike Barinholtz (@ikebarinholtz) December 30, 2017ROFL. Internet tough guy with fake flair. pic.twitter.com/ulCFddhkdy  KellMeCrazy (@Kel_MoonFace) December 30, 2017You re so edgy, buddy.  Mrs. SMH (@MRSSMH2) December 30, 2017Is his break over at Applebees?  Aaron (@feltrrr2) December 30, 2017Are you trying to earn your  still relevant  badge?  CircusRebel (@CircusDrew) December 30, 2017make sure to hydrate, drink lots of water. It s rumored that prisoners can be denied water by prison officials.  Robert Klinc (@RobertKlinc1) December 30, 2017Terrill Thomas, the 38-year-old black man who died of thirst in Clarke s Milwaukee County Jail cell this April, was a victim of homicide. We just thought we should point that out. It can t be repeated enough.Photo by Spencer Platt/Getty Images.\n",
      "\n",
      " -------------------------------------------------------------------------------- \n",
      "\n",
      "Título: \" Trump Is So Obsessed He Even Has Obama’s Name Coded Into His Website (IMAGES)\"\n",
      "Texto: On Christmas day, Donald Trump announced that he would  be back to work  the following day, but he is golfing for the fourth day in a row. The former reality show star blasted former President Barack Obama for playing golf and now Trump is on track to outpace the number of golf games his predecessor played.Updated my tracker of Trump s appearances at Trump properties.71 rounds of golf including today s. At this pace, he ll pass Obama s first-term total by July 24 next year. https://t.co/Fg7VacxRtJ pic.twitter.com/5gEMcjQTbH  Philip Bump (@pbump) December 29, 2017 That makes what a Washington Post reporter discovered on Trump s website really weird, but everything about this administration is bizarre AF. The coding contained a reference to Obama and golf:  Unlike Obama, we are working to fix the problem   and not on the golf course.  However, the coding wasn t done correctly.The website of Donald Trump, who has spent several days in a row at the golf course, is coded to serve up the following message in the event of an internal server error: https://t.co/zrWpyMXRcz pic.twitter.com/wiQSQNNzw0  Christopher Ingraham (@_cingraham) December 28, 2017That snippet of code appears to be on all https://t.co/dkhw0AlHB4 pages, which the footer says is paid for by the RNC? pic.twitter.com/oaZDT126B3  Christopher Ingraham (@_cingraham) December 28, 2017It s also all over https://t.co/ayBlGmk65Z. As others have noted in this thread, this is weird code and it s not clear it would ever actually display, but who knows.  Christopher Ingraham (@_cingraham) December 28, 2017After the coding was called out, the reference to Obama was deleted.UPDATE: The golf error message has been removed from the Trump and GOP websites. They also fixed the javascript  =  vs  ==  problem. Still not clear when these messages would actually display, since the actual 404 (and presumably 500) page displays a different message pic.twitter.com/Z7dmyQ5smy  Christopher Ingraham (@_cingraham) December 29, 2017That suggests someone at either RNC or the Trump admin is sensitive enough to Trump s golf problem to make this issue go away quickly once people noticed. You have no idea how much I d love to see the email exchange that led us here.  Christopher Ingraham (@_cingraham) December 29, 2017 The code was f-cked up.The best part about this is that they are using the  =  (assignment) operator which means that bit of code will never get run. If you look a few lines up  errorCode  will always be  404          (@tw1trsux) December 28, 2017trump s coders can t code. Nobody is surprised.  Tim Peterson (@timrpeterson) December 28, 2017Donald Trump is obsessed with Obama that his name was even in the coding of his website while he played golf again.Photo by Joe Raedle/Getty Images.\n",
      "\n",
      " -------------------------------------------------------------------------------- \n",
      "\n",
      "Título: \" Pope Francis Just Called Out Donald Trump During His Christmas Speech\"\n",
      "Texto: Pope Francis used his annual Christmas Day message to rebuke Donald Trump without even mentioning his name. The Pope delivered his message just days after members of the United Nations condemned Trump s move to recognize Jerusalem as the capital of Israel. The Pontiff prayed on Monday for the  peaceful coexistence of two states within mutually agreed and internationally recognized borders. We see Jesus in the children of the Middle East who continue to suffer because of growing tensions between Israelis and Palestinians,  Francis said.  On this festive day, let us ask the Lord for peace for Jerusalem and for all the Holy Land. Let us pray that the will to resume dialogue may prevail between the parties and that a negotiated solution can finally be reached. The Pope went on to plead for acceptance of refugees who have been forced from their homes, and that is an issue Trump continues to fight against. Francis used Jesus for which there was  no place in the inn  as an analogy. Today, as the winds of war are blowing in our world and an outdated model of development continues to produce human, societal and environmental decline, Christmas invites us to focus on the sign of the Child and to recognize him in the faces of little children, especially those for whom, like Jesus,  there is no place in the inn,  he said. Jesus knows well the pain of not being welcomed and how hard it is not to have a place to lay one s head,  he added.  May our hearts not be closed as they were in the homes of Bethlehem. The Pope said that Mary and Joseph were immigrants who struggled to find a safe place to stay in Bethlehem. They had to leave their people, their home, and their land,  Francis said.  This was no comfortable or easy journey for a young couple about to have a child.   At heart, they were full of hope and expectation because of the child about to be born; yet their steps were weighed down by the uncertainties and dangers that attend those who have to leave their home behind. So many other footsteps are hidden in the footsteps of Joseph and Mary,  Francis said Sunday. We see the tracks of entire families forced to set out in our own day. We see the tracks of millions of persons who do not choose to go away, but driven from their land, leave behind their dear ones. Amen to that.Photo by Christopher Furlong/Getty Images.\n",
      "\n",
      " -------------------------------------------------------------------------------- \n",
      "\n"
     ]
    }
   ],
   "source": [
    "revisar_noticias(df_fake, \"News\")"
   ]
  },
  {
   "cell_type": "markdown",
   "metadata": {
    "hidden": true
   },
   "source": [
    "Parecen ser simplemente noticias estándar, nada relacionado con noticias del mundo.\n",
    "\n",
    "Revisemos con la categoría `Middle-east`"
   ]
  },
  {
   "cell_type": "code",
   "execution_count": 21,
   "metadata": {
    "ExecuteTime": {
     "end_time": "2020-07-31T23:53:23.778301Z",
     "start_time": "2020-07-31T23:53:23.761347Z"
    },
    "hidden": true,
    "scrolled": true
   },
   "outputs": [
    {
     "name": "stdout",
     "output_type": "stream",
     "text": [
      "Título: \"YEAR IN REVIEW: 2017 Top Ten Conspiracies\"\n",
      "Texto: Patrick Henningsen and Shawn Helton 21st Century WireOnce again, we ve arrived at our New Years Eve wrap-up of some of the most compelling and conspiratorial stories of the year. Like in years past, 2017 presented a polarizing political landscape, further exposing the current establishment paradigm. Unlike the establishment gatekeepers, when we use the word  conspiracy  here, we are talking about a real crime scene. Whether it was the ousting of thousands of western-backed terrorists in Iraq and Syria or a string of  known wolf  attacks amplified by made-to-order media agitprop, or the heavily manufactured Russia-gate narrative relentlessly pushed by mainstream outlets and Deep State actors    it seemed there was no shortage of topsy-turvy stagecraft designed to mislead and confuse the masses at a time when the real world is undergoing some significant geopolitical realignments.As was the case in 2016, there were many high-profile incidents and individual stories which didn t make our annual compendium (but they are worth mentioning)   like the  red herring  laced New Year s Eve mass shooting at Turkey s Reina nightclub that kicked off 2017 in classic Daily Shooter fashion, along with other dubious events like Fort Lauderdale s FBI-known shooter and subsequent CNN media circus. On the political front, it was a banner year for astroturfing starting with  The Resistance  which spent most of the first 3 months of the year demanding Trump s impeachment before he had served 100 days in office. As part of these efforts, we saw Hollywood and the Democratic Party s choreographed women s march backed by political agitator and perennial globalist George Soros, as well as MoveOn.org and other Soros-backed protests which followed Trump s highly controversial immigration ban, as contentious resignations by key members of the Trump White House loomed large. The stage was then set for Antifa s US  riot tour  which culminated the Charlottesville riots in Virginia followed by a series of  social justice  protests over Confederate statues, followed by more extremist left-wing  antifascists  foot-soldiers like  black bloc  throwing molotov cocktails and smashing buildings for kicks. And that only scratches the surface of what transpired in 2017.Other notable stories throughout the year included the Trump administration s decision to announce the creation of an  Arab NATO headquartered in Saudi Arabia, the world s second-largest state sponsored of terror (US being the largest).  That geopolitical gambit then teed up the Trump White House to announce that the US Embassy in Tel Aviv would begin proceedings to move to Jerusalem, a shift which some critics believe is further evidence of an ultra-Zionist agenda encroaching on Israeli-occupied Palestine and the West Bank. On the Asia front, questions emerged over what North Korea actually has in terms of ICBM missiles and a nuclear deterrent, while in the Middle East speculation raged about Saudi Arabia s historic palace purge and sabre rattling in the region. The year then saw the exposure of a giant US-NATO-Saudi weapons trafficking operation using diplomatic flight in order to arm terrorists in Syria and Iraq. 2017 also saw the mainstream media continue to market the media construct known as Bana of Aleppo, expecting the public to believe that an 8 year old girl who could not speak English was running a Twitter account from war-torn (and terrorist-occupied) East Aleppo from the autumn of 2016   all the while waxing poetic about the evil Assad, and the evil Russians and calling for US military intervention in Syria  pure propaganda and a clear case of child exploitation. Interestingly, this outlandish Bana propaganda myth campaign has been shamelessly promoted by the multimillionaire Harry Potter author J.K. Rowling. 2017 also saw a wave of intelligence releases, set in motion by the CIA, who released more than 12 million documents pertaining to covert war programs, psychic research and the Cold War era, further outlining the symbiotic relationship between the agency and American media. This was followed by Wikileaks exposing much of the CIA s cyber hacking capabilities in their  Vault 7  and later in their  Vault 8  publications. Towards the end of the year, a new twist in the downing of MH17 revealed an apparent Netherlands cover-up, as another bizarre Daily Shooter event, the Texas Church shooting, would later disappear from headlines. Around the same time frame, new questions also emerged in the Sandy Hook saga concerning prior knowledge of the FBI, as New York was then stricken by a known wolf truck attacker. In December it was finally announced that after being held in prison for two years without trial, the Fed s Bundy Ranch Standoff case was declared a mistrial. However, most of the year s controversial stories were quickly pushed to the back page, buried underneath an avalanche of ready-to-go Weinstein-inspired sex abuse scandals involving Hollywood s elite punctuated by obligatory hashtag campaigns like #MeToo, before snagging a number of high-profile news media personalities and some of Washington s most coveted swamp dwellers. As an onslaught of new accusations flooded the media, the sordid revelation of a Congressional slush fund used to payoff sexual harassment accusers made headlines. The whole situation conjured DC s Conspiracy of Silence regarding tales of sexual misconduct in days past.All in all, it was another year of  hyper-real  media propaganda, as some stories published by mainstream media led to a cascade of retractions and corrections, and in certain cases, provided an all to convenient mask for other politically charged news throughout much of 2017. Unlike the mainstream media  official  conspiracies (like Russiagate), these ones are actually real  10.  The JFK Files  Over the course of 2017, one of America s most compelling conspiracies was reignited following the release of thousands of intelligence files long-held by the CIA and FBI. In late October, the Trump administration called for the release of the remaining JFK files, citing the JFK Assassination Records Collection Act deadline placed into law in 1992. While the material released was reportedly a mix of new and old, some critics declared that the recently declassified files revealed even more startling evidence related to the assassination of the 35th President of the United States, John F. Kennedy. This prompted larger legacy media establishments to provide a murky retelling of the JFK saga.  Predictably, a week after the releases, one newer CIA memo stated that any links between the CIA and Lee Harvey Oswald, were  unfounded.  In essence, the JFK file releases appear to have been a way for the political powers that be to shut the door on a conspiracy that has an overwhelming amount of information suggesting CIA links not only to Oswald, but many of the characters surrounding the case. In reality though, as newfound interest in the JFK files was reawakened, it cast light on the over five decade old case, reopening the door to coup d tat claims concerning JFK and Cold War era  false flag  terror. In particular, terror created by Operation GLADIO, a CIA-NATO construct, which utilized covert armies to subvert the political interests of various nations through the implementation of a Cold-War era strategy of tension. The further one digs into America s seedy underworld of organized crime, intelligence operations, unlikely coincidences and secretive relationships concerning the mysterious plot to kill Kennedy, a highly intricate web of activity emerges that points to a compelling case beyond almost any other modern-day conspiracy.9. Grenfell Tower Fire & Cover-Up   It was Britain s biggest domestic disaster post WWII, and from the minute this story broke, reports of government and corporate corruption began to surface. This real-life Towering Inferno featured some of the most surreal revelations, including a corrupt government Qango known as TMO (Tenant Management Organisation) who had paid a contractor to install highly flammable petroleum-based  cladding  on the building, supposedly to meet  green sustainability goals  but also to cover-up what wealthy property developers deemed as an eye sore (social housing high rise building), part of London s continuous and rampant  gentrification  property bubble agenda. The controversy did not stop with the fire itself though, as residents and concerned members of the public began to question the abnormally low death count which was being trumpeted by the media and the government agencies. Meanwhile, thousands of residents from Grenfell Tower and the surrounding buildings continued to suffer and mourn the loss of loved ones and friends   leaving in indellible scar on the community   while the government s elite Common Purpose management class continued on with business as usual. Six months on,  the public is still wondering whether anyone will be arrested, or held to account for this unprecedented story of criminal negligence. In one of its most seminal episodes, the SUNDAY WIRE radio show, along with its affiliate the UK Column, drove the investigative agenda early on in this story, with the mainstream media later picking talking points covered by this independent media outlet.8. The Crisis in Yemen   Back in January 2015   while the world was focused on the war in Syria, 21WIRE first raised the alarm over Yemen after it noticed the insatiable war-time president Barack Obama, along with Deep State and Pentagon media outlet CNN began drifting out talking points about Yemen. It wasn t long after that, in March 2015, that Saudi Arabia   with the full military and political backing of the US and UK, began an undeclared war of aggression against Saudi s neighbor Yemen. Nearly three years on, with tens of thousands slaughtered by Saudi airstrikes dropping their newly purchased US and UK munitions (and even enjoying air refueling by the US military) and with the Saudi and US military blockade which is keeping much-needed humanitarian aid from entering the war-ravaged country leading to mass starvation and disease outbreaks like cholera on the peninsula   why isn t the international community calling out the illegal war against Yemen for what it is   genocide? In order to prop-up their fake narrative on Yemen, the US and UK mainstream media conglomerates and their state propaganda directors from intelligence agency information warfare units have concocted a new batch of official disinformation lies and myths used to muddy the waters of this important discussion and ultimately justify their slaughter and arms sales bonanza in Yemen. On balance, what the US, UK and Saudi Arabia have done to Yemen is by orders of magnitude worse than what Nazi Germany did to its neighbors in the initial phase of WWII. Nothing less than a new Nuremberg Trial will be suitable to help correct this act of international barbarism.7. London s GLADIO-style Attacks  On March 22nd, an apparent two-pronged terror attack stretched from London s Westminster Bridge to Parliament Square. In the days leading up to the London attacks, it was revealed that Met Police rehearsed a  terrifyingly realistic drill on the River Thames prior to yet another known wolf act of terror taking place. Adding to the drama, the London attacks occurred exactly one year after the Brussels airport bombings. In addition, the bizarre and unexpected event took place during a massive uptick of Western allied involvement in the Syrian conflict and in less than 24 hours, London authorities revealed that the British-born attacker named Khalid Masood, (after media outlets erroneously reported the wrong suspect) was already well-known to MI5 and had worked in Saudi Arabia sometime between 2005-2008. Shortly after the attack, it was revealed that eye-witnesses reported seeing multiple assailants at the crime scene, this was something that directly contradicted the official story. In fact, in those reports, it was suggested that at least two individuals participated in the large-scale attack in one of the most heavily surveilled parts of London. This aspect of the case was quickly buried by major media outlets, echoing other high-profile cases involving  known wolf  terrorists. In recent years, there s been a pattern of multiple suspects often witnessed or said to be involved in other terror-related events. This proved to be the case in the aftermath of the Nice, France truck attack, as well as the Brussels airport bombing in 2016. Rather incredibly or unbelievably, London s acting Police Commissioner Craig Mackey, just so happened to be at the scene to  witness  the Parliament Square attack on Pc Keith Palmer. All in all, the latest symbolically charged  ISIS-approved  attack on the verge of spring, appeared to be an effort to polarize the perception of Western viewers with yet another round of wartime propaganda, while also providing a media smoke screen for recent US military action in Syria. By early summer, just after the Manchester arena bombing, London once again became a target of a purported multi-pronged terror event right on the heels of the UK s hotly contested 2017 general election. Afterwards, a number of questions were raised following the London Bridge attacks, just as there were following the Parliament Square, Westminster Bridge attacks and the Manchester Arena attack. It s important to note the common thread between each suspicious event, and the recent UK attacks are no exception   there s now indisputable evidence linking MI5 and MI6 British security services to various  known wolves  prior to carrying out the terror crimes mentioned above. The precarious relationship between security and terror is an ongoing pattern seen after almost every major terror attack on Western soil. Throughout 2017, the London attacks seemed to increase racial and ethnic tensions in the West, while also pushing the public into accepting a more direct military intervention in Syria, and new police state measures and surveillance powers in the UK   prompting us to ask, who benefited the most from the London Attacks? We d say the answer to that question is pretty obvious now 6. Manchester s  Known Wolf  Arena Attack  Another day, another conspiratorial crime. In this case, the public was witness to yet another known wolf  terror attack allegedly carried out by an  ISIS-inspired  individual who, as with numerous other cases, was under the gaze of MI5. The man named in the Manchester bombing attack, Salman Abedi, was also tied to a terror group supported by NATO in Libya during the operation to oust Muammar el-Qaddafi in 2011. The Manchester arena attack proved to be more than just blowback from security operations gone awry, it provided further evidence of complicity on behalf of the West in the  War On Terror  era. While some researchers and analysts were a buzz with the numerological synchronicities associated with the Manchester attack, others noted some very real political circumstances and significant timelines surrounding this apparent mass-tragedy in Manchester. The event just happened to arrive on the heels of a monolithic arms deals with Saudi Arabia worth $110 billion dollars that will total $350 billion over the next 10 years, and only shortly after the Manchester attack, there were US-led coalition airstrikes supposedly targeting ISIS in both Syria and Iraq   that killed 121 civilians in the process. The strikes led to increased tension, placing external pressure on the Russian-led Astana Peace Agreement in Syria, while continuing to benefit the strategic movements of ISIS in Syria. The really damning link however, was exposed by one major UK Government eyesore after the Manchester attacks: the revelation that a community of  outlawed  Libyan Islamic Fighting Group (LIFG) terrorists were in fact living in close proximity to the Manchester attacker Abedi, and directly connected to Abedi himself. This was a deeply troubling development for a public unaware of the nearby danger, as British security services and officials allowed this  thriving  group of fighters to reside in the UK seemingly without consequence or disclosure of their previous activities   until the Manchester attack. So naturally, when it was revealed that Ramadan Abedi (the father of the purported Manchester suicide bomber) was also a member of the UK government-backed Libyan Islamic Fighting Group (LIFG) and was believed to have been a part of LIFG during the NATO-backed regime change operation in Libya in 2011   it only raised more questions concerning the attack. It s worth noting, Libya s militant governor of Tripoli, Abdel Hakim Belhadj, was also a part of the Mujahideen fighters closely linked to Bin Laden who became known as al-Qaeda. In fact, Belhadj returned to his home country [in 1995] as head of the Libyan Islamic Fighting Group, an underground paramilitary organisation dedicated to Gaddafi s downfall. Over the years, Belhadj was incarcerated and turned loose back into the field after being rendered by the CIA and British security services. As of 2015, despite the Manchester attack links to LIFG, the group is still on the US State Department s Delisted Foreign Terrorist Organizations. In the days after the attack, authorities released CCTV imagery apparently depicting the Manchester attacker Abedi, in what appeared to be a way to dramatize the bombing through emotionally charged imagery, as the media obscured other facts and connections observed in the aftermath of the attack itself. The Manchester attack was similar to other high-profile incidents used to distort public opinion in the wake of media styled mass-tragedies.5.  The Las Vegas Mass Shooting   October 1st marked the return of the Great American Mass Shooting   a real record-breaker, complete with a shocking mile-long crime scene that stretched from the Las Vegas Mandalay Bay Resort and Casino to the nearby Route 91 Festival, where thousands of concertgoers suddenly became a target. Although America had seen a host of smaller, less sensationalized mass shootings throughout the course of 2017, including the bizarre Fort Lauderdale Airport Shooting and the strange Programmed to Kill Texas Church shooting, the high-profile Las Vegas calamity resuscitated the trauma inducing imagery so prevalent in the post-9/11 War On Terror era. This made-for-TV event was designed for media shock and awe, like  the 9/11 of Mass Shootings.  Over the past several years, 21WIRE has chronicled many bizarre shootings and mass casualty incidents that have rippled across America and Europe. These events have become a new kind of ritualized  crimescape  moving well beyond  security  concerns, but now accompanied by a complete range of  socio-political mainstream media talking points including race, religion,  gun reform ,  social media concerns  and domestic extremism   while concurrently obscuring and obfuscating the forensic reality of the crimes themselves. We re told that this tragic shooting attack was carried out by a classic  lone gunman    one individual without a criminal past (or nay past, as far as we could tell)  but there proved to be much more to the story. Adding to this  hyper-real  incident, the main suspect in the Las Vegas tragedy was also revealed to be a multi-millionaire  players club  member, 64 year-old Stephen Paddock. With no motive and no criminal history, Las Vegas police were tasked with uncovering details of a crime overseen by billionaire bosses at MGM Resorts International and the FBI. As authorities failed to uncover a clear motive for the crime, police scanner audio, along with eye-witness testimony suggested that multiple shooters may have been at the scene, although this aspect was downplayed by mainstream media. This was quickly followed by several official  revisions  in the timeline of the shooting and even the crime scene itself, as evidenced by this disastrous press conference which failed to yield any new information in the case. The star-witness of the shooting, Mandalay Bay security guard Jesus Campos, also vanished and was declared  missing  right before a major media interview, only to resurface much later on the oddest of media venues,  The Ellen DeGeneres Show,  giving media gatekeepers the chance to run interference for DeGeneres s slot machine business partners at MGM. Along the way, bizarre media performances by Paddock s brother, Eric Paddock, only prompted more questions and deepened the mystery surrounding this surreal case. While the public waited for MGM to release CCTV footage of the alleged shooter Paddock, not one tape materialized, except for an older tape from 2011. Staged photos of the Mandalay Bay crime scene led to other forensic questions concerning the weaponry used, compounding other acoustic anomalies already noted. Other confusing elements of the case included the missing hard drive from Paddock s laptop, another brother s arrest, the wiring of $100,000 to his live-in girlfriend s (Marilou Danley) home country, the Philippines, Paddock s previous employment at the predecessor company of Lockheed Martin, a reported break-in at one of his homes after the shooting, the absurd insertion of an  ISIS-inspired  motive (which a number of dubious click-bait media outlets ran with), and later seeing a back drop of active shooter related drills and government activity, along with details suggesting Paddock may not have been alone and much more. In the search for answers in America s largest-ever mass shooting, months later, we still have yet to see any CCTV footage of the alleged killer or his whereabouts leading up to the tragedy, as he moved in and around Las Vegas. Imagine that: no CCTV footage. While some have attempted to make sense of the Las Vegas shooting tragedy, there are reports of a major push to revamp security in the hospitality industry through the use of gunfire detection systems, X-ray, body scanners and facial recognition in the wake of this confusing, if not partly manufactured event. The popular media concept of a lone wolf killer in today s world has reprogrammed the public mind in the very same way that the serial killer phenomenon did decades ago. This new fear-based saga has ushered in a string of improbable Hollywood-style scenarios, inducing a frozen apathy across the masses. Rather than looking deeply at crime scene forensics or pouring over piles of collected data, these Daily Shooter crimes hold the public psyche hostage  until the next unexplained mass tragedy. Until the next episode 4. Syria s Sarin Gas False Flag  In less than 24 hours after the highly dubious alleged chemical attack on April 4th (reported to be Sarin gas by Western media) in Khan Shaykhun in the Idlib province of Syria, wide-scale unsubstantiated condemnation laid blame at the doorstep of the Syrian government and Russia following the release of video footage that had yet to be forensically scrutinized. In fact, the mainstream media flooded the airwaves with a bevy of circumstantial and speculative evidence   a far cry from actual hard evidence. Leaders in Washington and Western media outlets once again set the stage for wider military intervention in Syria. Days after the release of a forensically unproven chemical attack out of Khan Shaykhun, US President Donald Trump ordered a military strike on the Syrian government s Shayrat Air Base in response to the alleged chemical attack in Idlib. Trump s missile strike won him instant praise from the Pentagon media oracle CNN, as well as giddy celebrations by war-mongering neocons in the US. Perhaps the most telling aspect of  Syria s most recent mass casualty terror tragedy, was the suspicious involvement of the US-UK-NATO-Gulf state backed NGO known as the White Helmets  a group who once again was witnessed in wartime imagery that was not only full of anomalies but a production designed to evoke an emotional response rather than one based in rationality. Since their inception in late 2013, the White Helmets have largely conducted their so-called rescue operations in rebel-terrorist held areas in Syria, while producing an unprecedented amount of western-oriented war propaganda for nations deeply invested in arming and backing rebel-terrorists vying for regime change in Syria. Nearly two weeks after the alleged sarin gas attack, Massachusetts Institute of Technology (MIT) Professor Theodore Postol directly disputed claims concerning the official US report regarding the alleged chemical weapons attack out of Khan Shaykhun in the  rebel-held  terrorist-occupied Idlib province of Syria. Postol s initial analysis, along with its addendum, appeared to echo what MIT research affiliate and former US Congressional staffer Subrata Ghoshroy observed in the aftermath of the Syrian chemical incident in East Ghouta, Damascus in 2013. In addition, other award-winning American journalists like Seymour Hersh and Gareth Porter also exposed the  sarin attack  narrative as a fabrication promulgated by a corrupt OPCW   but their reports were muted by mainstream gatekeepers. Both apparent attacks in Damascus and Idlib, were claimed through the presentation of dubious video imagery and suspicious photographs as a main source of evidence. Despite the absence of any real forensic investigation, the western media proclaimed  certainty  over images and videos largely supplied by the dubious  NGO  known as the  White Helmets.  It would later be revealed that on April 4th, the Syrian Air Force had also struck a warehouse in Idlib where chemical weapons were said to have been produced and stockpiled by US-backed militants. What was most disturbing, was that many in US-UK leadership seemed desperate for the public to buy into any WMD claims without concrete proof and in the process, they deliberately pushed heavily propagandized imagery presented on social media as proof of the as yet forensically unproven sarin gas attack. In essence, the whole event became a wag the dog moment ensnaring not only the White House, but many leaders in the UK as well.3. White Helmets Fraud   The White Helmets. Who are they, who created them, who funds them, and which master do they serve in Syria? In the US and in Europe, these fundamental questions routinely go unanswered by the western mainstream media organizations and government officials. Since first appearing on the western media scene in late 2013, the UK and US government-funded pseudo  NGO  known as the White Helmets has achieved cult-like status as their pictures adorn the front pages of newspapers and CNN breaking news segments about Syria. For the last 4 years, their principle function has been to produce a steady stream of  anti-Assad regime  and anti-Russian propaganda tailored for western audiences. Since 2015, 21WIRE led the way in asking these important questions, and in 2017 the overwhelming pressure of mounting evidence of the White Helmet fraud eventually led to various shoddy academics in the US and in the UK mainstream media outlets attacking 21WIRE and its writers for challenging the official White Helmets narrative   and for exposign how the UK government has been channeling hundreds of millions of pounds into terrorist-occupied areas of Syria under the thin guise building  civil society  (US and UK trojan horse) organizations in Syria. Establishment attacks included one mainstream media outlet promoting the White Helmets, The Guardian newspaper in the UK. According to The Guardian anyone who dared to question their official government-sanctioned narrative were  conspiracy theorists  and somehow part of a secret  Russian-backed propaganda campaign.  Despite mountains of evidence including various fake rescue videos, colluding in acts of murder and extreme violence and evidence which clearly depicts the dodgy  search and rescue  groups  members as dual members in armed al Qaeda terrorist affiliates operating in  rebel-held  opposition areas of Syria   western mainstream media are still determined to play dumb on this issue, which only goes to prove just how ignorant mainstream gatekeepers are as to the realities on the ground in Syria, or worse   how controlled are mainstream editors  desks by the western intelligence apparatus. Either way, Toto has already drawn the Wizard s curtain all the way back   and it s only a question of time before western media apologists and clueless politicians retreat into full  no comment  mode on this issue.2. The Russia-Gate PsyOp   It s been 18 months since the Democratic Party and the US mainstream media launched its  Russia-gate  narrative, claiming that Moscow had hacked the DNC, John Podesta and somehow influenced the result of the US 2016 Presidential Election. 18 months later, there s still no evidence to substantiate this mainstream conspiracy theory   making Russiagate easily the biggest fake news story of the year. What s most telling about this  official  conspiracy theory (as it turns out, it s the mainstream that peddles the grandest conspiracy theories) is that its proponents have to resort to publishing repeated lies and wild exaggerations in order to maintain the pillars supporting their narrative. So desperate were the New York Times to tie Trump to Russia that it even claimed that  the Russians  where creating Facebook pages about puppies in order to  confuse and mislead  vulnerable American voters. New York Times also had to retract their central lie which claimed that 17 US Intelligence agencies had all agreed that the Russians meddled in the 2016 presidential election   but still we hear legions of mindless  journalists  and shaky politicians like Adam Schiff (who, not surprisingly is also promoting the White Helmets) repeating that same old canard. As part of Washington s new McCarthyite red scare reboot, the US government labeled Russian international media network RT, and RT America as  foreign agents    forcing the channel and its journalists to register with the US government under old outdated pre-WWII espionage legislation. Other fake claims by US media include  Kremlin bots  deployed on Facebook to mess with the fragile minds of potential voters on social media, and CNN s all-time classic: an  Exclusive!  no less   claiming that the Russians somehow infiltrated the computer game Pokemon Go in order to  sow confusion among Americans.  Honestly, we couldn t make it up if we tried. What s beyond ironic is that the same media who has been constantly crying  fake news!  as their prime talking point to explain how Trump beat Clinton   has been dutifully recycling their own fake news narrative for over a year now. This one will surely go down in history as the biggest political hoax of all-time   and all of the mainstream media outlets who helped promulgate this myth should also go down with it. Sadly, too many mentally-challenged lawmakers in the US, UK and Europe are actually basing their foreign policies of this mainstream fake news myth   which is all too convenient for an ever-inflating the US defense budget, NATO s breakneck expansion eastward, and also for Brussels  new roll-out of its EU Army  1.  Fake News 2.0    2017 was the year of fake news. Last year, we crowned Fake News 1.0 as our top conspiracy, but this past year has seen it ascend to an entirely new level. From the beginning, this faux crisis had a clear set of political objectives. The first was to provide a scapegoat for Hillary Clinton s catastrophic imploding presidential run, and secondly, to try and prop-up the establishment s official conspiracy theory that somehow the Russians were spreading  fake news  across social media and alternative media websites   in order to help Donald Trump win the election. On this front, many of us are indebted to Trump for branding CNN with the meme that keeps sticking, as the President hit CNN s bumbling White House correspondent Jim Acosta, with Trump pointing to Acosta and saying,  You are fake news!  live on national TV. If was a glorious moment for sure. Newspapers like the Washington Post performed a key role for the US Deep State by pushing-out fictional news features like the one claiming 200 of the leading alternative media websites were part of some Kremlin-orchestrated network of websites carrying out  active measures  (a defunct Cold War term) propaganda against the American people. The Post even presented a bogus anonymous construct, a website called  PropOrNot  in order to try and make their conspiracy theory look official. Around the same time, a radical progressive academic from Merrimack College in Massachusetts published a  fake news list    a database and virtual  blacklist  designed to defame and slander any independent media outlets who happened to veer from the party line and challenge the policies of Hillary Clinton and Obama. Dr. Zimdars heavily politicized  list  was promoted by  the LA Times which, like the fraudulent story published in The Post, claimed that hundreds of alternative media websites were producing  fake news  and  conspiracy  stories and therefore were unreliable as information sources. It wasn t long before the establishment began referencing these politicized lists, holding them up as  proof  of some crisis in what the liberal intelligensia proudly dubbed a  post-truth  world. Despite the establishment s insistence on pushing this faux crisis, an increasing number of smart news consumers came to realize that for at least the last century and half, the establishment s tightly-controlled information syndicate has been able to manufacture its own consensus reality through the use of their own  official  fake news. By channeling public opinion in this way, the mainstream press has helped facilitate a number of engineered outcomes   including war. Perhaps the most dangerous aspect of the fake news  circus, is that Silicon Valley monopolies like Google and Facebook have taken it upon themselves to manipulate their online platforms in such a way that they are choosing which websites and news sources will be  de-ranked  and effectively hidden from the view of most users, and, in the case of Facebook   censoring real information presented by independent, non mainstream journalists, but allowing political operatives to abuse their problematic  communitarian  information policing system to strike off  offensive  content. As a result a number of leading alternative commentators have been banned from Facebook for completely illegitimate reasons. Finally, we can reveal the  2.0  aspect of the establishment s  fake news  faux crisis   a false pretext to unleash a wide-ranging program of internet censorship   and it s already begun. Reasonable people should be under no illusions: Google Inc, Facebook and global monopolies like them it are the closest thing to a classic fascist-corporatist behemoth you will find in the world today. Both Google and Facebook are both actively colluding with big government and other mainstream media partners, and are guilty of  stealth censoring  through either their A.I. filtering algorithms, or through flagged websites on a database used to de-rank leading independent and anti-war sites like 21st Century Wire, Anti-War.com, Consortium News, Global Research and countless others. Furthermore, Facebook is now on record as admitting to colluding with both the US and Israeli governments to delete  undesirable  accounts. This is a corporation which is now actively and opening violating US laws, which is engaging in criminal activity by any other definition. These are not the only threats posed by these corporate fascists. The very same corporate digital barons have also been busy colluding with politicians in order to repeal Net Neutrality   as part of the elites  final end-run to marginalize and ultimately crush all independent and dissenting voices online who threaten the primacy of mainstream groupthink, and who could get broader traction among the population if the playing field was truly a level one. Not only is this illegal under antitrust laws, but it represents a brutal form of fascism. It s now clearer than ever that Silicon Valley executives and government bureaucrats cannot be trusted to manage the most important public utility of the new century   the information super highway.So if the mainstream press can no longer be trusted, then who can you trust for objectivity and accuracy? Again, we have to ask the question: who s watching the watchers? Answer: We are.HAPPY NEW YEAR.SEE PREVIOUS TOP TEN CONSPIRACIES: 2016 Top Ten Conspiracies2015 Top Ten Conspiracies2014 Top Ten ConspiraciesSUPPORT 21WIRE  SUBSCRIBE NOW & BECOME A MEMBER @21WIRE.TV\n",
      "\n",
      " -------------------------------------------------------------------------------- \n",
      "\n",
      "Título: \"‘Classified’ Emails from Hillary Clinton and Huma Abedin found on Anthony Weiner’s Laptop\"\n",
      "Texto: Looking back on the 2016 Presidential election, there was a non-stop chorus on denials by Hillary Clinton, her campaign surrogates, and the mainstream media   that had not allowed any classified emails to float around her home-brew server, or onto the family of her close aids.As it turns out, Hillary Clinton was lying. A new batch of emails released by the US State Department clearly show that Anthony Weiner, convicted sex criminal and husband of Clinton s chief aid Huma Abedin, had kept classified emails pertaining to official US State Department business during Hillary Clinton s tenure as Secretary of State   kept on the same laptop which Weiner used to target an underage girl and where he also kept child pornography.Among the released emails were exchanges which clearly show Hillary Clinton conspiracy with authoritarian Saudi Arabia to  stop Wikileaks. The reopening of this old Clinton gaping wound is another devastating blow for the mainstream media and the Democratic Party s  resistance  movement, whose mission is to remove Donald Trump for office.RT International reports At least five of the 2,800 emails stored on a laptop belonging to former Democratic congressman Anthony Weiner were marked  confidential  and involved delicate talks with Middle Eastern leaders and Hillary Clinton s top aide.On Friday, the State Department released a batch of around 2,800 work-related documents from the email account of Huma Abedin, who served as the deputy chief of staff to former Secretary of State Hillary Clinton.At least five of the emails found on Abedin s ex-husband s laptop were heavily redacted and marked classified and at  confidential  level, the third more sensitive class the US government uses below  secret  and  top secret. The State Department applies the confidential classification level to information that  the unauthorized disclosure of which reasonably could be expected to cause damage to the national security,  according to the Government Publishing Office.While the documents were not marked as classified before they were released, some of the information recovered in the emails was considered classified. It is illegal for civilians to posses or read classified documents without a security clearance.The confidential emails, which date from 2010 to 2012, concern discussions with Middle Eastern leaders.Dishonest: despite being caught multiple times, Hillary Clinton is still in denial about mishandling classified material.One of the emails has the subject  Egyptian MFA on Hamas-PLO talks,  referring to the Palestine Liberation Organization. The email is mostly redacted, only mentioning that it is a  further update on Hamas-PA talks,  referring to the Palestinian Authority.Another four-page email contains a completely redacted  call sheet  to prepare Clinton for an upcoming call with Israeli Prime Minister Benjamin Netanyahu.A call sheet in another 2010 email includes notes to guide Clinton through a call she would make to Saudi Foreign Minister Prince Saud al-Faisal. The purpose of the call was to inform Saud about an impending WikiLeaks disclosure. This appears to be the result of an illegal act in which a fully cleared intelligence officer stole information and gave it to a website. The person responsible will be prosecuted to the fullest extent of the law,  the call sheet instructed Clinton to say.Clinton was warning the Saudis the leak could contain information related to  private conversations with your government on Iraq, Iran, and Afghanistan,  and asked the Saudi s to help the US prevent WikiLeaks from  undermining our mutual interests. During a congressional hearing in 2016, former FBI Director James Comey said Abedin regularly forwarded emails to Weiner for him to  print out for her so she could deliver them to the secretary of state. The emails were released in response to a 2015 lawsuit filed by conservative watchdog group Judicial Watch against the State Department after it failed to respond to a Freedom of Information request (FOIA) seeking:  All emails of official State Department business received or sent by former Deputy Chief of Staff Huma Abedin from January 1, 2009 through February 1, 2013 using a non- state.gov  email address. In a statement issued Friday, Judicial Watch President Tom Fitton called the release a  major victory,  adding that it was no surprise there were classified documents on Weiner s computer. It will be in keeping with our past experience that Abedin s emails on Weiner s laptop will include classified and other sensitive materials,  Fitton said in a statement.  That these government docs were on Anthony Weiner s laptop dramatically illustrates the need for the Justice Department to finally do a serious investigation of Hillary Clinton s and Huma Abedin s obvious violations of law. The emails were discovered on Weiner s laptop during an FBI investigation into allegations that he engaged in  sexting  with a 15-year-old girl. In September, Weiner was sentenced to 21 months in prison after he pleaded guilty to sending obscene material to a minor.The discovery of the emails led Comey to announce that the FBI was reopening an investigation into Clinton s use of a private email server 11 days before the 2016 presidential election. Clinton said the announcement contributed to her loss to Donald Trump See more at RTLast year, in effort to shore-up Clinton s crumbling reputation for being truthful to the public, her campaign published a bizarre 4,000-word  fact sheet  on the Clinton campaign website.As it turned out, Clinton s  fact sheet  was riddled with numerous false statements and other half-truths, including a lie that the FBI was conducting a security review   when it was in fact conducting an investigation, and that she never sent or received classified information on her email account.This latest Weiner revelation is just another devastating blow to an already damaged political brand.Could Clinton mount a 2020 run?It s highly unlikely.READ MORE HILLARY NEWS AT: 21st Century Wire Clinton FilesSUPPORT 21WIRE   SUBSCRIBE & BECOME A MEMBER @21WIRE.TV\n",
      "\n",
      " -------------------------------------------------------------------------------- \n",
      "\n",
      "Título: \"How Trump is Accelerating the Decline of US Global Influence\"\n",
      "Texto: It should also be said that the current US Administration is merely finishing the job which started under three consecutive two-term presidents; Bill Clinton, George W. Bush, and Barack Obama   something to bear in mind as Trump ends his first year in office.This new year, let us not forget who re-ignited the Middle East crisis, with the consecutive sackings of Libya and Syria The \"Moderate Rebel\" terrorists in Syria certainly miss you Barack, you were so generous to all of them.  Patrick Henningsen (@21WIRE) December 29, 2017While  Make America Great Again  might be the political campaign de jour at home, these next four years are likely to coincide with an overall decline in US influence in the world.Mehr News reports During the past decades after World WarII and disintegration of the former Soviet Union and the end of the Cold War, the world has been dominated by the US in terms of politics, military and economy. But the rising of new world powers at the end of the 20th century and beginning of 21st century has challenged the US global domination. Washington s challenges with the new multipolar world order in recent years has resulted in the decline of US influence in the world, which is expected to be accelerated  withTrump s term in White House.Recognizing Al-Quds (Jerusalem) as Israeli regime s capital by Trump created lots of negative reaction and resulted in a resolution by the UN General Assembly despite the US threats   is a clear example of declining US global influence.Decline of US domination over world trade and financial regimesAfter the end of World WarII until 1960, the US held 40 percent of the world economy but after the rise of new economic powers like China, Japan and EU, in 2013 the US just held 25 percent of the world economy. Considering the recent decisions made by Trump to withdraw from TPP and NAFTA and tensions with EU, more decline is expected in near future.The Dollar dominated global financial, trade and banking regimes until the beginning of 21th century. The first blow to the dollar global stand was inflicted in 1999 when euro appeared as official currency of the EU. In recent years rise of Chinese renminbi has inflicted more blows to the dollar global stand, so that in 2015 only 50 to 60 percent of  world trades and transactions were done in dollar, according to EU central bank.During the past years, US sanctions against some countries like Russia, Iran and White House pressure on other countries to avoid transaction with these sanctioned countries, has resulted in some agreements between states to do their business in their own national currencies instead of dollar like the agreements between Iran, Russia, Turkey and China. Continuation of such agreements and trend will definitely lead to further decline of dollar global stand in future.Decline of the US strategic importance in terms of politics and militaryTrump s serious pressure on NATO   the most important strategic achievement of the US till now   with member states to pay more for the costs of the alliance, has inflicted serious damages to the solidarity of the member states and has created many doubts   so that some US old European allies are seriously after formation of a European Army.US inability to solve South Korea s missile and nuclear program issues despite Trump s rhetoric and bluffs, US inability to materialize its regional policy and plans in the Middle East to change the map of the region to the benefit of its own strategic interest and Israel s due to close cooperation of Iran, Russia, Turkey, Iraq and Syria   all these US failures and its wrong policies which have even forced some of its old regional allies like Turkey to recalibrate its relation and cooperation with White House in the region   shows the US limitations and incapability resulting in increasing decline of Washington s influence.Also the US inability to settle the issues in east of Ukraine and Crimea as its European allies expected has been a serious blow to its strategic stand among the Washington s European allies, and even worse nowadays as some of the Europeans consider US measures in east Europe as a blackmailing to gain the energy market of the EuropeDuring the last one year in office, Trump s moves to withdraw from Paris Climate Change accord, TPP, his wrong approach toward the nuclear deal with Iran (JCPOA), his insatiable immigration policy which has resulted in significant reduction in the number of foreign students in US for the first time, and finally his partial recognition of Al-Quds as Israeli regime s capital   all have inflicted serious blows to global credibility and influence of the country which cannot be at least mended in short-term.READ MORE TRUMP NEWS AT: 21st Century Wire Trump FilesSUPPORT 21WIRE   SUBSCRIBE & BECOME A MEMBER @21WIRE.TV\n",
      "\n",
      " -------------------------------------------------------------------------------- \n",
      "\n",
      "Título: \"US Advising Soldiers to Be ‘Less Masculine’ as Military Tries to Curb Flood of Sexual Harassment Cases\"\n",
      "Texto: 170619-N-AA175-092..SAN DIEGO (June 19, 2017) Command Master Chief (Ret.) Kathleen Henson, from Midland, Mich.,, center, and USS Makin Island (LHD 8) Sailors cut a cake during the Lesbian, Gay, Bisexual, and Transgender Pride Month observance. Makin Island is homeported in San Diego. (U.S. Navy photo by Mass Communication Specialist 2nd Class Eric Zeak   Published at Wikicommons)21st Century Wire says While military forces are fighting one enemy in the theatre of combat, another multi-front culture war is also being fought within their institutions. According to a recent report in Military.com, US military lawyers have begun speaking about how sexual assault cases are flooding the military courts   threatening to break the back of the military s legal system, and perhaps radically alter the institutional culture.After the release of the documentary,  The Invisible War,  the issue of sexual assault in the military has again been thrust into the national spotlight, claiming that 1 in 5 U.S. female veterans have sustained some form of sexual assault.The issue of sexual assault in the US military first rose to national prominence in 1992 with the emergence of the infamous  Tailhook Scandal. One likely reason for this new spike in reported cases could be because each military service branch has recently implemented new  awareness programs  as well as  sexual assault prevention  campaigns   which actively encourage female troops to report anything they might feel constitutes sexual harassment or a constitutes a sexual assault.This also comes at a time where the US military has undergone the gradual process of becoming more  gay friendly  in order to advance  issues of equality  and to cater for its growing ranks of LGBT service men and women.Military.com explains how the new liberal progressive agenda may be adversely affecting operations: Military lawyers said the Pentagon leadership has the right intentions, but these prevention campaigns have flooded military court rooms with so many sexual assault cases, it s made it harder to prosecute guilty sexual predators.Prosecutors lack witnesses or strong evidence in the majority of cases, making it hard to yield a conviction, said Michael Waddington, a military defense lawyer and former judge advocate in the Army. He sees too many cases that involve alcohol and depend on hearsay.The military has the resources to take many sexual assault cases to court, said Philip Cave, a military defense lawyer and retired Navy lawyer. Waddington estimated that ninety percent of the sexual assault cases taken to court-martial would be thrown out in a civilian court because of a lack of evidence.As a result, the military are now trying various other different initiatives to try and cope with a problem which to have spun out of control.RT International reports Promoting empathy and cracking down on hypermasculinity may help the Department of Defense to reduce unwanted sexual behavior and improve combat readiness, a new government report on sexual violence in the military says.Unwanted sexual behaviors   such as sexual harassment, sexual assault, and domestic violence    undermine core values, unit cohesion, combat readiness, and public goodwill, says the report, published this month by the Government Accountability Office (GAO) and signed by Brenda Farrell, director of defense capabilities and management.The report pointed out that  interconnected, inappropriate behaviors  are part of a  continuum of harm  that creates a climate conducive to sexual harassment, assault and violence. The National Defense Authorization Act (NDAA) for fiscal year 2017 expanded the definition of sexual harassment in the military beyond sex discrimination, to make it  an adverse behavior on the spectrum of behavior that can contribute to an increase in the incidence of sexual assault.  Both the Pentagon and the separate service branches have yet to update their policies to reflect this new definition, the GAO found.The report also urged the Pentagon to incorporate the guidelines for preventing and dealing with sexual violence developed by the Centers for Disease Control and Prevention (CDC).The Pentagon is ignoring risk factors identified by the CDC such as  alcohol and drug use, hypermasculinity, emotionally unsupportive family environments, general tolerance of sexual violence within the community, and societal norms that support male superiority and sexual entitlement,  the report says.NEWPORT, R.I. (Oct. 29, 2010) Gunnery Sgt. Duncan Hurst encourages an officer candidate to properly perform pushups during the first week of the 12-week Officer Candidate School at Naval Station Newport. Hurst is one of 12 Marine Drill Instructors who train the candidates in military bearing, discipline, drill and physical fitness. (U. S. Navy photo by Scott A. Thornbloom/Released). Also ignored by the DoD are protective factors such as  emotional health and connectedness, and empathy and concern for how one s actions affect others. CDC s research has also established that survivors of one form of violence are more likely to be victims of other forms of violence, that survivors of violence are at higher risk for behaving violently, and that people who behave violently are more likely to commit other forms of violence,  the GAO report notes, apparently seeking to make a distinction between violence in authorized military conflict and personal violence.Noting that the DoD instructed the services in 2014 to develop mechanisms for reporting incidents of sexual harassment anonymously, the GAO said that such mechanisms are not yet part of the department-wide sexual violence policies.Additionally, each service branch uses a different database format to record formal complaints of sexual harassment   the Navy uses Excel spreadsheets, for example. While the GAO does not go as far as to recommend a single database, the report does advocate  improving and standardizing data collection  so that the Department of Defense can  further develop its understanding of the connection between unwanted sexual behaviors. Having a single standard across service branches would also be helpful, the GAO report says, noting that the US Marine Corps (USMC) updated its standards of conduct in May. The USMC made the change in response to the  Marines United  scandal, where current and former members posted nude photos of female recruits in a Facebook group, along with disparaging comments. While the Marines now consider posting nude photos of others without consent to be harassment, other service branches do not as of yet.The GAO report comes at a time of renewed interest in sexual harassment in the US. Accusations of improper behavior have forced a number of Hollywood celebrities, media executives and members of Congress to resign or be removed from public life.In 2015, the Obama administration lifted restrictions on having women in combat roles and set a deadline for allowing openly transgender troops to serve. In July this year, President Donald Trump said he would not allow transgender people to serve  in any capacity,  citing  tremendous medical costs and disruption  to the military. The matter is currently being fought over in the courts.So far, only men are required to register for potential draft ( Selective Service ) under US law. Attempts to expand the requirement to women have failed to get enough votes in Congress.See more at RTREAD THE FULL US GOV T G.A.O. REPORT HEREIn addition to new measures meant to mitigate the rise in sexual assault claims, general dictates on gender neutral language are also being rolled out apparently to protect vulnerable minority members of the armed service from being offended or  triggered.  This institutional trend is not limited to the US, as the institutional march of political correctness and its weaponization of gender identity politics is making its way through Great Britain s armed forces too   where phrases such as  mankind ,  chaps  and  sportsmanship  have now been banned.The UK Mail Online says:  The guide suggests the word  chaps  be swapped for the words  people ,  friends ,  folks  or  you all . The phrase  gentleman s agreement  has also be banned. Now, soldiers must use the term  unwritten agreement . Instead of  sportsmanship  members of the force are encouraged to say  fairness .     The two-page guide was compiled by the Joint Equality Diversity and Inclusion unit   which has earned the nickname of Jedi. Many LGBT servicewomen believe the US military is  too male-oriented  (Image: Pinterest).As pc cleric cluture takes over the military s management through the leveraging of radical progressive power-politics, people should be aware that this tactic actually designed to break down existing institutions and rearrange the internal power structure.It s no surprise then why the Russians are resisting Soros-funded political colonization in their country, which Moscow has correctly identified as subterfuge   through the clear exploitation of these culture and gender war battle lines. ImageQuestion: How will the US and UK armed forces be run in 10 years, if this socialized agenda is fully rolled out?READERS PLEASE LEAVE COMMENTS BELOWREAD MORE CULTURAL MARXIST NEWS AT: 21st Century Wire Cultural Marxism FilesSUPPORT 21WIRE   SUBSCRIBE & BECOME A MEMBER @21WIRE.TV\n",
      "\n",
      " -------------------------------------------------------------------------------- \n",
      "\n",
      "Título: \"Dopey Santas, McAfee Hacked, Silicon Valley vs. ACR – Boiler Room EP #141\"\n",
      "Texto: Tune in to the Alternate Current Radio Network (ACR) for another LIVE broadcast of  The Boiler Room  tonight 6:00 PM PST | 8:00 PM CST | 9:00 PM EST for this special broadcast. Join us for uncensored, uninterruptible talk radio, custom-made for bar fly philosophers, misguided moralists, masochists, street corner evangelists, media-maniacs, savants, political animals and otherwise lovable rascals.Join ACR hosts Hesher and Spore along side Jay Dyer of Jays Analysis, Fvnk$oul and Randy J (ACR & 21WIRE contributors) for the hundred and forty first episode of BOILER ROOM. Turn it up, tune in and hang with the ACR Brain-Trust for this weeks boil downs, analysis and the usual gnashing of the teeth of the political animals in the social rejects club.On this episode of Boiler Room the social rejects club meets for the final shebang of 2017. We ll be discussing John McAfee s twitter account being hacked to promote a low value crypto-currency, silicon valley censorship in social media, year end wrap ups and 2018 predictions.Direct Download Episode #141 Please like and share the program and visit our donate page to get involved! Reference Links, for your consideration and research:\n",
      "\n",
      " -------------------------------------------------------------------------------- \n",
      "\n"
     ]
    }
   ],
   "source": [
    "revisar_noticias(df_fake, \"Middle-east\")"
   ]
  },
  {
   "cell_type": "markdown",
   "metadata": {
    "hidden": true
   },
   "source": [
    "No parece tener relación con noticias del mundo. Veamos ahora la categoría `left-news`"
   ]
  },
  {
   "cell_type": "code",
   "execution_count": 22,
   "metadata": {
    "ExecuteTime": {
     "end_time": "2020-07-31T23:53:23.805228Z",
     "start_time": "2020-07-31T23:53:23.791267Z"
    },
    "hidden": true
   },
   "outputs": [
    {
     "name": "stdout",
     "output_type": "stream",
     "text": [
      "Título: \"BARBRA STREISAND Gives Up On Dream Of Impeaching Trump Over Fake Trump-Russian Collusion…Tweets HILARIOUS New Reason Trump Should Be Impeached\"\n",
      "Texto: Barbra Streisand was an Obama sycophant and one of the corrupt Clinton s most loyal fans. She is also part of the Hollywood liberal  resistance  movement. Much like Rosie O Donnell, Kathy Griffin, and literally hundreds of overpaid celebrities, Barbara Streisand is obsessed with tweeting about how much she hates President Trump. It s Streisand s latest tweet that has conservatives calling her out for her complete and utter  stupidity .Streisand tweeted: Collusion or no collusion, @realDonaldTrump should be impeached for sheer stupidity. Collusion or no collusion, @realDonaldTrump should be impeached for sheer stupidity.  Barbra Streisand (@BarbraStreisand) December 30, 2017Twitter users wasted no time DESTROYING the  has been  entertainer.This tweet suggested her music and acting awards should be recalled due to the  sheer stupidity  of the recipient.I can think of a lot of Oscars, Emmy s, Tony s and Grammy s that should be recalled due to sheer stupidity of the recipient. Particularly this one:   https://t.co/f4KtzLsOQA  AnneMarie (@bulliegirl1959) December 30, 2017Dan Bongino suggested that talent aside, Streisand should be mocked for failing constitutional basics 101.Singing or no singing @BarbraStreisand should be mocked for failing constitutional basics 101. https://t.co/EeFKkiYtOb  Dan Bongino (@dbongino) December 30, 2017 Mike  truly schooled Streisand when he explained to her,  You can t impeach a President, because of your feelings, Barbra. You can't impeach a President, because of your feelings, Barbra. https://t.co/vsmuW223pI  Mike (@Fuctupmind) December 30, 2017Barbra got destroyed in one powerful image reminding her that  Impeachment requires an actual crime  pic.twitter.com/BBW1lEY9hn  chach malone (@chachmalone) December 30, 2017OUCH!  Rita  replied to Barbra that she used to be a fan, but no more. She even took it a step further, and let Barbra know that she was now on her  boycott list!!! I was a Fan of you!!! Now you are on my boycott list!!!  Rita Reisch Afd    (@rita_reisch) December 30, 2017Finally, this Twitter user refers to Barbra Streisand as a  has been  vs the President.There ya go!! A has been vs the President  beaner (@CWhitam) December 30, 2017\n",
      "\n",
      " -------------------------------------------------------------------------------- \n",
      "\n",
      "Título: \"WATCH: SENATOR LINDSEY GRAHAM DROPS BOMBSHELL… FINALLY Confirms The Fake Russian Dossier Was Used To Obtain FISA Warrant To Spy On Trump\"\n",
      "Texto: Everyone suspected the sketchy Steele Dossier was what corrupt FBI and DOJ officials used to get the October 2016 FISA warrant against Trump. FBI and DOJ officials refuse to answer that question publicly.Rep Ron DeSantis (R-FL) said in a statement: We now know that the so-called Steele dossier was paid for by the Democratic Party in an effort to gin up negative information regarding then-candidate Trump. What the American people deserve to know is whether the information compiled by Steele on the Democrats  dime was used by the Obama administration to obtain approval to conduct surveillance against Trump associates. The FBI has stonewalled producing these documents for months and their production shouldn t be limited to closed door viewing by a small number of members of Congress. The Trump administration should immediately declassify all the documents used to obtain surveillance warrants against Trump or his associates. Immediately after his inauguration, President Trump came out swinging over the  fake  Russian dossier. He even went as far as to blame the intelligence community.  President Trump was immediately criticized for his comments, and the media behaved as though he was insane to even insinuate such a wild theory. As it turns out, he wasn t too far off the mark.CT   Despite a hundred different ways congressional investigators have asked the question, and despite numerous on-camera questions to FBI and DOJ officials about the 2016 FISA process, no-one had definitively confirmed the Christopher Steele  Russian Dossier  was the underlying evidence for the 2016 FISA application to gain wiretaps and electronic surveillance upon presidential candidate Donald Trump. UNTIL NOW.Senator Lindsey Graham just confirmed the sketchy Steele Dossier was used to get the wiretap and surveillance warrant from the FISA court. Brian Kilmeade understood what he was hearing was serious, but didn t quite catch the specific gravity of it. Watch at starting at the 04:10 mark: The back-story to the FISA warrant is the cornerstone. The back-story contains both the FBI and the DOJ scheme. Expose it, remove it, and the entire  muh Russia conspiracy  collapses under the weight of sunlight This is critical and important because the specific use of the Steele Dossier underpins the BIG UGLY and exposes the entire top-tier apparatus of the FBI Counterintelligence Division (Peter Strzok, Bill Priestap, James Baker, Andrew McCabe) and the DOJ National Security Division (John Carlin, Stuart Evans, Mary McCord and Sally Yates), as well as DOJ Bruce Ohr and FBI lawyer Lisa Page directly to  conspiracy  charges.The 2016 FBI counterintelligence operation was surveillance on the Trump Campaign and was thinly disguised under the fraudulent auspices of a FISA warrant, sold as a defense of U.S. democracy from Russia, which permitted the wiretaps and surveillance etc.The DOJ involvement surrounds legal arguments, processing of FISA applications, and use of the legal system to support the FBI operation with actionable legal framing (against Trump). The DOJ National Security Division carried out that collaboration with the FBI.Tablet Mag did a deep dive into the Fusion-GPS connection to the creation of the Steele Dossier; and more specifically how Fusion-GPS head Glenn Simpson and his wife Mary Jacoby were instrumental in getting the dossier assembled and into the hands of the White House prior to the DOJ and FBI applying for the FISA warrant   SEE HERE.Tablet Mag outlines how Mary Jacoby even bragged about getting the  Russiagate  narrative started:A Tablet investigation using public sources to trace the evolution of the now-famous dossier suggests that central elements of the Russiagate scandal emerged not from the British ex-spy Christopher Steele s top-secret  sources  in the Russian government which are unlikely to exist separate from Russian government control but from a series of stories that Fusion GPS co-founder Glenn Simpson and his wife Mary Jacoby co-wrote for TheWall Street Journal well before Fusion GPS existed, and Donald Trump was simply another loud-mouthed Manhattan real estate millionaire.Understanding the origins of the  Steele dossier  is especially important because of what it tells us about the nature and the workings of what its supporters would hopefully describe as an ongoing campaign to remove the elected president of the United States.[ ] In a Facebook post from June 24, 2017, that Tablet has seen in screenshots, Jacoby claimed that her husband deserves the lion s share of credit for Russiagate. (She has not replied to repeated requests for comment.)  It s come to my attention that some people still don t realize what Glenn s role was in exposing Putin s control of Donald Trump,  Jacoby wrote.  Let s be clear. Glenn conducted the investigation. Glenn hired Chris Steele. Chris Steele worked for Glenn. This assertion is hardly a simple assertion of family pride; it goes directly to the nature of what became known as the  Steele dossier,  on which the Russiagate narrative is founded. (read more)The Tablet-Mag outline shows the distinct trail of the finished Steele Dossier entering into the White House and how President Obama likely saw and reviewed the content.However, missing from this report is an origination angle even more nefarious.Remember, previous media reporting -in conjunction with Clinton campaign admissions- have confirmed the DNC and Clinton Campaign financed Fusion-GPS through their lawyers within Perkins Coie. Fusion then hired Nellie Ohr the wife of DOJ Deputy Bruce Ohr who thereafter sub-contracted with retired British MI6 agent Christopher Steele to write/research/provide credibility for  the dossier. The dates here are important because they tell a story.The origin of the Clinton effort with Fusion-GPS was April 2016. That s the same month Fusion hired Nellie Ohr, wife of DOJ Deputy Bruce Ohr, to gather opposition research on candidate Trump. It would be most likely that Nellie Ohr was in contact with Christopher Steele. DOJ Deputy Attorney Bruce Ohr was later demoted for his unreported contacts with Christopher Steele and Fusion-GPS founder Glenn Simpson in October 2016; the same month the FISA warrant was granted.However, there was another event in this April 2016 timeline which enhances the trail of the Dossier origination. [Hat Tip Katica] Check this out:In April 2016 Mary Jacoby shows up on White House visitor logs meeting with President Obama officials. In April 2016 the Clinton Campaign and DNC hired Fusion-GPS to organize the Russia research, that later became known as the  Steele Dossier .(link to White House Logs)The wife of Glenn Simpson (Fusion GPS), Mary B. Jacoby, with years of Russia-angled reporting  including Donald Trump  visits the White House in April 2016, at the same time as the DNC and Clinton hire Fusion GPS to conduct the opposition research on Donald Trump, surrounding Russia?This timeline is entirely too obvious to be coincidental.Expand slightly and consider:April: Mary Jacoby, wife of Fusion GPS founder Glenn Simpson, visits the White House. The Clinton Campaign and DNC then hire Fusion GPS to conduct  Opposition Research , with a Russian emphasis. Fusion GPS then hires Nellie Ohr who specializes in Russian-centric counterintelligence. Nellie Ohr then contacts MI6 agent Christopher Steele to write a Russian Dossier. A month later, May 2016: Nellie Ohr s husband inside the DOJ, Bruce Ohr, is then working with FBI counterintelligence head Peter Strzok. By June 2016: Peter Strzok, Bruce Ohr, and DOJ Attorney Lisa Page then apply for the first FISA warrant.[June 24th, 2017, Mary Jacoby appears on Facebook taking credit for the origination of the Russiagate narrative.]This timeline is so transparent it s deafening.[More from the Tablet] Simpson and Jacoby had ID d Manafort as a world-class sleazeball and they were right. A slick Georgetown Law grad running in GOP circles since the Reagan campaign, Manafort used his talents and connections to get paid by some very bad people. I would only add here that, in my personal experience, journalists are not in the habit of forgetting major stories they ve written, especially stories with a character like Manafort at the center.So when the Trump campaign named Paul Manafort as its campaign convention manager on March 28, 2016, you can bet that Simpson and Jacoby s eyes lit up. And as it happened, at the exact same time that Trump hired Manafort, Fusion GPS was in negotiations with Perkins Coie, the law firm representing the Clinton campaign and the DNC, to see if there was interest in the firm continuing the opposition research on the Trump campaign they had started for the Washington Free Beacon. (more)Mary Jacoby and Glenn Simpson   Fusion GPSIf the counterintelligence FISA warrant was obtained through deception, misleading/manipulated information, or fraud; and that warrant is what led to the wiretapping and surveillance of candidate Donald Trump and General Flynn; and that warrant was authorized by FISA Court Judge Contreras  who was the judge in Flynn s case, and is now recused  the entire tenuous FBI and DOJ operation begins to collapse and the outline of a  conspiracy  becomes clearly evident.The back-story to the FISA warrant is the cornerstone. The back-story contains both the FBI and the DOJ scheme. Expose it, remove it, and the entire  muh Russia  conspiracy fraud collapses under the weight of sunlight.Go HERE to see the entire fascinating investigation compiled by The Conservative TreehouseWATCH President Trump tell FOX Business  Lou Dobbs what he thinks about the Democratic efforts to smear him during his presidential campaign in an exclusive interview.\n",
      "\n",
      " -------------------------------------------------------------------------------- \n",
      "\n",
      "Título: \"“CONSERVATIVE GAY GUY” BLASTS Pence’s Aspen Neighbors For Hanging “Make America Gay Again Banner” In Front Of House\"\n",
      "Texto: It s been said that good fences make good neighbors. But in Aspen, Colo., this week, Vice President Mike Pence has something different posted between his vacation lodging and that of the people next door.Specifically, it s a rainbow banner reading  Make America Gay Again.  It appeared on a stone pillar in front of the house where Pence and his wife are staying this week.VP @mike_pence is staying in a house near #Aspen on vacation. His neighbors have a colorful message for him. https://t.co/Ldef4h1G8U via @JasonAuslander pic.twitter.com/PzWqmN9Iml  Aspen Times (@TheAspenTimes) December 30, 2017The daughters of the couple across the street and one of their girlfriends reportedly draped the rainbow banner on the pillar while a Pitkin County deputy and Secret Service members stood nearby, the Aspen Times reported. The stone pillar is situated at the end of the driveway between the two homes.According to the Times, the Secret Service agents were unfazed when the women draped the banner over the pillar, telling them,  We re not here to control your free speech rights.    FOX News Conservative Gay Guy  expressed his disgust for the people who placed the  Make America Gay Again  banner across from the Pence family vacation retreat. He tweeted:  I may be gay, but I m tired of this crap. My life doesn t revolve around my sexuality. I m a person first. The so-called tolerant left just continues to cause more division in this country. Mike Pence's neighbors in Aspen hung a \"Make America Gay Again\" banner.I may be gay, but I'm tired of this crap. My life doesn't revolve around my sexuality. I'm a person first. The so-called tolerant left just continues to cause more division in this country.  Conservative Gay Guy (@ConservGayGuy) December 30, 2017Conservative Gay Guy is not afraid to call out liberal gays for being intolerant, he s also not afraid to call out his liberal friends for their hypocrisy:None of my conservative family members or friends turned their back on me when I came out as gay.However, 2 of my friends became social justice warriors & stopped being friends with me over my political views.The side that claims to be tolerant/compassionate isn't really so.  Conservative Gay Guy (@ConservGayGuy) December 7, 2017When Muslim  feminst  (LOL!) activist Linda Sarsour tweeted in support of Sharia Law, Conservative Gay Guy destroyed her with his response:You'll know when you're living under Sharia Law if suddenly all your loans & credit cards become interest free. Sound nice, doesn't it?  Linda Sarsour (@lsarsour) May 13, 2015I'll know when I'm thrown off a building for being gay. https://t.co/bxREbbopLb  Conservative Gay Guy (@ConservGayGuy) December 28, 2017Conservative Gay Guy hit the nail on the head with this illegal immigration analogy:If half a family bought tickets to Disneyland & half snuck in, would they be breaking up families by kicking out the ones who snuck in? Isn't the half who paid allowed to leave with them? Please take the free education & go back to your country now that you know how to fix it.  Conservative Gay Guy (@ConservGayGuy) December 28, 2017\n",
      "\n",
      " -------------------------------------------------------------------------------- \n",
      "\n",
      "Título: \"WHITE COLLEGE SNOWFLAKES Can ‘Identify’ As Black….Call It The ‘Pocahontas Policy’ But We Call It Delusion [Video]\"\n",
      "Texto: The latest video from Campus Reform shows just how far some college students think universities should go to recognize people s racial identity delusion and all!The Ivy League setting of Brown University shows Cabot Phillips asking students about a hypothetical  Pocahontas policy  that would allow students to self-identify based on race. Overall I think it s a good thing,  one student said. However, that student later said in the video that he  feels weird talking about this as not a person of color. Phillips asked,  But what if you feel like one though? Another student answered,  It s intended to create uh, you know, an atmosphere of inclusion and support diversity and I don t see anything wrong with that. If somebody identifies as something it should be their right to,  another student said.Soooo these college snowflakes choose to live in the land of delusion and call it an  atmosphere of inclusion and diversity . In our day we called it mental illness .Via: Daily Caller\n",
      "\n",
      " -------------------------------------------------------------------------------- \n",
      "\n",
      "Título: \"BILL NYE The FAKE Science Guy THREATENS Conservatives…Blue States Will “Impose Economic Sanctions” Against Climate Change Denying States\"\n",
      "Texto: Friday on MSNBC, climate activist Bill Nye warned conservatives to  watch out,  saying progressive blue states will  address climate change  on their own.Nye said,  Only 40 percent of people in the U.S. think that Congress should be addressing this and that s because certain conservative groups, especially from the fossil fuel industry, have been very successful in introducing the idea that scientific uncertainty, plus or minus two percent, is the same as plus or minus 100 percent. He continued,  There s a lot of emphasis from conservatives on what are writ-large states rights. Just watch out, conservatives, if states rights include California, Illinois, New York   these places that, where people voted in a progressive fashion   watch out if all those places start to address climate change and then impose economic sanctions, either overtly or by default, on places that have not embraced the work that needs to be done. Then you ll end up with this states rights working the other way. He added,  We ve got to remind people that we re all in this together. The people I think about all the time are what are eloquently stated as the hillbillies. We want to engage everybody. Not working to address climate change is in no one s best interest. It is not in the best interest, especially of your children and grandchildren. A couple of times you mentioned that I am against the president and so on. I m not especially against the president. I just think he s gotten himself surrounded by people who are willing to mortgage the future, to let the people who are coming into the workforce now pay for the future. This is true, not just with regard to the national debt, which will almost certainly increase the same way it tripled under the beloved Ronald Reagan, not only will that national debt increase, but the climate debt, in a sense, what we have to do to address climate change, will be more and more difficult to pay back or pay down.    Breitbart NewsThe climate change debate went nuclear last year, over a whistleblower s explosive allegation that the National Oceanic and Atmospheric Association manipulated data to advance a political agenda by hiding the global warming  pause. In an article on the Climate Etc. blog, John Bates, who retired last year as principal scientist of the National Climatic Data Center, accused the lead author of the 2015 NOAA  pausebuster  report of trying to  discredit  the hiatus through  flagrant manipulation of scientific integrity guidelines and scientific publication standards. In addition, Mr. Bates told the Daily [U.K.] Mail that the report s author, former NOAA National Centers for Environmental Information director Thomas Karl, did so by  insisting on decisions and scientific choices that maximized warming and minimized documentation. Gradually, in the months after [the report] came out, the evidence kept mounting that Tom Karl constantly had his  thumb on the scale    in the documentation, scientific choices, and release of datasets   in an effort to discredit the notion of a global warming hiatus and rush to time the publication of the paper to influence national and international deliberations on climate policy,  Mr. Bates said Saturday on Climate Etc.The June 2015 report,  Possible artifacts of data biases in the recent global surface warming hiatus,  which updated the ocean temperature record, was published six months before the U.N. s Paris summit.The accusations sparked a fierce back-and-forth Sunday between so-called climate warmists and skeptics over the validity and implications of Mr. Bates  claim, which he defended on the Climate Etc. blog run by former Georgia Tech climatologist Judith Curry.Zeke Hausfather, Berkeley Earth climate scientist, said in a Sunday  fact-check  on the CarbonBrief blog that the Karl paper s conclusions  have been validated by independent data from satellites, buoys, and Argo floats and many other independent groups. While NOAA s data management procedures may well need improvement, their results have been independently validated and agree with separate global temperature records created by other groups,  Mr. Hausfather said, citing Berkeley Earth and the U.K. s Met Office Hadley Centre.He said the record  strongly suggests that NOAA got it right and that we have been underestimating ocean warming in recent years. Meanwhile, the whistleblowing prompted a  we-told-you-so  moment from Republicans on the House Science, Space and Technology Committee who have long suspected the Obama administration of retroactively fiddling with climate data in order to erase the 1998-2013 pause in global temperature increases. Now that Dr. Bates has confirmed that there were heated disagreements within NOAA about the quality and transparency of the data before publication, we know why NOAA fought transparency and oversight at every turn,  said Chairman Lamar Smith in a Sunday statement.The panel launched an investigation into the NOAA pausebuster report after whistleblowers said the study was  rushed to publication before underlying data issues were resolved to help influence public debate about the so-called Clean Power Plan and upcoming Paris climate conference. Dr. Bates  revelations and NOAA s obstruction certainly lend credence to what I ve expected all along   that the Karl study used flawed data, was rushed to publication in an effort to support the president s climate change agenda and ignored NOAA s own standards for scientific study,  Mr. Smith said.Mr. Bates said he decided to come forward after reading a Washington Post article Dec. 13 that said federal scientists are  frantically copying U.S. climate data, fearing it might vanish under Trump. As a climate scientist formerly responsible for NOAA s climate archive, the most critical issue in archival of climate data is actually scientists who are unwilling to formally archive and document their data,  he said on Climate Etc.In his experience, the  most serious example of a climate scientist not archiving or documenting a critical climate dataset was the study of Tom Karl et al. 2015 (hereafter referred to as the Karl study or K15), purporting to show no  hiatus  in global warming in the 2000s. NOAA did not return immediately Sunday a request for comment. The Daily Mail said that Mr. Karl  admitted the data had not been archived when the paper was published  but denied trying to influence the climate summit. Asked why he had not waited, he said:  John Bates is talking about a formal process that takes a long time. He denied he was rushing to get the paper out in time for Paris, saying:  There was no discussion about Paris,  said the Daily Mail article.The American Geophysical Union issued a statement saying it was  very closely monitoring the situation, have considered the possible implications, and will be sharing any new information or response by AGU with you here. \n",
      "\n",
      " -------------------------------------------------------------------------------- \n",
      "\n"
     ]
    }
   ],
   "source": [
    "revisar_noticias(df_fake, 'left-news')"
   ]
  },
  {
   "cell_type": "markdown",
   "metadata": {
    "hidden": true
   },
   "source": [
    "##### Conclusión\n",
    "\n",
    "Con la última categoría tentativa a ser una noticia acerca del mundo, podemos concluir a priori que no hay noticias falsas acerca del resto del mundo. Con lo que una alternativa tentativa para que el algoritmo no sufra de overfitting, es el de eliminar esta categoría.\n",
    "\n",
    "El problema que tendríamos con esto, es quedarnos únicamente con noticias acerca de la política, así que una opción a esto sería eliminar varias categorías de las noticias falsas, o bien, mantenerlas y decidir cuál específicamente son de política.\n",
    "\n",
    "Otra opción es predecir sin ocupar esta columna, para no tener ese \"spolier\" de ser una noticia falsa."
   ]
  },
  {
   "cell_type": "markdown",
   "metadata": {},
   "source": [
    "## EDA"
   ]
  },
  {
   "cell_type": "markdown",
   "metadata": {},
   "source": [
    "### Análisis gráfico del tiempo"
   ]
  },
  {
   "cell_type": "code",
   "execution_count": 23,
   "metadata": {
    "ExecuteTime": {
     "end_time": "2020-07-31T23:53:23.818202Z",
     "start_time": "2020-07-31T23:53:23.812225Z"
    }
   },
   "outputs": [],
   "source": [
    "def rotular(ax, title, xlabel, ylabel):\n",
    "    \"\"\"Rotula un gráfico\n",
    "    \"\"\"\n",
    "    ax.set_title(title)\n",
    "    ax.set_xlabel(xlabel)\n",
    "    ax.set_ylabel(ylabel)"
   ]
  },
  {
   "cell_type": "code",
   "execution_count": 35,
   "metadata": {
    "ExecuteTime": {
     "end_time": "2020-07-31T23:59:52.407992Z",
     "start_time": "2020-07-31T23:59:52.400010Z"
    }
   },
   "outputs": [],
   "source": [
    "def my_plot(ts_t, ts_f, \n",
    "            title=None, xlabel=None, ylabel=None,\n",
    "            rotation=40):\n",
    "    \"\"\"Plotea las cosas bajo el contexto que necesitamos.\n",
    "    \"\"\"\n",
    "    fig, ax = plt.subplots()  # Create a figure containing a single axes.\n",
    "    ax.plot(ts_f)  # Plot some data on the axes.\n",
    "    ax.plot(ts_t)\n",
    "    ax.legend(['Verdadera', 'Falsa'], loc=\"best\")\n",
    "\n",
    "    plt.xticks(rotation=rotation)\n",
    "\n",
    "    rotular(ax, \n",
    "            title=title,\n",
    "            xlabel=xlabel,\n",
    "            ylabel=ylabel,)\n",
    "\n",
    "    plt.show()"
   ]
  },
  {
   "cell_type": "code",
   "execution_count": 36,
   "metadata": {
    "ExecuteTime": {
     "end_time": "2020-07-31T23:59:53.466826Z",
     "start_time": "2020-07-31T23:59:53.170653Z"
    },
    "code_folding": [
     3
    ]
   },
   "outputs": [
    {
     "data": {
      "image/png": "[encoded data removed]",
      "text/plain": [
       "<Figure size 432x288 with 1 Axes>"
      ]
     },
     "metadata": {
      "needs_background": "light"
     },
     "output_type": "display_data"
    }
   ],
   "source": [
    "L_dow = [\"Monday\", \"Tuesday\", \"Wednesday\",\n",
    "         \"Thursday\", \"Friday\", \"Saturday\", \"Sunday\", ]\n",
    "\n",
    "\n",
    "def count_dow(ser):\n",
    "    \"\"\"Cuenta los días de la semana y los rotúla.\n",
    "    \"\"\"\n",
    "    s = ser.dt.day_name().value_counts()\n",
    "    s = pd.Series({L_dow[i]: s[L_dow[i]] for i in range(7)})\n",
    "    return s\n",
    "\n",
    "\n",
    "ts_t = count_dow(df_true[\"date\"])\n",
    "ts_f = count_dow(df_fake[\"date\"])\n",
    "\n",
    "my_plot(ts_t, ts_f,\n",
    "        title=\"Comparación número de noticias por día de semana\",\n",
    "        xlabel=\"Día de la semana\",\n",
    "        ylabel=\"Número de noticias\",)"
   ]
  },
  {
   "cell_type": "markdown",
   "metadata": {},
   "source": [
    "Observamos que las noticias verdaderas sacan noticas de forma constante, mientras que las noticias falsas tiene una baja de más del 50% en los fines de semana."
   ]
  },
  {
   "cell_type": "code",
   "execution_count": 37,
   "metadata": {
    "ExecuteTime": {
     "end_time": "2020-07-31T23:59:59.974301Z",
     "start_time": "2020-07-31T23:59:59.711964Z"
    },
    "code_folding": []
   },
   "outputs": [
    {
     "data": {
      "image/png": "[encoded data removed]",
      "text/plain": [
       "<Figure size 432x288 with 1 Axes>"
      ]
     },
     "metadata": {
      "needs_background": "light"
     },
     "output_type": "display_data"
    }
   ],
   "source": [
    "m = {\n",
    "    1: \"January\", 2: \"February\", 3: \"March\", 4: \"April\",\n",
    "    5: \"May\", 6: \"June\", 7: \"July\", 8: \"August\",\n",
    "    9: \"September\", 10: \"Octuber\", 11: \"November\", 12: \"December\"\n",
    "}\n",
    "\n",
    "def number2month(n):\n",
    "    \"\"\"Hace un mapeo del número de un mes, al nombre del mes.\n",
    "    Retorna None si no se entrega un número entero entre el 1 y el 12.\n",
    "    \"\"\"\n",
    "    return m.get(n, None)\n",
    "\n",
    "def count_month(ser):\n",
    "    \"\"\"Cuenta los meses y los rotúla.\n",
    "    \"\"\"\n",
    "    s = ser.dt.month.map(number2month).value_counts()\n",
    "    s = pd.Series({m[i]:s[m[i]] for i in range(1, 13)})\n",
    "    return s\n",
    "\n",
    "ts_f = count_month(df_fake[\"date\"])\n",
    "ts_t = count_month(df_true[\"date\"])\n",
    "\n",
    "my_plot(ts_t, ts_f, rotation=60,\n",
    "        title=\"Comparación número de noticias por mes\",\n",
    "        xlabel=\"Mes\",\n",
    "        ylabel=\"Número de noticias\",)"
   ]
  },
  {
   "cell_type": "markdown",
   "metadata": {},
   "source": [
    "Vemos que las noticias verdaderas se mantienen constantes en los meses, mientras que las noticias falsas se mantienen por debajo de las noticias verdaderas. Sin embargo, esta situación cambia en los últimos meses a partir de agosto. Se puede deber que en esos meses empezaron las presidenciales."
   ]
  },
  {
   "cell_type": "code",
   "execution_count": 27,
   "metadata": {
    "ExecuteTime": {
     "end_time": "2020-07-31T23:53:24.657456Z",
     "start_time": "2020-07-31T23:53:24.650475Z"
    }
   },
   "outputs": [],
   "source": [
    "\n",
    "# ts_f = df_fake[\"date\"].apply(lambda x: x.month).value_counts(\n",
    "# ).reset_index().sort_values(by=['index'])\n",
    "# ts_t = df_true[\"date\"].apply(lambda x: x.month).value_counts(\n",
    "# ).reset_index().sort_values(by=['index'])\n",
    "\n",
    "# fig, ax = plt.subplots()  # Create a figure containing a single axes.\n",
    "# ax.plot(ts_f['index'], ts_f['date'])  # Plot some data on the axes.\n",
    "# ax.plot(ts_t['index'], ts_t['date'])\n",
    "# fig.legend(['Verdadera', 'Falsa'])\n",
    "\n",
    "# plt.show()"
   ]
  },
  {
   "cell_type": "code",
   "execution_count": 46,
   "metadata": {
    "ExecuteTime": {
     "end_time": "2020-08-01T00:07:38.549081Z",
     "start_time": "2020-08-01T00:07:38.540104Z"
    }
   },
   "outputs": [],
   "source": [
    "m = {\n",
    "    1: \"January\", 2: \"February\", 3: \"March\", 4: \"April\",\n",
    "    5: \"May\", 6: \"June\", 7: \"July\", 8: \"August\",\n",
    "    9: \"September\", 10: \"Octuber\", 11: \"November\", 12: \"December\"\n",
    "}\n",
    "\n",
    "def number2month(n):\n",
    "    \"\"\"Hace un mapeo del número de un mes, al nombre del mes.\n",
    "    Retorna None si no se entrega un número entero entre el 1 y el 12.\n",
    "    \"\"\"\n",
    "    return m.get(n, None)\n",
    "\n",
    "def count_year(ser):\n",
    "    \"\"\"Cuenta los meses y los rotúla.\n",
    "    \"\"\"\n",
    "    s = ser.dt.year.map(str).value_counts()#.reset_index().sort_values(by=['index'])\n",
    "#     s = pd.Series({m[i]:s[m[i]] for i in range(1, 13)})\n",
    "    return s"
   ]
  },
  {
   "cell_type": "code",
   "execution_count": 47,
   "metadata": {
    "ExecuteTime": {
     "end_time": "2020-08-01T00:07:39.553941Z",
     "start_time": "2020-08-01T00:07:39.329496Z"
    }
   },
   "outputs": [
    {
     "data": {
      "image/png": "[encoded data removed]",
      "text/plain": [
       "<Figure size 432x288 with 1 Axes>"
      ]
     },
     "metadata": {
      "needs_background": "light"
     },
     "output_type": "display_data"
    }
   ],
   "source": [
    "ts_f = count_year(df_fake[\"date\"])\n",
    "ts_t = count_year(df_true[\"date\"])\n",
    "\n",
    "my_plot(ts_t, ts_f, rotation=60,\n",
    "        title=\"Comparación número de noticias por mes\",\n",
    "        xlabel=\"Mes\",\n",
    "        ylabel=\"Número de noticias\",)"
   ]
  },
  {
   "cell_type": "code",
   "execution_count": 29,
   "metadata": {
    "ExecuteTime": {
     "end_time": "2020-07-31T23:53:26.142686Z",
     "start_time": "2020-07-31T23:53:24.675409Z"
    }
   },
   "outputs": [
    {
     "data": {
      "image/png": "[encoded data removed]",
      "text/plain": [
       "<Figure size 1080x504 with 1 Axes>"
      ]
     },
     "metadata": {
      "needs_background": "light"
     },
     "output_type": "display_data"
    }
   ],
   "source": [
    "ts_f = df_fake[\"date\"].dropna().apply(lambda x: pd.Timestamp(\n",
    "    x.strftime(\"%Y-%m\"))).value_counts().reset_index().sort_values(by=['index'])\n",
    "ts_t = df_true[\"date\"].dropna().apply(lambda x: pd.Timestamp(\n",
    "    x.strftime(\"%Y-%m\"))).value_counts().reset_index().sort_values(by=['index'])\n",
    "\n",
    "# Create a figure containing a single axes.\n",
    "fig, ax = plt.subplots(figsize=(15, 7))\n",
    "ax.plot(ts_f['index'], ts_f['date'])  # Plot some data on the axes.\n",
    "ax.plot(ts_t['index'], ts_t['date'])\n",
    "fig.legend(['Verdadera', 'Falsa'])\n",
    "\n",
    "plt\n",
    "plt.show()"
   ]
  },
  {
   "cell_type": "code",
   "execution_count": 30,
   "metadata": {
    "ExecuteTime": {
     "end_time": "2020-07-31T23:53:26.160405Z",
     "start_time": "2020-07-31T23:53:26.144650Z"
    }
   },
   "outputs": [
    {
     "data": {
      "text/plain": [
       "Timestamp('2017-12-01 00:00:00')"
      ]
     },
     "execution_count": 30,
     "metadata": {},
     "output_type": "execute_result"
    }
   ],
   "source": [
    "pd.Timestamp(df_fake[\"date\"][7].strftime(\"%Y-%m\"))"
   ]
  },
  {
   "cell_type": "code",
   "execution_count": 31,
   "metadata": {
    "ExecuteTime": {
     "end_time": "2020-07-31T23:53:26.171376Z",
     "start_time": "2020-07-31T23:53:26.162397Z"
    }
   },
   "outputs": [],
   "source": [
    "ts_f = df_fake[\"date\"].dropna()"
   ]
  },
  {
   "cell_type": "code",
   "execution_count": 32,
   "metadata": {
    "ExecuteTime": {
     "end_time": "2020-07-31T23:53:26.315017Z",
     "start_time": "2020-07-31T23:53:26.172372Z"
    }
   },
   "outputs": [
    {
     "ename": "NameError",
     "evalue": "name 'ts' is not defined",
     "output_type": "error",
     "traceback": [
      "\u001b[1;31m---------------------------------------------------------------------------\u001b[0m",
      "\u001b[1;31mNameError\u001b[0m                                 Traceback (most recent call last)",
      "\u001b[1;32m<ipython-input-32-5146c4e22799>\u001b[0m in \u001b[0;36m<module>\u001b[1;34m\u001b[0m\n\u001b[1;32m----> 1\u001b[1;33m \u001b[0mts\u001b[0m\u001b[1;33m\u001b[0m\u001b[1;33m\u001b[0m\u001b[0m\n\u001b[0m",
      "\u001b[1;31mNameError\u001b[0m: name 'ts' is not defined"
     ]
    }
   ],
   "source": [
    "ts\n"
   ]
  }
 ],
 "metadata": {
  "kernelspec": {
   "display_name": "Python 3",
   "language": "python",
   "name": "python3"
  },
  "language_info": {
   "codemirror_mode": {
    "name": "ipython",
    "version": 3
   },
   "file_extension": ".py",
   "mimetype": "text/x-python",
   "name": "python",
   "nbconvert_exporter": "python",
   "pygments_lexer": "ipython3",
   "version": "3.7.3"
  },
  "toc": {
   "base_numbering": 1,
   "nav_menu": {},
   "number_sections": true,
   "sideBar": true,
   "skip_h1_title": false,
   "title_cell": "Table of Contents",
   "title_sidebar": "Contents",
   "toc_cell": false,
   "toc_position": {},
   "toc_section_display": true,
   "toc_window_display": false
  },
  "varInspector": {
   "cols": {
    "lenName": 16,
    "lenType": 16,
    "lenVar": 40
   },
   "kernels_config": {
    "python": {
     "delete_cmd_postfix": "",
     "delete_cmd_prefix": "del ",
     "library": "var_list.py",
     "varRefreshCmd": "print(var_dic_list())"
    },
    "r": {
     "delete_cmd_postfix": ") ",
     "delete_cmd_prefix": "rm(",
     "library": "var_list.r",
     "varRefreshCmd": "cat(var_dic_list()) "
    }
   },
   "types_to_exclude": [
    "module",
    "function",
    "builtin_function_or_method",
    "instance",
    "_Feature"
   ],
   "window_display": false
  }
 },
 "nbformat": 4,
 "nbformat_minor": 4
}
