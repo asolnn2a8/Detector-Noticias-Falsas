{
 "cells": [
  {
   "cell_type": "markdown",
   "metadata": {},
   "source": [
    "# Carga de datos"
   ]
  },
  {
   "cell_type": "markdown",
   "metadata": {},
   "source": [
    "## Librerias"
   ]
  },
  {
   "cell_type": "code",
   "execution_count": 1,
   "metadata": {
    "ExecuteTime": {
     "end_time": "2020-08-14T22:39:25.291580Z",
     "start_time": "2020-08-14T22:39:23.830854Z"
    }
   },
   "outputs": [],
   "source": [
    "from os import path\n",
    "import pandas as pd\n",
    "import numpy as np\n",
    "import matplotlib.pyplot as plt"
   ]
  },
  {
   "cell_type": "markdown",
   "metadata": {},
   "source": [
    "## Constantes"
   ]
  },
  {
   "cell_type": "code",
   "execution_count": 2,
   "metadata": {
    "ExecuteTime": {
     "end_time": "2020-08-14T22:39:25.298564Z",
     "start_time": "2020-08-14T22:39:25.292578Z"
    }
   },
   "outputs": [],
   "source": [
    "SAVE_DATAFRAME = False\n",
    "SAVE_FIG = False\n",
    "\n",
    "PATH_MAIN = path.join(\"..\")\n",
    "PATH_DATA = path.join(PATH_MAIN, \"datos\")\n",
    "\n",
    "PATH_FAKE = path.join(PATH_DATA, \"Fake.csv\")\n",
    "PATH_TRUE = path.join(PATH_DATA, \"True.csv\")"
   ]
  },
  {
   "cell_type": "markdown",
   "metadata": {},
   "source": [
    "## Carga del dataframe\n",
    "\n",
    "En esta sección cargamos los DataFrames y además le ponemos una etiqueta de que si es una noticia verdadera o falsa, para posteriormente unir los DataFrames."
   ]
  },
  {
   "cell_type": "markdown",
   "metadata": {},
   "source": [
    "### DataFrame de True"
   ]
  },
  {
   "cell_type": "code",
   "execution_count": 3,
   "metadata": {
    "ExecuteTime": {
     "end_time": "2020-08-14T22:39:27.259298Z",
     "start_time": "2020-08-14T22:39:27.256385Z"
    }
   },
   "outputs": [],
   "source": [
    "# Nombre de la columna que almacenará la \n",
    "# información de si es una noticia verdadera o falsa\n",
    "name_col = \"true\""
   ]
  },
  {
   "cell_type": "code",
   "execution_count": 4,
   "metadata": {
    "ExecuteTime": {
     "end_time": "2020-08-14T22:39:28.679438Z",
     "start_time": "2020-08-14T22:39:28.000618Z"
    },
    "scrolled": true
   },
   "outputs": [
    {
     "data": {
      "text/html": [
       "<div>\n",
       "<style scoped>\n",
       "    .dataframe tbody tr th:only-of-type {\n",
       "        vertical-align: middle;\n",
       "    }\n",
       "\n",
       "    .dataframe tbody tr th {\n",
       "        vertical-align: top;\n",
       "    }\n",
       "\n",
       "    .dataframe thead th {\n",
       "        text-align: right;\n",
       "    }\n",
       "</style>\n",
       "<table border=\"1\" class=\"dataframe\">\n",
       "  <thead>\n",
       "    <tr style=\"text-align: right;\">\n",
       "      <th></th>\n",
       "      <th>title</th>\n",
       "      <th>text</th>\n",
       "      <th>subject</th>\n",
       "      <th>date</th>\n",
       "      <th>true</th>\n",
       "    </tr>\n",
       "  </thead>\n",
       "  <tbody>\n",
       "    <tr>\n",
       "      <th>0</th>\n",
       "      <td>As U.S. budget fight looms, Republicans flip t...</td>\n",
       "      <td>WASHINGTON (Reuters) - The head of a conservat...</td>\n",
       "      <td>politicsNews</td>\n",
       "      <td>December 31, 2017</td>\n",
       "      <td>1</td>\n",
       "    </tr>\n",
       "    <tr>\n",
       "      <th>1</th>\n",
       "      <td>U.S. military to accept transgender recruits o...</td>\n",
       "      <td>WASHINGTON (Reuters) - Transgender people will...</td>\n",
       "      <td>politicsNews</td>\n",
       "      <td>December 29, 2017</td>\n",
       "      <td>1</td>\n",
       "    </tr>\n",
       "    <tr>\n",
       "      <th>2</th>\n",
       "      <td>Senior U.S. Republican senator: 'Let Mr. Muell...</td>\n",
       "      <td>WASHINGTON (Reuters) - The special counsel inv...</td>\n",
       "      <td>politicsNews</td>\n",
       "      <td>December 31, 2017</td>\n",
       "      <td>1</td>\n",
       "    </tr>\n",
       "    <tr>\n",
       "      <th>3</th>\n",
       "      <td>FBI Russia probe helped by Australian diplomat...</td>\n",
       "      <td>WASHINGTON (Reuters) - Trump campaign adviser ...</td>\n",
       "      <td>politicsNews</td>\n",
       "      <td>December 30, 2017</td>\n",
       "      <td>1</td>\n",
       "    </tr>\n",
       "    <tr>\n",
       "      <th>4</th>\n",
       "      <td>Trump wants Postal Service to charge 'much mor...</td>\n",
       "      <td>SEATTLE/WASHINGTON (Reuters) - President Donal...</td>\n",
       "      <td>politicsNews</td>\n",
       "      <td>December 29, 2017</td>\n",
       "      <td>1</td>\n",
       "    </tr>\n",
       "  </tbody>\n",
       "</table>\n",
       "</div>"
      ],
      "text/plain": [
       "                                               title  \\\n",
       "0  As U.S. budget fight looms, Republicans flip t...   \n",
       "1  U.S. military to accept transgender recruits o...   \n",
       "2  Senior U.S. Republican senator: 'Let Mr. Muell...   \n",
       "3  FBI Russia probe helped by Australian diplomat...   \n",
       "4  Trump wants Postal Service to charge 'much mor...   \n",
       "\n",
       "                                                text       subject  \\\n",
       "0  WASHINGTON (Reuters) - The head of a conservat...  politicsNews   \n",
       "1  WASHINGTON (Reuters) - Transgender people will...  politicsNews   \n",
       "2  WASHINGTON (Reuters) - The special counsel inv...  politicsNews   \n",
       "3  WASHINGTON (Reuters) - Trump campaign adviser ...  politicsNews   \n",
       "4  SEATTLE/WASHINGTON (Reuters) - President Donal...  politicsNews   \n",
       "\n",
       "                 date  true  \n",
       "0  December 31, 2017      1  \n",
       "1  December 29, 2017      1  \n",
       "2  December 31, 2017      1  \n",
       "3  December 30, 2017      1  \n",
       "4  December 29, 2017      1  "
      ]
     },
     "execution_count": 4,
     "metadata": {},
     "output_type": "execute_result"
    }
   ],
   "source": [
    "# Cargamos DataFrame\n",
    "df_true = pd.read_csv(PATH_TRUE)\n",
    "\n",
    "# Agregamos nueva columna\n",
    "df_true[name_col] = 1\n",
    "\n",
    "df_true.head()"
   ]
  },
  {
   "cell_type": "markdown",
   "metadata": {},
   "source": [
    "### DataFrame de Fake"
   ]
  },
  {
   "cell_type": "code",
   "execution_count": 5,
   "metadata": {
    "ExecuteTime": {
     "end_time": "2020-08-14T22:39:29.729025Z",
     "start_time": "2020-08-14T22:39:29.032538Z"
    }
   },
   "outputs": [
    {
     "data": {
      "text/html": [
       "<div>\n",
       "<style scoped>\n",
       "    .dataframe tbody tr th:only-of-type {\n",
       "        vertical-align: middle;\n",
       "    }\n",
       "\n",
       "    .dataframe tbody tr th {\n",
       "        vertical-align: top;\n",
       "    }\n",
       "\n",
       "    .dataframe thead th {\n",
       "        text-align: right;\n",
       "    }\n",
       "</style>\n",
       "<table border=\"1\" class=\"dataframe\">\n",
       "  <thead>\n",
       "    <tr style=\"text-align: right;\">\n",
       "      <th></th>\n",
       "      <th>title</th>\n",
       "      <th>text</th>\n",
       "      <th>subject</th>\n",
       "      <th>date</th>\n",
       "      <th>true</th>\n",
       "    </tr>\n",
       "  </thead>\n",
       "  <tbody>\n",
       "    <tr>\n",
       "      <th>0</th>\n",
       "      <td>Donald Trump Sends Out Embarrassing New Year’...</td>\n",
       "      <td>Donald Trump just couldn t wish all Americans ...</td>\n",
       "      <td>News</td>\n",
       "      <td>December 31, 2017</td>\n",
       "      <td>0</td>\n",
       "    </tr>\n",
       "    <tr>\n",
       "      <th>1</th>\n",
       "      <td>Drunk Bragging Trump Staffer Started Russian ...</td>\n",
       "      <td>House Intelligence Committee Chairman Devin Nu...</td>\n",
       "      <td>News</td>\n",
       "      <td>December 31, 2017</td>\n",
       "      <td>0</td>\n",
       "    </tr>\n",
       "    <tr>\n",
       "      <th>2</th>\n",
       "      <td>Sheriff David Clarke Becomes An Internet Joke...</td>\n",
       "      <td>On Friday, it was revealed that former Milwauk...</td>\n",
       "      <td>News</td>\n",
       "      <td>December 30, 2017</td>\n",
       "      <td>0</td>\n",
       "    </tr>\n",
       "    <tr>\n",
       "      <th>3</th>\n",
       "      <td>Trump Is So Obsessed He Even Has Obama’s Name...</td>\n",
       "      <td>On Christmas day, Donald Trump announced that ...</td>\n",
       "      <td>News</td>\n",
       "      <td>December 29, 2017</td>\n",
       "      <td>0</td>\n",
       "    </tr>\n",
       "    <tr>\n",
       "      <th>4</th>\n",
       "      <td>Pope Francis Just Called Out Donald Trump Dur...</td>\n",
       "      <td>Pope Francis used his annual Christmas Day mes...</td>\n",
       "      <td>News</td>\n",
       "      <td>December 25, 2017</td>\n",
       "      <td>0</td>\n",
       "    </tr>\n",
       "  </tbody>\n",
       "</table>\n",
       "</div>"
      ],
      "text/plain": [
       "                                               title  \\\n",
       "0   Donald Trump Sends Out Embarrassing New Year’...   \n",
       "1   Drunk Bragging Trump Staffer Started Russian ...   \n",
       "2   Sheriff David Clarke Becomes An Internet Joke...   \n",
       "3   Trump Is So Obsessed He Even Has Obama’s Name...   \n",
       "4   Pope Francis Just Called Out Donald Trump Dur...   \n",
       "\n",
       "                                                text subject  \\\n",
       "0  Donald Trump just couldn t wish all Americans ...    News   \n",
       "1  House Intelligence Committee Chairman Devin Nu...    News   \n",
       "2  On Friday, it was revealed that former Milwauk...    News   \n",
       "3  On Christmas day, Donald Trump announced that ...    News   \n",
       "4  Pope Francis used his annual Christmas Day mes...    News   \n",
       "\n",
       "                date  true  \n",
       "0  December 31, 2017     0  \n",
       "1  December 31, 2017     0  \n",
       "2  December 30, 2017     0  \n",
       "3  December 29, 2017     0  \n",
       "4  December 25, 2017     0  "
      ]
     },
     "execution_count": 5,
     "metadata": {},
     "output_type": "execute_result"
    }
   ],
   "source": [
    "# Cargamos DataFrame\n",
    "df_fake = pd.read_csv(PATH_FAKE)\n",
    "\n",
    "# Agregamos nueva columna\n",
    "df_fake[name_col] = 0\n",
    "\n",
    "del name_col\n",
    "\n",
    "df_fake.head()"
   ]
  },
  {
   "cell_type": "markdown",
   "metadata": {},
   "source": [
    "### Merge entre DataFrames\n",
    "Unimos los DataFrames, ahora que se tiene una indexización."
   ]
  },
  {
   "cell_type": "code",
   "execution_count": 6,
   "metadata": {
    "ExecuteTime": {
     "end_time": "2020-08-14T22:39:30.163843Z",
     "start_time": "2020-08-14T22:39:30.136416Z"
    }
   },
   "outputs": [
    {
     "data": {
      "text/html": [
       "<div>\n",
       "<style scoped>\n",
       "    .dataframe tbody tr th:only-of-type {\n",
       "        vertical-align: middle;\n",
       "    }\n",
       "\n",
       "    .dataframe tbody tr th {\n",
       "        vertical-align: top;\n",
       "    }\n",
       "\n",
       "    .dataframe thead th {\n",
       "        text-align: right;\n",
       "    }\n",
       "</style>\n",
       "<table border=\"1\" class=\"dataframe\">\n",
       "  <thead>\n",
       "    <tr style=\"text-align: right;\">\n",
       "      <th></th>\n",
       "      <th>title</th>\n",
       "      <th>text</th>\n",
       "      <th>subject</th>\n",
       "      <th>date</th>\n",
       "      <th>true</th>\n",
       "    </tr>\n",
       "  </thead>\n",
       "  <tbody>\n",
       "    <tr>\n",
       "      <th>0</th>\n",
       "      <td>As U.S. budget fight looms, Republicans flip t...</td>\n",
       "      <td>WASHINGTON (Reuters) - The head of a conservat...</td>\n",
       "      <td>politicsNews</td>\n",
       "      <td>December 31, 2017</td>\n",
       "      <td>1</td>\n",
       "    </tr>\n",
       "    <tr>\n",
       "      <th>1</th>\n",
       "      <td>U.S. military to accept transgender recruits o...</td>\n",
       "      <td>WASHINGTON (Reuters) - Transgender people will...</td>\n",
       "      <td>politicsNews</td>\n",
       "      <td>December 29, 2017</td>\n",
       "      <td>1</td>\n",
       "    </tr>\n",
       "    <tr>\n",
       "      <th>2</th>\n",
       "      <td>Senior U.S. Republican senator: 'Let Mr. Muell...</td>\n",
       "      <td>WASHINGTON (Reuters) - The special counsel inv...</td>\n",
       "      <td>politicsNews</td>\n",
       "      <td>December 31, 2017</td>\n",
       "      <td>1</td>\n",
       "    </tr>\n",
       "    <tr>\n",
       "      <th>3</th>\n",
       "      <td>FBI Russia probe helped by Australian diplomat...</td>\n",
       "      <td>WASHINGTON (Reuters) - Trump campaign adviser ...</td>\n",
       "      <td>politicsNews</td>\n",
       "      <td>December 30, 2017</td>\n",
       "      <td>1</td>\n",
       "    </tr>\n",
       "    <tr>\n",
       "      <th>4</th>\n",
       "      <td>Trump wants Postal Service to charge 'much mor...</td>\n",
       "      <td>SEATTLE/WASHINGTON (Reuters) - President Donal...</td>\n",
       "      <td>politicsNews</td>\n",
       "      <td>December 29, 2017</td>\n",
       "      <td>1</td>\n",
       "    </tr>\n",
       "  </tbody>\n",
       "</table>\n",
       "</div>"
      ],
      "text/plain": [
       "                                               title  \\\n",
       "0  As U.S. budget fight looms, Republicans flip t...   \n",
       "1  U.S. military to accept transgender recruits o...   \n",
       "2  Senior U.S. Republican senator: 'Let Mr. Muell...   \n",
       "3  FBI Russia probe helped by Australian diplomat...   \n",
       "4  Trump wants Postal Service to charge 'much mor...   \n",
       "\n",
       "                                                text       subject  \\\n",
       "0  WASHINGTON (Reuters) - The head of a conservat...  politicsNews   \n",
       "1  WASHINGTON (Reuters) - Transgender people will...  politicsNews   \n",
       "2  WASHINGTON (Reuters) - The special counsel inv...  politicsNews   \n",
       "3  WASHINGTON (Reuters) - Trump campaign adviser ...  politicsNews   \n",
       "4  SEATTLE/WASHINGTON (Reuters) - President Donal...  politicsNews   \n",
       "\n",
       "                 date  true  \n",
       "0  December 31, 2017      1  \n",
       "1  December 29, 2017      1  \n",
       "2  December 31, 2017      1  \n",
       "3  December 30, 2017      1  \n",
       "4  December 29, 2017      1  "
      ]
     },
     "execution_count": 6,
     "metadata": {},
     "output_type": "execute_result"
    }
   ],
   "source": [
    "df = df_true.append(df_fake, ignore_index=True)\n",
    "df.head()"
   ]
  },
  {
   "cell_type": "markdown",
   "metadata": {},
   "source": [
    "### Columnas del DataFrame"
   ]
  },
  {
   "cell_type": "code",
   "execution_count": 7,
   "metadata": {
    "ExecuteTime": {
     "end_time": "2020-08-14T22:39:32.514389Z",
     "start_time": "2020-08-14T22:39:32.505411Z"
    }
   },
   "outputs": [
    {
     "data": {
      "text/plain": [
       "['title', 'text', 'subject', 'date', 'true']"
      ]
     },
     "execution_count": 7,
     "metadata": {},
     "output_type": "execute_result"
    }
   ],
   "source": [
    "# Solo basta un dataframe pues comparten el nombre de las columnas\n",
    "columnas = list(df.columns)\n",
    "columnas"
   ]
  },
  {
   "cell_type": "markdown",
   "metadata": {},
   "source": [
    "## Información de los datasets"
   ]
  },
  {
   "cell_type": "markdown",
   "metadata": {},
   "source": [
    "### Información de los datasets"
   ]
  },
  {
   "cell_type": "markdown",
   "metadata": {},
   "source": [
    "Visualizamos la información de las filas de los datasets."
   ]
  },
  {
   "cell_type": "code",
   "execution_count": 8,
   "metadata": {
    "ExecuteTime": {
     "end_time": "2020-08-14T22:39:34.710428Z",
     "start_time": "2020-08-14T22:39:34.680589Z"
    }
   },
   "outputs": [
    {
     "name": "stdout",
     "output_type": "stream",
     "text": [
      "<class 'pandas.core.frame.DataFrame'>\n",
      "RangeIndex: 21417 entries, 0 to 21416\n",
      "Data columns (total 5 columns):\n",
      " #   Column   Non-Null Count  Dtype \n",
      "---  ------   --------------  ----- \n",
      " 0   title    21417 non-null  object\n",
      " 1   text     21417 non-null  object\n",
      " 2   subject  21417 non-null  object\n",
      " 3   date     21417 non-null  object\n",
      " 4   true     21417 non-null  int64 \n",
      "dtypes: int64(1), object(4)\n",
      "memory usage: 836.7+ KB\n"
     ]
    }
   ],
   "source": [
    "df_true.info(verbose=True)"
   ]
  },
  {
   "cell_type": "code",
   "execution_count": 9,
   "metadata": {
    "ExecuteTime": {
     "end_time": "2020-08-14T22:39:35.186134Z",
     "start_time": "2020-08-14T22:39:35.166152Z"
    }
   },
   "outputs": [
    {
     "name": "stdout",
     "output_type": "stream",
     "text": [
      "<class 'pandas.core.frame.DataFrame'>\n",
      "RangeIndex: 23481 entries, 0 to 23480\n",
      "Data columns (total 5 columns):\n",
      " #   Column   Non-Null Count  Dtype \n",
      "---  ------   --------------  ----- \n",
      " 0   title    23481 non-null  object\n",
      " 1   text     23481 non-null  object\n",
      " 2   subject  23481 non-null  object\n",
      " 3   date     23481 non-null  object\n",
      " 4   true     23481 non-null  int64 \n",
      "dtypes: int64(1), object(4)\n",
      "memory usage: 917.4+ KB\n"
     ]
    }
   ],
   "source": [
    "df_fake.info(verbose=True)"
   ]
  },
  {
   "cell_type": "code",
   "execution_count": 10,
   "metadata": {
    "ExecuteTime": {
     "end_time": "2020-08-14T22:39:36.923731Z",
     "start_time": "2020-08-14T22:39:36.895815Z"
    }
   },
   "outputs": [
    {
     "name": "stdout",
     "output_type": "stream",
     "text": [
      "<class 'pandas.core.frame.DataFrame'>\n",
      "RangeIndex: 44898 entries, 0 to 44897\n",
      "Data columns (total 5 columns):\n",
      " #   Column   Non-Null Count  Dtype \n",
      "---  ------   --------------  ----- \n",
      " 0   title    44898 non-null  object\n",
      " 1   text     44898 non-null  object\n",
      " 2   subject  44898 non-null  object\n",
      " 3   date     44898 non-null  object\n",
      " 4   true     44898 non-null  int64 \n",
      "dtypes: int64(1), object(4)\n",
      "memory usage: 1.7+ MB\n"
     ]
    }
   ],
   "source": [
    "df.info(verbose=True)"
   ]
  },
  {
   "cell_type": "markdown",
   "metadata": {},
   "source": [
    "### Eliminar los datos que no sean fechas\n",
    "En algunas filas de los DataFrames hay información etiquetada como fecha, cuando no corresponde a una fecha. Reemplazamos estos valores por un tipo de dato NaT y los dropeamos."
   ]
  },
  {
   "cell_type": "code",
   "execution_count": 11,
   "metadata": {
    "ExecuteTime": {
     "end_time": "2020-08-14T22:39:41.132926Z",
     "start_time": "2020-08-14T22:39:41.126131Z"
    },
    "code_folding": []
   },
   "outputs": [],
   "source": [
    "def is_date(string, fuzzy=False):\n",
    "    \"\"\"\n",
    "    Return whether the string can be interpreted as a date.\n",
    "\n",
    "    :Param string: str, string to check for date\n",
    "    :Param fuzzy: bool, ignore unknown tokens in string if True\n",
    "    \"\"\"\n",
    "    from dateutil.parser import parse\n",
    "    \n",
    "    try: \n",
    "        parse(string, fuzzy=fuzzy)\n",
    "        return True\n",
    "\n",
    "    except ValueError:\n",
    "        return False"
   ]
  },
  {
   "cell_type": "code",
   "execution_count": 12,
   "metadata": {
    "ExecuteTime": {
     "end_time": "2020-08-14T22:40:21.285306Z",
     "start_time": "2020-08-14T22:40:03.365019Z"
    }
   },
   "outputs": [],
   "source": [
    "nat = np.datetime64('NaT')\n",
    "\n",
    "def nat_conversor(x): return pd.Timestamp(x) if is_date(x) else nat\n",
    "\n",
    "df_fake[\"date\"] = df_fake[\"date\"].apply(nat_conversor)\n",
    "df_true[\"date\"] = df_true[\"date\"].apply(nat_conversor)\n",
    "df[\"date\"] = df[\"date\"].apply(nat_conversor)\n",
    "\n",
    "L_df = [df_fake, df_true, df]"
   ]
  },
  {
   "cell_type": "code",
   "execution_count": 15,
   "metadata": {
    "ExecuteTime": {
     "end_time": "2020-08-14T22:43:44.368960Z",
     "start_time": "2020-08-14T22:43:44.295043Z"
    }
   },
   "outputs": [],
   "source": [
    "for df_ in L_df:\n",
    "    df_.dropna(inplace=True)\n",
    "\n",
    "del nat_conversor, nat"
   ]
  },
  {
   "cell_type": "markdown",
   "metadata": {},
   "source": [
    "### Variables únicas"
   ]
  },
  {
   "cell_type": "markdown",
   "metadata": {},
   "source": [
    "En principio, la columna `'title'` y `'text'` no son ni númericas, ni categóricas. `'date'` es un tipo de variable temporal, mientras que `'subject'` es una variable categórica. \n",
    "\n",
    "Veamos cuantas variables categóricas diferentes hay para cada `DataFrame`."
   ]
  },
  {
   "cell_type": "code",
   "execution_count": 32,
   "metadata": {
    "ExecuteTime": {
     "end_time": "2020-08-14T23:07:44.062884Z",
     "start_time": "2020-08-14T23:07:44.051878Z"
    }
   },
   "outputs": [
    {
     "name": "stdout",
     "output_type": "stream",
     "text": [
      "El dataset de noticias verdaderas posee las siguientes etiquetas:\n",
      "* politicsNews\n",
      "* worldnews\n",
      "\n",
      "El dataset de noticias falsas posee las siguientes etiquetas:\n",
      "* News\n",
      "* politics\n",
      "* Government News\n",
      "* left-news\n",
      "* US_News\n",
      "* Middle-east\n"
     ]
    }
   ],
   "source": [
    "print(\"El dataset de noticias verdaderas posee las siguientes etiquetas:\")\n",
    "for label in pd.unique(df_true.subject):\n",
    "    print(f\"* {label}\")\n",
    "    \n",
    "print(\"\\nEl dataset de noticias falsas posee las siguientes etiquetas:\")\n",
    "for label in pd.unique(df_fake.subject):\n",
    "    print(f\"* {label}\")"
   ]
  },
  {
   "cell_type": "code",
   "execution_count": 33,
   "metadata": {
    "ExecuteTime": {
     "end_time": "2020-08-14T23:08:10.234077Z",
     "start_time": "2020-08-14T23:08:10.192192Z"
    },
    "scrolled": true
   },
   "outputs": [
    {
     "name": "stdout",
     "output_type": "stream",
     "text": [
      "Cantidad de datos por categoría para las noticias verdaderas:\n",
      "La categoría politicsNews posee 11272 datos.\n",
      "La categoría worldnews posee 10145 datos.\n",
      "\n",
      "Cantidad de datos por categoría para las noticias falsas:\n",
      "La categoría News posee 9050 datos.\n",
      "La categoría politics posee 6836 datos.\n",
      "La categoría Government News posee 1568 datos.\n",
      "La categoría left-news posee 4456 datos.\n",
      "La categoría US_News posee 783 datos.\n",
      "La categoría Middle-east posee 778 datos.\n"
     ]
    }
   ],
   "source": [
    "def imprimir_cantidad_por_categoria(df_, categoria):\n",
    "    cantidad = len(df_[df_.subject == categoria])\n",
    "    print(f\"La categoría {categoria} posee {cantidad} datos.\")\n",
    "    return None\n",
    "\n",
    "print(\"Cantidad de datos por categoría para las noticias verdaderas:\")\n",
    "for label in pd.unique(df_true.subject):\n",
    "    imprimir_cantidad_por_categoria(df_true, label)\n",
    "\n",
    "    \n",
    "print(\"\\nCantidad de datos por categoría para las noticias falsas:\")\n",
    "for label in pd.unique(df_fake.subject):\n",
    "    imprimir_cantidad_por_categoria(df_fake, label)"
   ]
  },
  {
   "cell_type": "code",
   "execution_count": 26,
   "metadata": {
    "ExecuteTime": {
     "end_time": "2020-08-14T22:58:01.883038Z",
     "start_time": "2020-08-14T22:58:01.871072Z"
    }
   },
   "outputs": [
    {
     "data": {
      "text/plain": [
       "10145"
      ]
     },
     "execution_count": 26,
     "metadata": {},
     "output_type": "execute_result"
    }
   ],
   "source": [
    "len(df_true[df_true.subject == 'worldnews'])"
   ]
  },
  {
   "cell_type": "markdown",
   "metadata": {},
   "source": [
    "¿A qué se refiere `'worldnews'`? Obtengamos una noticia de esta categoría para observarlo:"
   ]
  },
  {
   "cell_type": "code",
   "execution_count": 18,
   "metadata": {
    "ExecuteTime": {
     "end_time": "2020-08-14T22:49:56.438340Z",
     "start_time": "2020-08-14T22:49:56.432357Z"
    },
    "code_folding": []
   },
   "outputs": [],
   "source": [
    "def revisar_noticias(df, category, gap=5):\n",
    "    \"\"\"Entrega varias noticias de una categoría en específico.\n",
    "    'df' es el DataFrame, 'category' es la categoría que se quiere revisar\n",
    "    y 'gap' es el número de noticias que se quiere mostrar.\n",
    "    \"\"\"\n",
    "    df_ = df[df.subject == category]\n",
    "    df_.reset_index(inplace=True)\n",
    "    for i in range(gap):\n",
    "        print(\"Título:\", f'\"{df_.title[i]}\"')\n",
    "        print(\"Texto:\", f\"{df_.text[i]}\")\n",
    "        print(\"\\n\", \"-\" * 80, \"\\n\")"
   ]
  },
  {
   "cell_type": "code",
   "execution_count": 19,
   "metadata": {
    "ExecuteTime": {
     "end_time": "2020-08-14T22:49:56.933337Z",
     "start_time": "2020-08-14T22:49:56.911946Z"
    },
    "code_folding": [
     0
    ],
    "scrolled": true
   },
   "outputs": [
    {
     "name": "stdout",
     "output_type": "stream",
     "text": [
      "Título: \"Reuters journalists in Myanmar appear in court, remanded for another 14 days\"\n",
      "Texto: YANGON (Reuters) - Two Reuters journalists who have been detained in Myanmar for the past two weeks were remanded in custody for a further two weeks on Wednesday as a probe continues into allegations they breached the nation s Official Secrets Act. Judge Ohn Myint granted the 14-day extension in the case of the journalists, Wa Lone, 31, and Kyaw Soe Oo, 27, at the request of the police, who then took them to Yangon s Insein prison. They were previously being held in a police compound. When they appeared at the Mingaladon court for the proceedings, Wa Lone and Kyaw Soe Oo were allowed to meet their families and their lawyer for the first time since their arrest. The two journalists had worked on Reuters coverage of a crisis in the western state of Rakhine, where - according to United Nations  estimates - about 655,000 Rohingya Muslims have fled from a fierce military crackdown on militants. They were detained on Dec 12 after they had been invited to meet police officials over dinner. The Ministry of Information has said they  illegally acquired information with the intention to share it with foreign media  and faced charges under the British colonial-era Official Secrets Act, which carries a maximum prison sentence of 14 years. The two journalists said they had not been mistreated in custody.    The situation is okay,  Wa Lone said after the hearing.  We will face it the best we can because we have never done anything wrong,  he said.  We have never violated the media law nor ethics. We will continue to do our best.  A Reuters spokesperson said they should be freed.  These two journalists are being held for simply doing their jobs and have done nothing wrong. It is time for Wa Lone and Kyaw Soe Oo to be released,  the spokesperson said. About 100 journalists, lawyers and farmers held a protest in the town of Pyay, 290 km (180 miles) north of Yangon, to demand the release of Wa Lone and Kyaw Soe Oo, one of the participants said. Members of the Protection Committee for Myanmar Journalists sat draped in chains in a public square in the center of the town and wrote the names of the two arrested reporters on their palms, an often used symbol in Myanmar of solidarity with those in jail.  Government officials from some of the world s major nations, including the United States, Britain and Canada, as well as top U.N. officials, have previously called for their release. Dozens of reporters and cameramen were outside the courthouse in a northern district of Yangon for the appearance of the two journalists. They were brought in a white van, rather than a police truck, dressed in casual clothes and were not handcuffed.  Their lawyer, Than Zaw Aung, who has been retained by Reuters, also said the two had only been doing their job as journalists.  They are being accused under this charge while doing their work as media,  he told reporters. Lieutenant Colonel Myint Htwe, a senior staff officer from the Yangon Police Division, said:  We took action because they committed the crime. It needs to be solved in court.  Only their lawyer and the families of the two journalists,  along with police and government lawyers, were allowed into the courtroom. The families were later allowed to travel in the van as the two journalists were taken to prison.  I believe that he didn t commit any crime,  Pan Ei Mon, Wa Lone s wife, told Reuters.  I would like to request the government to consider releasing them.  Nyo Nyo Aye, a sister of Kyaw Soe Oo, said her brother told her he had not committed any offense.  I believe that he can come home soon,  she said. \n",
      "\n",
      " -------------------------------------------------------------------------------- \n",
      "\n",
      "Título: \"Kuwait says GCC to keep operating despite Qatar crisis\"\n",
      "Texto: DUBAI (Reuters) - Kuwait s deputy foreign minister said on Wednesday that the six-nation Gulf Cooperation Council would continue to operate despite a row among three of its members and Qatar that it has unsuccessfully sought to mediate. Saudi Arabia, the United Arab Emirates and Bahrain plus non-GCC member Egypt cut off diplomatic, travel and trade ties with Qatar in June, accusing it of supporting militants and their arch-foe Iran. Doha denies the charges and says their move is aimed at curtailing its sovereignty. Western nations have called for the countries, which are all close U.S. allies, to settle their differences in talks. The heads of state from the three boycotting countries skipped a GCC summit hosted by Kuwait s ruler in December, and the UAE called for the formation of a bilateral committee with Saudi Arabia on economic, political and military issues. But Kuwait appears determined to preserve the loose union set up in 1980 as a bulwark against larger neighbors Iraq and Iran, and said its reconciliation efforts would proceed. Despite the spat which appears to have no end in sight, the GCC s work  will not be frozen or disrupted,  Khaled Jarallah was quoted by state news agency KUNA as telling reporters on the sidelines of a conference in Kuwait.  After the summit in Kuwait, we are not worried about the future of the council,  Jarallah added.   Mediation efforts have not stopped, and a breakthrough will be achieved one day.  \n",
      "\n",
      " -------------------------------------------------------------------------------- \n",
      "\n",
      "Título: \"Nigeria says U.S. agrees delayed $593 million fighter plane sale\"\n",
      "Texto: ABUJA (Reuters) - The United States has formally agreed to sell 12 Super Tucano A-29 planes and weapons to Nigeria, the West African country s air force said, confirming the resurrection of a deal frozen by the Obama administration over rights concerns. Former U.S. President Barack Obama delayed the sale in one of his last decisions in office after the Nigerian Air Force bombed a refugee camp in January. But his successor Donald Trump decided to press on with the transaction to support Nigeria s efforts to fight Boko Haram militants and to boost U.S. defense jobs, sources told Reuters in April. The U.S. ambassador to Nigeria presented letters of offer and acceptance to Nigeria s air force earlier on Wednesday, the air force said in a statement.  It said the U.S. State Department had approved the sale and final agreements would be signed and necessary payments made before Feb. 20. There was no immediate statement from the U.S. embassy or from authorities in Washington. U.S. government and Nigerian Air Force officials would meet in early January to discuss the early delivery of the aircraft once payment had been made, the Nigerian air force said. The sale of the 12 aircraft, with weapons and services, is worth $593 million, and includes thousands of bombs and rockets.  The propeller-driven plane with reconnaissance, surveillance and attack capabilities, is made by Brazil s Embraer. A second production line is in Florida, in a partnership between Embraer and privately held Sierra Nevada Corp of Sparks, Nevada. The Super Tucano costs more than $10 million each and the price can go much higher depending on the configuration. It is powered by a Pratt & Whitney Canada PT 6 engine. \n",
      "\n",
      " -------------------------------------------------------------------------------- \n",
      "\n",
      "Título: \"Syrian rebels say discussing evacuation from territory near Israel\"\n",
      "Texto: BEIRUT (Reuters) - Syrian rebels in a pocket of land near where the Syrian, Lebanese and Israeli borders meet are negotiating a deal with the government to leave for other insurgent-held areas, rebel officials there said. The Syrian army, backed by Russian air power, Shi ite militias supported by Iran and local fighters from the Druze sect have besieged the rebel enclave around Beit Jin for weeks. In recent days it captured various positions, leaving the rebels trapped inside the town itself.  There is now negotiation on the departure of fighters and those who wish to leave with them,  said Abu Kanaan, an official in a local rebel group.  The militias are trying to convince them to evacuate to Idlib... There has been no agreement reached yet,  said Ibrahim al-Jebawi, an official with a Free Syrian Army faction familiar with the situation.  Syria s army and its allies have increasingly pushed for such evacuation deals for rebel enclaves near big cities or in other strategic locations after long periods of siege and bombardment.  The area around Beit Jin is sensitive because of its location next to the Israel-controlled Golan Heights.  Israel wants to keep Lebanon s Hezbollah, the most powerful of the Iran-backed militias aiding Syrian President Bashar al-Assad against the rebel groups, far away from its border with Syria.  It has repeatedly targeted military positions in Syria near the border after stray projectiles crossed into Israeli-controlled areas, and it has struck Hezbollah convoys and weapons caches inside Syria. \n",
      "\n",
      " -------------------------------------------------------------------------------- \n",
      "\n",
      "Título: \"Trump to host Norway's Solberg on Jan. 10, White House says\"\n",
      "Texto: WASHINGTON (Reuters) - U.S. President Donald Trump will host Norway s Prime Minister Erna Solberg in Washington next month to discuss various security and economic issues, the White House said on Wednesday. The two leaders will meet on Jan. 10 at the White House to talk about a range of topics including NATO and the fight against Islamic State as well as bilateral trade and investment, the White House said in a statement. \n",
      "\n",
      " -------------------------------------------------------------------------------- \n",
      "\n"
     ]
    }
   ],
   "source": [
    "revisar_noticias(df_true, \"worldnews\")"
   ]
  },
  {
   "cell_type": "markdown",
   "metadata": {},
   "source": [
    "Podemos decir entonces que una noticia de `'worldnews'` es una noticia estadounidense, que se refiere c/r al resto del mundo mundo."
   ]
  },
  {
   "cell_type": "markdown",
   "metadata": {},
   "source": [
    "¿Existirá un equivalente en `fakenews`? Empecemos por revisar la categoría `News`."
   ]
  },
  {
   "cell_type": "code",
   "execution_count": 20,
   "metadata": {
    "ExecuteTime": {
     "end_time": "2020-08-14T22:50:13.360998Z",
     "start_time": "2020-08-14T22:50:13.343042Z"
    },
    "scrolled": true
   },
   "outputs": [
    {
     "name": "stdout",
     "output_type": "stream",
     "text": [
      "Título: \" Donald Trump Sends Out Embarrassing New Year’s Eve Message; This is Disturbing\"\n",
      "Texto: Donald Trump just couldn t wish all Americans a Happy New Year and leave it at that. Instead, he had to give a shout out to his enemies, haters and  the very dishonest fake news media.  The former reality show star had just one job to do and he couldn t do it. As our Country rapidly grows stronger and smarter, I want to wish all of my friends, supporters, enemies, haters, and even the very dishonest Fake News Media, a Happy and Healthy New Year,  President Angry Pants tweeted.  2018 will be a great year for America! As our Country rapidly grows stronger and smarter, I want to wish all of my friends, supporters, enemies, haters, and even the very dishonest Fake News Media, a Happy and Healthy New Year. 2018 will be a great year for America!  Donald J. Trump (@realDonaldTrump) December 31, 2017Trump s tweet went down about as welll as you d expect.What kind of president sends a New Year s greeting like this despicable, petty, infantile gibberish? Only Trump! His lack of decency won t even allow him to rise above the gutter long enough to wish the American citizens a happy new year!  Bishop Talbert Swan (@TalbertSwan) December 31, 2017no one likes you  Calvin (@calvinstowell) December 31, 2017Your impeachment would make 2018 a great year for America, but I ll also accept regaining control of Congress.  Miranda Yaver (@mirandayaver) December 31, 2017Do you hear yourself talk? When you have to include that many people that hate you you have to wonder? Why do the they all hate me?  Alan Sandoval (@AlanSandoval13) December 31, 2017Who uses the word Haters in a New Years wish??  Marlene (@marlene399) December 31, 2017You can t just say happy new year?  Koren pollitt (@Korencarpenter) December 31, 2017Here s Trump s New Year s Eve tweet from 2016.Happy New Year to all, including to my many enemies and those who have fought me and lost so badly they just don t know what to do. Love!  Donald J. Trump (@realDonaldTrump) December 31, 2016This is nothing new for Trump. He s been doing this for years.Trump has directed messages to his  enemies  and  haters  for New Year s, Easter, Thanksgiving, and the anniversary of 9/11. pic.twitter.com/4FPAe2KypA  Daniel Dale (@ddale8) December 31, 2017Trump s holiday tweets are clearly not presidential.How long did he work at Hallmark before becoming President?  Steven Goodine (@SGoodine) December 31, 2017He s always been like this . . . the only difference is that in the last few years, his filter has been breaking down.  Roy Schulze (@thbthttt) December 31, 2017Who, apart from a teenager uses the term haters?  Wendy (@WendyWhistles) December 31, 2017he s a fucking 5 year old  Who Knows (@rainyday80) December 31, 2017So, to all the people who voted for this a hole thinking he would change once he got into power, you were wrong! 70-year-old men don t change and now he s a year older.Photo by Andrew Burton/Getty Images.\n",
      "\n",
      " -------------------------------------------------------------------------------- \n",
      "\n",
      "Título: \" Drunk Bragging Trump Staffer Started Russian Collusion Investigation\"\n",
      "Texto: House Intelligence Committee Chairman Devin Nunes is going to have a bad day. He s been under the assumption, like many of us, that the Christopher Steele-dossier was what prompted the Russia investigation so he s been lashing out at the Department of Justice and the FBI in order to protect Trump. As it happens, the dossier is not what started the investigation, according to documents obtained by the New York Times.Former Trump campaign adviser George Papadopoulos was drunk in a wine bar when he revealed knowledge of Russian opposition research on Hillary Clinton.On top of that, Papadopoulos wasn t just a covfefe boy for Trump, as his administration has alleged. He had a much larger role, but none so damning as being a drunken fool in a wine bar. Coffee boys  don t help to arrange a New York meeting between Trump and President Abdel Fattah el-Sisi of Egypt two months before the election. It was known before that the former aide set up meetings with world leaders for Trump, but team Trump ran with him being merely a coffee boy.In May 2016, Papadopoulos revealed to Australian diplomat Alexander Downer that Russian officials were shopping around possible dirt on then-Democratic presidential nominee Hillary Clinton. Exactly how much Mr. Papadopoulos said that night at the Kensington Wine Rooms with the Australian, Alexander Downer, is unclear,  the report states.  But two months later, when leaked Democratic emails began appearing online, Australian officials passed the information about Mr. Papadopoulos to their American counterparts, according to four current and former American and foreign officials with direct knowledge of the Australians  role. Papadopoulos pleaded guilty to lying to the F.B.I. and is now a cooperating witness with Special Counsel Robert Mueller s team.This isn t a presidency. It s a badly scripted reality TV show.Photo by Win McNamee/Getty Images.\n",
      "\n",
      " -------------------------------------------------------------------------------- \n",
      "\n",
      "Título: \" Sheriff David Clarke Becomes An Internet Joke For Threatening To Poke People ‘In The Eye’\"\n",
      "Texto: On Friday, it was revealed that former Milwaukee Sheriff David Clarke, who was being considered for Homeland Security Secretary in Donald Trump s administration, has an email scandal of his own.In January, there was a brief run-in on a plane between Clarke and fellow passenger Dan Black, who he later had detained by the police for no reason whatsoever, except that maybe his feelings were hurt. Clarke messaged the police to stop Black after he deplaned, and now, a search warrant has been executed by the FBI to see the exchanges.Clarke is calling it fake news even though copies of the search warrant are on the Internet. I am UNINTIMIDATED by lib media attempts to smear and discredit me with their FAKE NEWS reports designed to silence me,  the former sheriff tweeted.  I will continue to poke them in the eye with a sharp stick and bitch slap these scum bags til they get it. I have been attacked by better people than them #MAGA I am UNINTIMIDATED by lib media attempts to smear and discredit me with their FAKE NEWS reports designed to silence me. I will continue to poke them in the eye with a sharp stick and bitch slap these scum bags til they get it. I have been attacked by better people than them #MAGA pic.twitter.com/XtZW5PdU2b  David A. Clarke, Jr. (@SheriffClarke) December 30, 2017He didn t stop there.BREAKING NEWS! When LYING LIB MEDIA makes up FAKE NEWS to smear me, the ANTIDOTE is go right at them. Punch them in the nose & MAKE THEM TASTE THEIR OWN BLOOD. Nothing gets a bully like LYING LIB MEDIA S attention better than to give them a taste of their own blood #neverbackdown pic.twitter.com/T2NY2psHCR  David A. Clarke, Jr. (@SheriffClarke) December 30, 2017The internet called him out.This is your local newspaper and that search warrant isn t fake, and just because the chose not to file charges at the time doesn t mean they won t! Especially if you continue to lie. Months after decision not to charge Clarke, email search warrant filed https://t.co/zcbyc4Wp5b  KeithLeBlanc (@KeithLeBlanc63) December 30, 2017I just hope the rest of the Village People aren t implicated.  Kirk Ketchum (@kirkketchum) December 30, 2017Slaw, baked potatoes, or French fries? pic.twitter.com/fWfXsZupxy  ALT- Immigration   (@ALT_uscis) December 30, 2017pic.twitter.com/ymsOBLjfxU  Pendulum Swinger (@PendulumSwngr) December 30, 2017you called your police friends to stand up for you when someone made fun of your hat  Chris Jackson (@ChrisCJackson) December 30, 2017Is it me, with this masterful pshop of your hat, which I seem to never tire of. I think it s the steely resolve in your one visible eye pic.twitter.com/dWr5k8ZEZV  Chris Mohney (@chrismohney) December 30, 2017Are you indicating with your fingers how many people died in your jail? I think you re a few fingers short, dipshit  Ike Barinholtz (@ikebarinholtz) December 30, 2017ROFL. Internet tough guy with fake flair. pic.twitter.com/ulCFddhkdy  KellMeCrazy (@Kel_MoonFace) December 30, 2017You re so edgy, buddy.  Mrs. SMH (@MRSSMH2) December 30, 2017Is his break over at Applebees?  Aaron (@feltrrr2) December 30, 2017Are you trying to earn your  still relevant  badge?  CircusRebel (@CircusDrew) December 30, 2017make sure to hydrate, drink lots of water. It s rumored that prisoners can be denied water by prison officials.  Robert Klinc (@RobertKlinc1) December 30, 2017Terrill Thomas, the 38-year-old black man who died of thirst in Clarke s Milwaukee County Jail cell this April, was a victim of homicide. We just thought we should point that out. It can t be repeated enough.Photo by Spencer Platt/Getty Images.\n",
      "\n",
      " -------------------------------------------------------------------------------- \n",
      "\n",
      "Título: \" Trump Is So Obsessed He Even Has Obama’s Name Coded Into His Website (IMAGES)\"\n",
      "Texto: On Christmas day, Donald Trump announced that he would  be back to work  the following day, but he is golfing for the fourth day in a row. The former reality show star blasted former President Barack Obama for playing golf and now Trump is on track to outpace the number of golf games his predecessor played.Updated my tracker of Trump s appearances at Trump properties.71 rounds of golf including today s. At this pace, he ll pass Obama s first-term total by July 24 next year. https://t.co/Fg7VacxRtJ pic.twitter.com/5gEMcjQTbH  Philip Bump (@pbump) December 29, 2017 That makes what a Washington Post reporter discovered on Trump s website really weird, but everything about this administration is bizarre AF. The coding contained a reference to Obama and golf:  Unlike Obama, we are working to fix the problem   and not on the golf course.  However, the coding wasn t done correctly.The website of Donald Trump, who has spent several days in a row at the golf course, is coded to serve up the following message in the event of an internal server error: https://t.co/zrWpyMXRcz pic.twitter.com/wiQSQNNzw0  Christopher Ingraham (@_cingraham) December 28, 2017That snippet of code appears to be on all https://t.co/dkhw0AlHB4 pages, which the footer says is paid for by the RNC? pic.twitter.com/oaZDT126B3  Christopher Ingraham (@_cingraham) December 28, 2017It s also all over https://t.co/ayBlGmk65Z. As others have noted in this thread, this is weird code and it s not clear it would ever actually display, but who knows.  Christopher Ingraham (@_cingraham) December 28, 2017After the coding was called out, the reference to Obama was deleted.UPDATE: The golf error message has been removed from the Trump and GOP websites. They also fixed the javascript  =  vs  ==  problem. Still not clear when these messages would actually display, since the actual 404 (and presumably 500) page displays a different message pic.twitter.com/Z7dmyQ5smy  Christopher Ingraham (@_cingraham) December 29, 2017That suggests someone at either RNC or the Trump admin is sensitive enough to Trump s golf problem to make this issue go away quickly once people noticed. You have no idea how much I d love to see the email exchange that led us here.  Christopher Ingraham (@_cingraham) December 29, 2017 The code was f-cked up.The best part about this is that they are using the  =  (assignment) operator which means that bit of code will never get run. If you look a few lines up  errorCode  will always be  404          (@tw1trsux) December 28, 2017trump s coders can t code. Nobody is surprised.  Tim Peterson (@timrpeterson) December 28, 2017Donald Trump is obsessed with Obama that his name was even in the coding of his website while he played golf again.Photo by Joe Raedle/Getty Images.\n",
      "\n",
      " -------------------------------------------------------------------------------- \n",
      "\n",
      "Título: \" Pope Francis Just Called Out Donald Trump During His Christmas Speech\"\n",
      "Texto: Pope Francis used his annual Christmas Day message to rebuke Donald Trump without even mentioning his name. The Pope delivered his message just days after members of the United Nations condemned Trump s move to recognize Jerusalem as the capital of Israel. The Pontiff prayed on Monday for the  peaceful coexistence of two states within mutually agreed and internationally recognized borders. We see Jesus in the children of the Middle East who continue to suffer because of growing tensions between Israelis and Palestinians,  Francis said.  On this festive day, let us ask the Lord for peace for Jerusalem and for all the Holy Land. Let us pray that the will to resume dialogue may prevail between the parties and that a negotiated solution can finally be reached. The Pope went on to plead for acceptance of refugees who have been forced from their homes, and that is an issue Trump continues to fight against. Francis used Jesus for which there was  no place in the inn  as an analogy. Today, as the winds of war are blowing in our world and an outdated model of development continues to produce human, societal and environmental decline, Christmas invites us to focus on the sign of the Child and to recognize him in the faces of little children, especially those for whom, like Jesus,  there is no place in the inn,  he said. Jesus knows well the pain of not being welcomed and how hard it is not to have a place to lay one s head,  he added.  May our hearts not be closed as they were in the homes of Bethlehem. The Pope said that Mary and Joseph were immigrants who struggled to find a safe place to stay in Bethlehem. They had to leave their people, their home, and their land,  Francis said.  This was no comfortable or easy journey for a young couple about to have a child.   At heart, they were full of hope and expectation because of the child about to be born; yet their steps were weighed down by the uncertainties and dangers that attend those who have to leave their home behind. So many other footsteps are hidden in the footsteps of Joseph and Mary,  Francis said Sunday. We see the tracks of entire families forced to set out in our own day. We see the tracks of millions of persons who do not choose to go away, but driven from their land, leave behind their dear ones. Amen to that.Photo by Christopher Furlong/Getty Images.\n",
      "\n",
      " -------------------------------------------------------------------------------- \n",
      "\n"
     ]
    }
   ],
   "source": [
    "revisar_noticias(df_fake, \"News\")"
   ]
  },
  {
   "cell_type": "markdown",
   "metadata": {},
   "source": [
    "Parecen ser simplemente noticias estándar, nada relacionado con noticias del mundo."
   ]
  },
  {
   "cell_type": "code",
   "execution_count": 21,
   "metadata": {
    "ExecuteTime": {
     "end_time": "2020-08-14T22:52:00.176778Z",
     "start_time": "2020-08-14T22:52:00.157422Z"
    }
   },
   "outputs": [
    {
     "name": "stdout",
     "output_type": "stream",
     "text": [
      "Título: \"Democrat Senator Warns Mueller Not To Release Findings On Russia Before 2018 Midterms\"\n",
      "Texto: According to The Hill, Democrat Senator Bob Casey is warning special counsel Robert Mueller against issuing his Russia report near the 2018 electionSen. Bob Casey Jr. (D-Pa.) on Sunday warned special counsel Robert Mueller against issuing a report on his findings in the ongoing investigation of Russian interference in the 2016 election near the upcoming 2018 midterm elections.Speaking to radio host John Catsimatidis on New York radio station AM 970, Casey said he couldn t make any assumptions about where the Mueller investigation is going in light of indictments issued on Friday. But he added that he would recommend Mueller not release a report on his findings near the midterms when it would distract from elections or cause people to question the election s integrity. I don t think we ll know anywhere near the full story until [Mueller] issues his report,  Casey said.  But once you get into the summer, and you get close to the election, I think it s a mistake for him to release it late. I think you should wait until after [the election]  Casey said. \n",
      "\n",
      " -------------------------------------------------------------------------------- \n",
      "\n",
      "Título: \"MSNBC ANCHOR Flabbergasted at What Texas Teachers Do to Protect Their Students [Video]\"\n",
      "Texto: If we protect every other government building or public venue with armed guards, why shouldn t our schools be protected with armed teachers? A Texas Sheriff shocked an MSNBC host when he discussed how he prepares local teachers to be armed in the classroom. common sense solution? You betcha!Sheriff Paul Cairney of Argyle, Texas, described the process by which staff members can carry firearms in the school district. The Sheriff said that the staff at the school who choose to carry a firearm go through an intense round of interviews and training before they are allowed to carry on campus. The MSNBC host was flabbergasted at the practice and asked the Sheriff about concerns for the safety of the students in the school when there are firearms around.Sheriff Cairney:  The time to do nothing is over THE PROCESS TO BECOME A SCHOOL MARSHALL:To become a school marshal, those employees must undergo extensive active shooter and firearms training with the state. They must also undergo a mental health evaluation. They receive a school marshal designation by the Texas Commission on Law Enforcement and must renew their license every two years by undergoing the same training and evaluation. Outside of campuses in Keene and Argyle, signs warn visitors that there are staff members who are armed and are prepared to protect children.\n",
      "\n",
      " -------------------------------------------------------------------------------- \n",
      "\n",
      "Título: \"WATCH: SNOWFLAKES ASKED Communist Party Platform or Democratic Party Platform? [Video]\"\n",
      "Texto: Ami Horowitz is fantastic! Check out this man on the street effort to see how much snowflakes know about what they profess to support. Have the Democrats gone so far to the left that they can t tell the difference between their party platform and that of the communists? It s an eyeopener!If you haven t seen Ami Horowitz before, he has a fantastic video about sharia law in America:Ami Horowitz hits the streets of Minnesota to find out if the Somali Muslims there understand that American law is the only law. They don t get it and say that they prefer Sharia law. Do you think that if we keep bringing over thousands and thousands of Muslims that they will want to keep our law? Think about it Dana Loesch speaks with the filmmaker Ami Horowitz: \n",
      "\n",
      " -------------------------------------------------------------------------------- \n",
      "\n",
      "Título: \"JUST IN: BADASS GENERAL JOHN KELLY Shoved Chinese Security Official’s Hand Off US Military Aide Carrying Nuclear Football During Trump Meeting In Beijing\"\n",
      "Texto: Just one more reminder of why President Trump chose the no-nonsense General John Kelly to be his chief of staff On Thursday, Nov. 9, when President Trump and his team visited Beijing s Great Hall of the People, Chief of Staff John Kelly and a U.S. Secret Service agent skirmished with Chinese security officials over the nuclear football.I ve spoken to five sources familiar with the events. Here s what happened, as they describe it:The whole scuffle was over in a flash, and the U.S. officials told about the incident were asked to keep quiet about it. Trump s team followed the normal security procedure to brief the Chinese before their visit to Beijing, according to a person familiar with the trip  but somebody at the Chinese end either didn t get the memo or decided to mess with the Americans anyway.I m told that at no point did the Chinese have the nuclear football in their possession or even touch the briefcase. I m also told the head of the Chinese security detail apologized to the Americans afterward for the misunderstanding.   Axios\n",
      "\n",
      " -------------------------------------------------------------------------------- \n",
      "\n",
      "Título: \"DOJ’s JEFF SESSIONS Opens Investigation Into What The FBI Told The FISA Court About The “Fake” Dossier To Get Warrants\"\n",
      "Texto: Thank goodnesss Jeff Sessions is moving on finding out what went on behind the scenes to acquire FISA warrants. In other words, what was NOT said in order to get the judge to approve the FISA warrant to spy:We can start with why law enforcement officials who submitted the application failed to note that the Clinton campaign and DNC funded the dossier. The application does note that the dossier was put together by a  U.S. person  with political motivations, but Republicans have argued that the application should have been more specific.Via Daily Caller: Attorney General Jeff Sessions said Sunday that the Department of Justice is investigating whether the FBI submitted accurate information about the infamous Steele dossier in order to obtain a surveillance warrant against former Trump campaign adviser Carter Page. Are you, sir, investigating the fact that the FBI used the dossier to get a wiretap against Trump associates and they did not tell the FISA court that the Democrats and Hillary Clinton paid for the dossier?  Maria Bartiromo, the host of Fox News   Sunday Morning Futures,  asked Sessions. Let me tell you, every FISA warrant based on facts submitted to that court have to be accurate,  he replied.Keep reading \n",
      "\n",
      " -------------------------------------------------------------------------------- \n",
      "\n"
     ]
    }
   ],
   "source": [
    "revisar_noticias(df_fake, \"politics\")"
   ]
  },
  {
   "cell_type": "markdown",
   "metadata": {},
   "source": [
    "\n",
    "\n",
    "Revisemos con la categoría `Middle-east`"
   ]
  },
  {
   "cell_type": "code",
   "execution_count": null,
   "metadata": {
    "ExecuteTime": {
     "end_time": "2020-07-31T23:53:23.778301Z",
     "start_time": "2020-07-31T23:53:23.761347Z"
    },
    "scrolled": true
   },
   "outputs": [],
   "source": [
    "revisar_noticias(df_fake, \"Middle-east\")"
   ]
  },
  {
   "cell_type": "markdown",
   "metadata": {},
   "source": [
    "No parece tener relación con noticias del mundo. Veamos ahora la categoría `left-news`"
   ]
  },
  {
   "cell_type": "code",
   "execution_count": null,
   "metadata": {
    "ExecuteTime": {
     "end_time": "2020-07-31T23:53:23.805228Z",
     "start_time": "2020-07-31T23:53:23.791267Z"
    }
   },
   "outputs": [],
   "source": [
    "revisar_noticias(df_fake, 'left-news')"
   ]
  },
  {
   "cell_type": "markdown",
   "metadata": {},
   "source": [
    "##### Conclusión de Panchito\n",
    "\n",
    "Con la última categoría tentativa a ser una noticia acerca del mundo, podemos concluir a priori que no hay noticias falsas acerca del resto del mundo. Con lo que una alternativa tentativa para que el algoritmo no sufra de overfitting, es el de eliminar esta categoría.\n",
    "\n",
    "El problema que tendríamos con esto, es quedarnos únicamente con noticias acerca de la política, así que una opción a esto sería eliminar varias categorías de las noticias falsas, o bien, mantenerlas y decidir cuál específicamente son de política.\n",
    "\n",
    "Otra opción es predecir sin ocupar esta columna, para no tener ese \"spolier\" de ser una noticia falsa."
   ]
  },
  {
   "cell_type": "markdown",
   "metadata": {},
   "source": [
    "# EDA"
   ]
  },
  {
   "cell_type": "markdown",
   "metadata": {},
   "source": [
    "### Análisis gráfico del tiempo"
   ]
  },
  {
   "cell_type": "code",
   "execution_count": null,
   "metadata": {
    "ExecuteTime": {
     "end_time": "2020-08-07T00:46:50.905469Z",
     "start_time": "2020-08-07T00:46:50.889493Z"
    }
   },
   "outputs": [],
   "source": [
    "def rotular(ax, title, xlabel, ylabel):\n",
    "    \"\"\"Rotula un gráfico\n",
    "    \"\"\"\n",
    "    ax.set_title(title)\n",
    "    ax.set_xlabel(xlabel)\n",
    "    ax.set_ylabel(ylabel)"
   ]
  },
  {
   "cell_type": "code",
   "execution_count": null,
   "metadata": {
    "ExecuteTime": {
     "end_time": "2020-08-07T00:46:54.251024Z",
     "start_time": "2020-08-07T00:46:54.241263Z"
    }
   },
   "outputs": [],
   "source": [
    "def my_plot(ts_t, ts_f, \n",
    "            title=None, xlabel=None, ylabel=None,\n",
    "            rotation=40):\n",
    "    \"\"\"Plotea las cosas bajo el contexto que necesitamos.\n",
    "    \"\"\"\n",
    "    fig, ax = plt.subplots()  # Create a figure containing a single axes.\n",
    "    ax.plot(ts_f)  # Plot some data on the axes.\n",
    "    ax.plot(ts_t)\n",
    "    ax.legend(['Falsa', 'Verdadera'], loc=\"best\")\n",
    "\n",
    "    plt.xticks(rotation=rotation)\n",
    "\n",
    "    rotular(ax, \n",
    "            title=title,\n",
    "            xlabel=xlabel,\n",
    "            ylabel=ylabel,)\n",
    "\n",
    "    plt.show()"
   ]
  },
  {
   "cell_type": "code",
   "execution_count": null,
   "metadata": {
    "ExecuteTime": {
     "end_time": "2020-08-07T00:46:57.003992Z",
     "start_time": "2020-08-07T00:46:56.012249Z"
    },
    "code_folding": [
     3
    ]
   },
   "outputs": [],
   "source": [
    "L_dow = [\"Monday\", \"Tuesday\", \"Wednesday\",\n",
    "         \"Thursday\", \"Friday\", \"Saturday\", \"Sunday\", ]\n",
    "\n",
    "\n",
    "def count_dow(ser):\n",
    "    \"\"\"Cuenta los días de la semana y los rotúla.\n",
    "    \"\"\"\n",
    "    s = ser.dt.day_name().value_counts()\n",
    "    s = pd.Series({L_dow[i]: s[L_dow[i]] for i in range(7)})\n",
    "    return s\n",
    "\n",
    "\n",
    "ts_t = count_dow(df_true[\"date\"])\n",
    "ts_f = count_dow(df_fake[\"date\"])\n",
    "\n",
    "my_plot(ts_t, ts_f,\n",
    "        title=\"Comparación número de noticias por día de semana\",\n",
    "        xlabel=\"Día de la semana\",\n",
    "        ylabel=\"Número de noticias\",)"
   ]
  },
  {
   "cell_type": "markdown",
   "metadata": {},
   "source": [
    "Observamos que las noticias verdaderas sacan noticas de forma constante, mientras que las noticias falsas tiene una baja de más del 50% en los fines de semana."
   ]
  },
  {
   "cell_type": "code",
   "execution_count": null,
   "metadata": {
    "ExecuteTime": {
     "end_time": "2020-07-31T23:59:59.974301Z",
     "start_time": "2020-07-31T23:59:59.711964Z"
    },
    "code_folding": []
   },
   "outputs": [],
   "source": [
    "m = {\n",
    "    1: \"January\", 2: \"February\", 3: \"March\", 4: \"April\",\n",
    "    5: \"May\", 6: \"June\", 7: \"July\", 8: \"August\",\n",
    "    9: \"September\", 10: \"Octuber\", 11: \"November\", 12: \"December\"\n",
    "}\n",
    "\n",
    "def number2month(n):\n",
    "    \"\"\"Hace un mapeo del número de un mes, al nombre del mes.\n",
    "    Retorna None si no se entrega un número entero entre el 1 y el 12.\n",
    "    \"\"\"\n",
    "    return m.get(n, None)\n",
    "\n",
    "def count_month(ser):\n",
    "    \"\"\"Cuenta los meses y los rotúla.\n",
    "    \"\"\"\n",
    "    s = ser.dt.month.map(number2month).value_counts()\n",
    "    s = pd.Series({m[i]:s[m[i]] for i in range(1, 13)})\n",
    "    return s\n",
    "\n",
    "ts_f = count_month(df_fake[\"date\"])\n",
    "ts_t = count_month(df_true[\"date\"])\n",
    "\n",
    "my_plot(ts_t, ts_f, rotation=60,\n",
    "        title=\"Comparación número de noticias por mes\",\n",
    "        xlabel=\"Mes\",\n",
    "        ylabel=\"Número de noticias\",)"
   ]
  },
  {
   "cell_type": "markdown",
   "metadata": {},
   "source": [
    "Vemos que las noticias verdaderas se mantienen constantes en los meses, mientras que las noticias falsas se mantienen por debajo de las noticias verdaderas. Sin embargo, esta situación cambia en los últimos meses a partir de agosto. Se puede deber que en esos meses empezaron las presidenciales."
   ]
  },
  {
   "cell_type": "code",
   "execution_count": null,
   "metadata": {
    "ExecuteTime": {
     "end_time": "2020-07-31T23:53:24.657456Z",
     "start_time": "2020-07-31T23:53:24.650475Z"
    }
   },
   "outputs": [],
   "source": [
    "\n",
    "# ts_f = df_fake[\"date\"].apply(lambda x: x.month).value_counts(\n",
    "# ).reset_index().sort_values(by=['index'])\n",
    "# ts_t = df_true[\"date\"].apply(lambda x: x.month).value_counts(\n",
    "# ).reset_index().sort_values(by=['index'])\n",
    "\n",
    "# fig, ax = plt.subplots()  # Create a figure containing a single axes.\n",
    "# ax.plot(ts_f['index'], ts_f['date'])  # Plot some data on the axes.\n",
    "# ax.plot(ts_t['index'], ts_t['date'])\n",
    "# fig.legend(['Verdadera', 'Falsa'])\n",
    "\n",
    "# plt.show()"
   ]
  },
  {
   "cell_type": "code",
   "execution_count": null,
   "metadata": {
    "ExecuteTime": {
     "end_time": "2020-08-01T00:07:38.549081Z",
     "start_time": "2020-08-01T00:07:38.540104Z"
    }
   },
   "outputs": [],
   "source": [
    "# m = {\n",
    "#     1: \"January\", 2: \"February\", 3: \"March\", 4: \"April\",\n",
    "#     5: \"May\", 6: \"June\", 7: \"July\", 8: \"August\",\n",
    "#     9: \"September\", 10: \"Octuber\", 11: \"November\", 12: \"December\"\n",
    "# }\n",
    "\n",
    "# def number2month(n):\n",
    "#     \"\"\"Hace un mapeo del número de un mes, al nombre del mes.\n",
    "#     Retorna None si no se entrega un número entero entre el 1 y el 12.\n",
    "#     \"\"\"\n",
    "#     return m.get(n, None)\n",
    "\n",
    "# def count_year(ser):\n",
    "#     \"\"\"Cuenta los meses y los rotúla.\n",
    "#     \"\"\"\n",
    "#     s = ser.dt.year.map(str).value_counts()#.reset_index().sort_values(by=['index'])\n",
    "# #     s = pd.Series({m[i]:s[m[i]] for i in range(1, 13)})\n",
    "#     return s"
   ]
  },
  {
   "cell_type": "code",
   "execution_count": null,
   "metadata": {
    "ExecuteTime": {
     "end_time": "2020-08-01T00:07:39.553941Z",
     "start_time": "2020-08-01T00:07:39.329496Z"
    }
   },
   "outputs": [],
   "source": [
    "# ts_f = count_year(df_fake[\"date\"])\n",
    "# ts_t = count_year(df_true[\"date\"])\n",
    "\n",
    "# my_plot(ts_t, ts_f, rotation=60,\n",
    "#         title=\"Comparación número de noticias por mes\",\n",
    "#         xlabel=\"Mes\",\n",
    "#         ylabel=\"Número de noticias\",)"
   ]
  },
  {
   "cell_type": "code",
   "execution_count": null,
   "metadata": {
    "ExecuteTime": {
     "end_time": "2020-07-31T23:53:26.142686Z",
     "start_time": "2020-07-31T23:53:24.675409Z"
    }
   },
   "outputs": [],
   "source": [
    "ts_f = df_fake[\"date\"].dropna().apply(lambda x: pd.Timestamp(\n",
    "    x.strftime(\"%Y-%m\"))).value_counts().reset_index().sort_values(by=['index'])\n",
    "ts_t = df_true[\"date\"].dropna().apply(lambda x: pd.Timestamp(\n",
    "    x.strftime(\"%Y-%m\"))).value_counts().reset_index().sort_values(by=['index'])\n",
    "\n",
    "# Create a figure containing a single axes.\n",
    "fig, ax = plt.subplots(figsize=(15, 7))\n",
    "ax.plot(ts_f['index'], ts_f['date'], label= 'Falsa')  # Plot some data on the axes.\n",
    "ax.plot(ts_t['index'], ts_t['date'], label= 'Verdadera')\n",
    "fig.legend()\n",
    "\n",
    "plt\n",
    "plt.show()"
   ]
  },
  {
   "cell_type": "markdown",
   "metadata": {},
   "source": [
    "## Nubes de palabras\n",
    "\n",
    "Se procederá a elaborar las nubes de palabras a partir del cuerpo y el título de las noticias. "
   ]
  },
  {
   "cell_type": "code",
   "execution_count": null,
   "metadata": {},
   "outputs": [],
   "source": [
    "# Importamos las funciones\n",
    "\n",
    "from nltk.probability import FreqDist\n",
    "from nltk.tokenize import sent_tokenize\n",
    "from nltk.tokenize import word_tokenize\n",
    "from nltk.tokenize import RegexpTokenizer\n",
    "from nltk.stem.wordnet import WordNetLemmatizer\n",
    "from nltk.stem.porter import PorterStemmer\n",
    "from nltk.corpus import stopwords\n",
    "stop_words=set(stopwords.words(\"english\"))\n",
    "from wordcloud import WordCloud, STOPWORDS\n",
    "import matplotlib.pyplot as plt\n",
    "\n",
    "tokenizer = RegexpTokenizer(r\"\\w+\")\n",
    "lem = WordNetLemmatizer()\n",
    "stem = PorterStemmer()\n",
    "stop_words.add('thi')"
   ]
  },
  {
   "cell_type": "code",
   "execution_count": null,
   "metadata": {},
   "outputs": [],
   "source": [
    "# Agregamos los signos de puntuación a los stop_words"
   ]
  },
  {
   "cell_type": "code",
   "execution_count": null,
   "metadata": {},
   "outputs": [],
   "source": [
    "# Variables de los nombres de las columnas\n",
    "\n",
    "TITLE = 'title'\n",
    "TEXT= 'text'\n",
    "SUBJECT = 'subject'\n",
    "DATE = 'date'\n",
    "TRUE= 'true'"
   ]
  },
  {
   "cell_type": "code",
   "execution_count": null,
   "metadata": {},
   "outputs": [],
   "source": [
    "def show_wordcloud(data, title = None):\n",
    "    \"\"\"\n",
    "    Retorna la visualización de una nube de palabras.\n",
    "\n",
    "    :Param data: str, string del texto que se busca visualizar. \n",
    "    :Param title: str, título de la figura generada.\n",
    "    \"\"\"\n",
    "    \n",
    "    wordcloud = WordCloud(\n",
    "        background_color='white',\n",
    "        stopwords=stop_words,\n",
    "        max_words=200,\n",
    "        max_font_size=40, \n",
    "        scale=3,\n",
    "        random_state=1 # chosen at random by flipping a coin; it was heads\n",
    "    ).generate(str(data))\n",
    "\n",
    "    fig = plt.figure(1, figsize=(12, 12))\n",
    "    plt.axis('off')\n",
    "    if title: \n",
    "        fig.suptitle(title, fontsize=20)\n",
    "        fig.subplots_adjust(top=2.3)\n",
    "\n",
    "    plt.imshow(wordcloud)\n",
    "    plt.show()"
   ]
  },
  {
   "cell_type": "markdown",
   "metadata": {},
   "source": [
    "### Titulares"
   ]
  },
  {
   "cell_type": "code",
   "execution_count": null,
   "metadata": {},
   "outputs": [],
   "source": [
    "# Titulares noticias falsas\n",
    "FAKE_TITLE = []\n",
    "for i in df[df[TRUE] == 0].index:\n",
    "    FAKE_TITLE.append(df[TITLE][i])\n",
    "\n",
    "# Titulares noticias verdaderas\n",
    "TRUE_TITLE = []\n",
    "for i in df[df[TRUE]== 1].index:\n",
    "    TRUE_TITLE.append(df[TITLE][i])\n",
    "    \n",
    "# Cada elemento de las listas anteriores en la oración original del titular. Ahora debemos tokenizar las oraciones, eliminar\n",
    "# las stopwords y steamizarlas. \n",
    "\n",
    "# Titulares noticias falsas transformados\n",
    "FAKE_=[]\n",
    "for i in FAKE_TITLE:\n",
    "    for j in tokenizer.tokenize(i):\n",
    "        if j.lower() not in stop_words:\n",
    "            FAKE_.append(stem.stem(j))\n",
    "FAKE_TITLE= FAKE_\n",
    "\n",
    "# Titulares noticias verdaderas transformados\n",
    "TRUE_=[]\n",
    "for i in TRUE_TITLE:\n",
    "    for j in tokenizer.tokenize(i):\n",
    "        if j.lower() not in stop_words:\n",
    "            TRUE_.append(stem.stem(j))\n",
    "TRUE_TITLE= TRUE_\n",
    "\n",
    "# Ahora para que el formato de entrada a la función que genera las nubes de palabras sea el correcto, debemos unir la lista \n",
    "# en un solo string. \n",
    "\n",
    "FAKE_TITLE= ' '.join(FAKE_TITLE)\n",
    "TRUE_TITLE= ' '.join(TRUE_TITLE) "
   ]
  },
  {
   "cell_type": "code",
   "execution_count": null,
   "metadata": {},
   "outputs": [],
   "source": [
    "show_wordcloud(TRUE_TITLE, title= 'Titulares de noticias verdaderas')"
   ]
  },
  {
   "cell_type": "code",
   "execution_count": null,
   "metadata": {},
   "outputs": [],
   "source": [
    "show_wordcloud(FAKE_TITLE, title= 'Titulares de noticias falsas')"
   ]
  },
  {
   "cell_type": "markdown",
   "metadata": {},
   "source": [
    "## Cuerpo de la noticia"
   ]
  },
  {
   "cell_type": "code",
   "execution_count": null,
   "metadata": {},
   "outputs": [],
   "source": [
    "# Texto noticias falsas\n",
    "FAKE_TEXT = []\n",
    "for i in df[df[TRUE] == 0].index:\n",
    "    FAKE_TEXT.append(df[TEXT][i])\n",
    "\n",
    "# Texto noticias verdaderas\n",
    "TRUE_TEXT = []\n",
    "for i in df[df[TRUE]== 1].index:\n",
    "    TRUE_TEXT.append(df[TEXT][i])\n",
    "    \n",
    "# Cada elemento de las listas anteriores es el texto original del cuerpo de la noticia. Ahora debemos tokenizar las \n",
    "# oraciones, eliminar las stopwords y steamizarlas. \n",
    "\n",
    "# Titulares noticias falsas transformados\n",
    "FAKE_T=[]\n",
    "for i in FAKE_TEXT:\n",
    "    for j in tokenizer.tokenize(i):\n",
    "        if j.lower() not in stop_words:\n",
    "            FAKE_T.append(stem.stem(j))\n",
    "FAKE_TEXT= FAKE_T\n",
    "\n",
    "# Titulares noticias verdaderas transformados\n",
    "TRUE_T=[]\n",
    "for i in TRUE_TEXT:\n",
    "    for j in tokenizer.tokenize(i):\n",
    "        if j.lower() not in stop_words:\n",
    "            TRUE_T.append(stem.stem(j))\n",
    "TRUE_TEXT= TRUE_T\n",
    "\n",
    "# Ahora para que el formato de entrada a la función que genera las nubes de palabras sea el correcto, debemos unir la lista \n",
    "# en un solo string. \n",
    "\n",
    "FAKE_TEXT= ' '.join(FAKE_TEXT)\n",
    "TRUE_TEXT= ' '.join(TRUE_TEXT) "
   ]
  },
  {
   "cell_type": "code",
   "execution_count": null,
   "metadata": {},
   "outputs": [],
   "source": [
    "show_wordcloud(TRUE_TEXT, title= 'Cuerpo de noticias verdaderas')"
   ]
  },
  {
   "cell_type": "code",
   "execution_count": null,
   "metadata": {},
   "outputs": [],
   "source": [
    "show_wordcloud(FAKE_TEXT, title= 'Cuerpo de noticias falsas')"
   ]
  },
  {
   "cell_type": "markdown",
   "metadata": {},
   "source": [
    "Vale: Lo intenté, pero mi compu quedó K.O. Por lo menos el código tiene toda la pinta de funcionar ajjshja"
   ]
  },
  {
   "cell_type": "markdown",
   "metadata": {},
   "source": [
    "### Tutorial nltk \n",
    "\n",
    "Vale: Ya hice algunos imports y le cambié el nombre a algunas funciones que tenían nombre muy largo. Así que ahora lo voy a explicar: \n",
    "\n",
    "tokenizer = RegexpTokenizer(r\"\\w+\") \n",
    "\n",
    "Lo que hace es separar un string de un párrafo u oración en una lista de strings con las palabras. La diferencia con la función 'word_tokenize', es que RegexpTokenize puede configurarse para aceptar solamente ciertos caracteres. El argumento r\"\\w+\" es para que ignore la puntuación del texto y no la incluya en la lista. Sé que también se puede configurar para ignorar los números, habría que buscar en google el argumento correcto. \n",
    "\n",
    "stem = PorterStemmer()\n",
    "\n",
    "Lo que hace es devolver una palabra o verbo conjugado a su palabra raíz.\n",
    "\n",
    "lem = WordNetLemmatizer()\n",
    "\n",
    "Lo que hace es devolver una palabra o verbo conjugado a su palabra raíz. Dependiendo del segundo argumento que reciba (el primer argumento en el texto como string) puede definir las raices como verbos, pronombres, etc. A diferencia de steamming, relaciona las palabras con su significado, no solamente a partir de la gramática. Esta página (https://www.machinelearningplus.com/nlp/lemmatization-examples-python/) explica que para hacerlo bien hay que usar POS tag, que es otra función que detecta si la palabra es adjetivo, adverbio, sustantivo o verbo, y así WordNetLemmatizer() se puede llamar de forma adecuada para cada palabra.\n",
    "\n",
    "stop_words=set(stopwords.words(\"english\"))\n",
    "\n",
    "Es un set con los pronombres, preposiciones, y otro tipo de palabras que no aportan valor. Usando add se pueden incluir palabras nuevas. \n",
    "\n",
    "A continuación un ejemplo de uso. "
   ]
  },
  {
   "cell_type": "code",
   "execution_count": null,
   "metadata": {},
   "outputs": [],
   "source": [
    "txt= df[TITLE][325]\n",
    "\n",
    "print ( 'El texto original es: ' + txt + '\\n')\n",
    "\n",
    "token_txt= tokenizer.tokenize(txt)\n",
    "\n",
    "print('El texto toquenizado es: ' )\n",
    "print(token_txt)\n",
    "print('\\n')\n",
    "\n",
    "stop_txt=[]\n",
    "for i in token_txt: \n",
    "    if i not in stop_words:\n",
    "        stop_txt.append(i)\n",
    "\n",
    "print('El texto sin stop words es: ' )\n",
    "print(stop_txt)\n",
    "print('\\n')\n",
    "\n",
    "stem_txt= []\n",
    "for i in stop_txt:\n",
    "    stem_txt.append(stem.stem(i))\n",
    "    \n",
    "print('El texto stemizado es: ' )\n",
    "print(stem_txt)  \n"
   ]
  },
  {
   "cell_type": "markdown",
   "metadata": {},
   "source": [
    "PD: Cuando estaba programando las nubes de palabras, me di cuenta de que en las noticias falsas, los títulos van siempre con la primera letra de cada palabra en mayúscula (y en las noticias verdaderas no pasa). Podríamos hacer una predicción sin cambiar eso, para ver si considera las mayúsculas como importantes y después otra usando todo en minúscula, porque igual es la media trampa. "
   ]
  }
 ],
 "metadata": {
  "kernelspec": {
   "display_name": "Python 3",
   "language": "python",
   "name": "python3"
  },
  "language_info": {
   "codemirror_mode": {
    "name": "ipython",
    "version": 3
   },
   "file_extension": ".py",
   "mimetype": "text/x-python",
   "name": "python",
   "nbconvert_exporter": "python",
   "pygments_lexer": "ipython3",
   "version": "3.7.3"
  },
  "toc": {
   "base_numbering": 1,
   "nav_menu": {},
   "number_sections": true,
   "sideBar": true,
   "skip_h1_title": false,
   "title_cell": "Table of Contents",
   "title_sidebar": "Contents",
   "toc_cell": false,
   "toc_position": {},
   "toc_section_display": true,
   "toc_window_display": false
  },
  "varInspector": {
   "cols": {
    "lenName": 16,
    "lenType": 16,
    "lenVar": 40
   },
   "kernels_config": {
    "python": {
     "delete_cmd_postfix": "",
     "delete_cmd_prefix": "del ",
     "library": "var_list.py",
     "varRefreshCmd": "print(var_dic_list())"
    },
    "r": {
     "delete_cmd_postfix": ") ",
     "delete_cmd_prefix": "rm(",
     "library": "var_list.r",
     "varRefreshCmd": "cat(var_dic_list()) "
    }
   },
   "types_to_exclude": [
    "module",
    "function",
    "builtin_function_or_method",
    "instance",
    "_Feature"
   ],
   "window_display": false
  }
 },
 "nbformat": 4,
 "nbformat_minor": 4
}
